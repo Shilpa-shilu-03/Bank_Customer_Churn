{
  "nbformat": 4,
  "nbformat_minor": 0,
  "metadata": {
    "colab": {
      "provenance": [],
      "authorship_tag": "ABX9TyNMj1hHKyN0lO30+CQU2D1D",
      "include_colab_link": true
    },
    "kernelspec": {
      "name": "python3",
      "display_name": "Python 3"
    },
    "language_info": {
      "name": "python"
    }
  },
  "cells": [
    {
      "cell_type": "markdown",
      "metadata": {
        "id": "view-in-github",
        "colab_type": "text"
      },
      "source": [
        "<a href=\"https://colab.research.google.com/github/Shilpa-shilu-03/Bank_Customer_Churn/blob/main/Bank_Customer_Churn_Prediction.ipynb\" target=\"_parent\"><img src=\"https://colab.research.google.com/assets/colab-badge.svg\" alt=\"Open In Colab\"/></a>"
      ]
    },
    {
      "cell_type": "markdown",
      "source": [
        "# **Bank Customers Churn Prediction**"
      ],
      "metadata": {
        "id": "grn9FQskK-sl"
      }
    },
    {
      "cell_type": "markdown",
      "source": [
        "#**Aim** - Predict the Customer Churn for a Bank."
      ],
      "metadata": {
        "id": "MTbhYBa0FVwv"
      }
    },
    {
      "cell_type": "markdown",
      "source": [
        "# **About Dataset**"
      ],
      "metadata": {
        "id": "fIwilBXjUsKL"
      }
    },
    {
      "cell_type": "markdown",
      "source": [
        " Customer churn refers to the phenomenon where customers discontinue their relationship with a company or stop using its products or services. Understanding the factors that contribute to churn is crucial for businesses to retain customers and maintain long-term profitability.\n",
        "\n",
        " The dataset used in this analysis contains information about bank customers, including their demographic details, credit score, account balance, tenure, and various other features. The target variable is \"Exited,\" which indicates whether a customer has churned (1) or not (0)."
      ],
      "metadata": {
        "id": "DeGnUzDnU5W_"
      }
    },
    {
      "cell_type": "markdown",
      "source": [
        "This dataset contains the data of a bank with following columns:\n",
        "\n",
        "\n",
        "1. RowNumber : unused variable\n",
        "2. customer_id : unused variable.\n",
        "3. Surname : unused variable\n",
        "4. credit_score : used as input.\n",
        "5. Geography : used as input.\n",
        "6. gender : used as input.\n",
        "7. age : used as input.\n",
        "8. tenure : used as input.\n",
        "9. balance : used as input.\n",
        "10. products_number : used as input.\n",
        "11. has_credit_card : used as input.\n",
        "12. active_member : used as input.\n",
        "13. estimated_salary : used as input.\n",
        "14. Complain : used as input\n",
        "15. Satisfaction Score : used as input\n",
        "16. Card Type : used as input\n",
        "17. Point Earned : used as input\n",
        "18. Exited : used as the target. 1 if the client has left the bank during some period or 0 if he/she has not."
      ],
      "metadata": {
        "id": "XSOJsxBR5qge"
      }
    },
    {
      "cell_type": "markdown",
      "source": [
        "#1. Importing required libraries"
      ],
      "metadata": {
        "id": "zMJ0FJfsStQG"
      }
    },
    {
      "cell_type": "code",
      "execution_count": 1,
      "metadata": {
        "id": "4iWhdDoTJRUS"
      },
      "outputs": [],
      "source": [
        "import warnings\n",
        "warnings.filterwarnings('ignore')"
      ]
    },
    {
      "cell_type": "code",
      "source": [
        "import pandas as pd\n",
        "import numpy as np\n",
        "import matplotlib.pyplot as plt\n",
        "import seaborn as sns\n",
        "from sklearn.preprocessing import LabelEncoder\n",
        "from sklearn.preprocessing import MinMaxScaler\n",
        "from sklearn.model_selection import train_test_split,GridSearchCV\n",
        "from sklearn.neighbors import KNeighborsClassifier\n",
        "from sklearn.svm import SVC\n",
        "from sklearn.naive_bayes import GaussianNB\n",
        "from sklearn.tree import DecisionTreeClassifier\n",
        "from sklearn.ensemble import RandomForestClassifier\n",
        "from sklearn.ensemble import AdaBoostClassifier\n",
        "from lightgbm import LGBMClassifier\n",
        "from imblearn.over_sampling import SMOTE\n",
        "from sklearn.metrics import accuracy_score,classification_report,ConfusionMatrixDisplay\n",
        "from sklearn.decomposition import PCA\n",
        "from sklearn.feature_selection import SelectKBest,chi2"
      ],
      "metadata": {
        "id": "QFDOPLjPKu9U"
      },
      "execution_count": 2,
      "outputs": []
    },
    {
      "cell_type": "markdown",
      "source": [
        "\n",
        "\n",
        "#2. Loading Dataset\n",
        "\n"
      ],
      "metadata": {
        "id": "hKdxQvtRLKA3"
      }
    },
    {
      "cell_type": "code",
      "source": [
        "df=pd.read_csv('/content/Customer-Churn-Records.csv')\n",
        "df"
      ],
      "metadata": {
        "colab": {
          "base_uri": "https://localhost:8080/",
          "height": 505
        },
        "id": "uYVPfdBwJdaV",
        "outputId": "411f008c-66dd-4e94-fc1e-90c4636f7f09"
      },
      "execution_count": 3,
      "outputs": [
        {
          "output_type": "execute_result",
          "data": {
            "text/plain": [
              "      RowNumber  CustomerId    Surname  CreditScore Geography  Gender  Age  \\\n",
              "0             1    15634602   Hargrave          619    France  Female   42   \n",
              "1             2    15647311       Hill          608     Spain  Female   41   \n",
              "2             3    15619304       Onio          502    France  Female   42   \n",
              "3             4    15701354       Boni          699    France  Female   39   \n",
              "4             5    15737888   Mitchell          850     Spain  Female   43   \n",
              "...         ...         ...        ...          ...       ...     ...  ...   \n",
              "9995       9996    15606229   Obijiaku          771    France    Male   39   \n",
              "9996       9997    15569892  Johnstone          516    France    Male   35   \n",
              "9997       9998    15584532        Liu          709    France  Female   36   \n",
              "9998       9999    15682355  Sabbatini          772   Germany    Male   42   \n",
              "9999      10000    15628319     Walker          792    France  Female   28   \n",
              "\n",
              "      Tenure    Balance  NumOfProducts  HasCrCard  IsActiveMember  \\\n",
              "0          2       0.00              1          1               1   \n",
              "1          1   83807.86              1          0               1   \n",
              "2          8  159660.80              3          1               0   \n",
              "3          1       0.00              2          0               0   \n",
              "4          2  125510.82              1          1               1   \n",
              "...      ...        ...            ...        ...             ...   \n",
              "9995       5       0.00              2          1               0   \n",
              "9996      10   57369.61              1          1               1   \n",
              "9997       7       0.00              1          0               1   \n",
              "9998       3   75075.31              2          1               0   \n",
              "9999       4  130142.79              1          1               0   \n",
              "\n",
              "      EstimatedSalary  Exited  Complain  Satisfaction Score Card Type  \\\n",
              "0           101348.88       1         1                   2   DIAMOND   \n",
              "1           112542.58       0         1                   3   DIAMOND   \n",
              "2           113931.57       1         1                   3   DIAMOND   \n",
              "3            93826.63       0         0                   5      GOLD   \n",
              "4            79084.10       0         0                   5      GOLD   \n",
              "...               ...     ...       ...                 ...       ...   \n",
              "9995         96270.64       0         0                   1   DIAMOND   \n",
              "9996        101699.77       0         0                   5  PLATINUM   \n",
              "9997         42085.58       1         1                   3    SILVER   \n",
              "9998         92888.52       1         1                   2      GOLD   \n",
              "9999         38190.78       0         0                   3   DIAMOND   \n",
              "\n",
              "      Point Earned  \n",
              "0              464  \n",
              "1              456  \n",
              "2              377  \n",
              "3              350  \n",
              "4              425  \n",
              "...            ...  \n",
              "9995           300  \n",
              "9996           771  \n",
              "9997           564  \n",
              "9998           339  \n",
              "9999           911  \n",
              "\n",
              "[10000 rows x 18 columns]"
            ],
            "text/html": [
              "\n",
              "\n",
              "  <div id=\"df-192dc9e1-3673-4b24-b75c-64e5f0d8fe2a\">\n",
              "    <div class=\"colab-df-container\">\n",
              "      <div>\n",
              "<style scoped>\n",
              "    .dataframe tbody tr th:only-of-type {\n",
              "        vertical-align: middle;\n",
              "    }\n",
              "\n",
              "    .dataframe tbody tr th {\n",
              "        vertical-align: top;\n",
              "    }\n",
              "\n",
              "    .dataframe thead th {\n",
              "        text-align: right;\n",
              "    }\n",
              "</style>\n",
              "<table border=\"1\" class=\"dataframe\">\n",
              "  <thead>\n",
              "    <tr style=\"text-align: right;\">\n",
              "      <th></th>\n",
              "      <th>RowNumber</th>\n",
              "      <th>CustomerId</th>\n",
              "      <th>Surname</th>\n",
              "      <th>CreditScore</th>\n",
              "      <th>Geography</th>\n",
              "      <th>Gender</th>\n",
              "      <th>Age</th>\n",
              "      <th>Tenure</th>\n",
              "      <th>Balance</th>\n",
              "      <th>NumOfProducts</th>\n",
              "      <th>HasCrCard</th>\n",
              "      <th>IsActiveMember</th>\n",
              "      <th>EstimatedSalary</th>\n",
              "      <th>Exited</th>\n",
              "      <th>Complain</th>\n",
              "      <th>Satisfaction Score</th>\n",
              "      <th>Card Type</th>\n",
              "      <th>Point Earned</th>\n",
              "    </tr>\n",
              "  </thead>\n",
              "  <tbody>\n",
              "    <tr>\n",
              "      <th>0</th>\n",
              "      <td>1</td>\n",
              "      <td>15634602</td>\n",
              "      <td>Hargrave</td>\n",
              "      <td>619</td>\n",
              "      <td>France</td>\n",
              "      <td>Female</td>\n",
              "      <td>42</td>\n",
              "      <td>2</td>\n",
              "      <td>0.00</td>\n",
              "      <td>1</td>\n",
              "      <td>1</td>\n",
              "      <td>1</td>\n",
              "      <td>101348.88</td>\n",
              "      <td>1</td>\n",
              "      <td>1</td>\n",
              "      <td>2</td>\n",
              "      <td>DIAMOND</td>\n",
              "      <td>464</td>\n",
              "    </tr>\n",
              "    <tr>\n",
              "      <th>1</th>\n",
              "      <td>2</td>\n",
              "      <td>15647311</td>\n",
              "      <td>Hill</td>\n",
              "      <td>608</td>\n",
              "      <td>Spain</td>\n",
              "      <td>Female</td>\n",
              "      <td>41</td>\n",
              "      <td>1</td>\n",
              "      <td>83807.86</td>\n",
              "      <td>1</td>\n",
              "      <td>0</td>\n",
              "      <td>1</td>\n",
              "      <td>112542.58</td>\n",
              "      <td>0</td>\n",
              "      <td>1</td>\n",
              "      <td>3</td>\n",
              "      <td>DIAMOND</td>\n",
              "      <td>456</td>\n",
              "    </tr>\n",
              "    <tr>\n",
              "      <th>2</th>\n",
              "      <td>3</td>\n",
              "      <td>15619304</td>\n",
              "      <td>Onio</td>\n",
              "      <td>502</td>\n",
              "      <td>France</td>\n",
              "      <td>Female</td>\n",
              "      <td>42</td>\n",
              "      <td>8</td>\n",
              "      <td>159660.80</td>\n",
              "      <td>3</td>\n",
              "      <td>1</td>\n",
              "      <td>0</td>\n",
              "      <td>113931.57</td>\n",
              "      <td>1</td>\n",
              "      <td>1</td>\n",
              "      <td>3</td>\n",
              "      <td>DIAMOND</td>\n",
              "      <td>377</td>\n",
              "    </tr>\n",
              "    <tr>\n",
              "      <th>3</th>\n",
              "      <td>4</td>\n",
              "      <td>15701354</td>\n",
              "      <td>Boni</td>\n",
              "      <td>699</td>\n",
              "      <td>France</td>\n",
              "      <td>Female</td>\n",
              "      <td>39</td>\n",
              "      <td>1</td>\n",
              "      <td>0.00</td>\n",
              "      <td>2</td>\n",
              "      <td>0</td>\n",
              "      <td>0</td>\n",
              "      <td>93826.63</td>\n",
              "      <td>0</td>\n",
              "      <td>0</td>\n",
              "      <td>5</td>\n",
              "      <td>GOLD</td>\n",
              "      <td>350</td>\n",
              "    </tr>\n",
              "    <tr>\n",
              "      <th>4</th>\n",
              "      <td>5</td>\n",
              "      <td>15737888</td>\n",
              "      <td>Mitchell</td>\n",
              "      <td>850</td>\n",
              "      <td>Spain</td>\n",
              "      <td>Female</td>\n",
              "      <td>43</td>\n",
              "      <td>2</td>\n",
              "      <td>125510.82</td>\n",
              "      <td>1</td>\n",
              "      <td>1</td>\n",
              "      <td>1</td>\n",
              "      <td>79084.10</td>\n",
              "      <td>0</td>\n",
              "      <td>0</td>\n",
              "      <td>5</td>\n",
              "      <td>GOLD</td>\n",
              "      <td>425</td>\n",
              "    </tr>\n",
              "    <tr>\n",
              "      <th>...</th>\n",
              "      <td>...</td>\n",
              "      <td>...</td>\n",
              "      <td>...</td>\n",
              "      <td>...</td>\n",
              "      <td>...</td>\n",
              "      <td>...</td>\n",
              "      <td>...</td>\n",
              "      <td>...</td>\n",
              "      <td>...</td>\n",
              "      <td>...</td>\n",
              "      <td>...</td>\n",
              "      <td>...</td>\n",
              "      <td>...</td>\n",
              "      <td>...</td>\n",
              "      <td>...</td>\n",
              "      <td>...</td>\n",
              "      <td>...</td>\n",
              "      <td>...</td>\n",
              "    </tr>\n",
              "    <tr>\n",
              "      <th>9995</th>\n",
              "      <td>9996</td>\n",
              "      <td>15606229</td>\n",
              "      <td>Obijiaku</td>\n",
              "      <td>771</td>\n",
              "      <td>France</td>\n",
              "      <td>Male</td>\n",
              "      <td>39</td>\n",
              "      <td>5</td>\n",
              "      <td>0.00</td>\n",
              "      <td>2</td>\n",
              "      <td>1</td>\n",
              "      <td>0</td>\n",
              "      <td>96270.64</td>\n",
              "      <td>0</td>\n",
              "      <td>0</td>\n",
              "      <td>1</td>\n",
              "      <td>DIAMOND</td>\n",
              "      <td>300</td>\n",
              "    </tr>\n",
              "    <tr>\n",
              "      <th>9996</th>\n",
              "      <td>9997</td>\n",
              "      <td>15569892</td>\n",
              "      <td>Johnstone</td>\n",
              "      <td>516</td>\n",
              "      <td>France</td>\n",
              "      <td>Male</td>\n",
              "      <td>35</td>\n",
              "      <td>10</td>\n",
              "      <td>57369.61</td>\n",
              "      <td>1</td>\n",
              "      <td>1</td>\n",
              "      <td>1</td>\n",
              "      <td>101699.77</td>\n",
              "      <td>0</td>\n",
              "      <td>0</td>\n",
              "      <td>5</td>\n",
              "      <td>PLATINUM</td>\n",
              "      <td>771</td>\n",
              "    </tr>\n",
              "    <tr>\n",
              "      <th>9997</th>\n",
              "      <td>9998</td>\n",
              "      <td>15584532</td>\n",
              "      <td>Liu</td>\n",
              "      <td>709</td>\n",
              "      <td>France</td>\n",
              "      <td>Female</td>\n",
              "      <td>36</td>\n",
              "      <td>7</td>\n",
              "      <td>0.00</td>\n",
              "      <td>1</td>\n",
              "      <td>0</td>\n",
              "      <td>1</td>\n",
              "      <td>42085.58</td>\n",
              "      <td>1</td>\n",
              "      <td>1</td>\n",
              "      <td>3</td>\n",
              "      <td>SILVER</td>\n",
              "      <td>564</td>\n",
              "    </tr>\n",
              "    <tr>\n",
              "      <th>9998</th>\n",
              "      <td>9999</td>\n",
              "      <td>15682355</td>\n",
              "      <td>Sabbatini</td>\n",
              "      <td>772</td>\n",
              "      <td>Germany</td>\n",
              "      <td>Male</td>\n",
              "      <td>42</td>\n",
              "      <td>3</td>\n",
              "      <td>75075.31</td>\n",
              "      <td>2</td>\n",
              "      <td>1</td>\n",
              "      <td>0</td>\n",
              "      <td>92888.52</td>\n",
              "      <td>1</td>\n",
              "      <td>1</td>\n",
              "      <td>2</td>\n",
              "      <td>GOLD</td>\n",
              "      <td>339</td>\n",
              "    </tr>\n",
              "    <tr>\n",
              "      <th>9999</th>\n",
              "      <td>10000</td>\n",
              "      <td>15628319</td>\n",
              "      <td>Walker</td>\n",
              "      <td>792</td>\n",
              "      <td>France</td>\n",
              "      <td>Female</td>\n",
              "      <td>28</td>\n",
              "      <td>4</td>\n",
              "      <td>130142.79</td>\n",
              "      <td>1</td>\n",
              "      <td>1</td>\n",
              "      <td>0</td>\n",
              "      <td>38190.78</td>\n",
              "      <td>0</td>\n",
              "      <td>0</td>\n",
              "      <td>3</td>\n",
              "      <td>DIAMOND</td>\n",
              "      <td>911</td>\n",
              "    </tr>\n",
              "  </tbody>\n",
              "</table>\n",
              "<p>10000 rows × 18 columns</p>\n",
              "</div>\n",
              "      <button class=\"colab-df-convert\" onclick=\"convertToInteractive('df-192dc9e1-3673-4b24-b75c-64e5f0d8fe2a')\"\n",
              "              title=\"Convert this dataframe to an interactive table.\"\n",
              "              style=\"display:none;\">\n",
              "\n",
              "  <svg xmlns=\"http://www.w3.org/2000/svg\" height=\"24px\"viewBox=\"0 0 24 24\"\n",
              "       width=\"24px\">\n",
              "    <path d=\"M0 0h24v24H0V0z\" fill=\"none\"/>\n",
              "    <path d=\"M18.56 5.44l.94 2.06.94-2.06 2.06-.94-2.06-.94-.94-2.06-.94 2.06-2.06.94zm-11 1L8.5 8.5l.94-2.06 2.06-.94-2.06-.94L8.5 2.5l-.94 2.06-2.06.94zm10 10l.94 2.06.94-2.06 2.06-.94-2.06-.94-.94-2.06-.94 2.06-2.06.94z\"/><path d=\"M17.41 7.96l-1.37-1.37c-.4-.4-.92-.59-1.43-.59-.52 0-1.04.2-1.43.59L10.3 9.45l-7.72 7.72c-.78.78-.78 2.05 0 2.83L4 21.41c.39.39.9.59 1.41.59.51 0 1.02-.2 1.41-.59l7.78-7.78 2.81-2.81c.8-.78.8-2.07 0-2.86zM5.41 20L4 18.59l7.72-7.72 1.47 1.35L5.41 20z\"/>\n",
              "  </svg>\n",
              "      </button>\n",
              "\n",
              "\n",
              "\n",
              "    <div id=\"df-5df6432e-a1e9-4338-9ce6-ed86928e0a7b\">\n",
              "      <button class=\"colab-df-quickchart\" onclick=\"quickchart('df-5df6432e-a1e9-4338-9ce6-ed86928e0a7b')\"\n",
              "              title=\"Suggest charts.\"\n",
              "              style=\"display:none;\">\n",
              "\n",
              "<svg xmlns=\"http://www.w3.org/2000/svg\" height=\"24px\"viewBox=\"0 0 24 24\"\n",
              "     width=\"24px\">\n",
              "    <g>\n",
              "        <path d=\"M19 3H5c-1.1 0-2 .9-2 2v14c0 1.1.9 2 2 2h14c1.1 0 2-.9 2-2V5c0-1.1-.9-2-2-2zM9 17H7v-7h2v7zm4 0h-2V7h2v10zm4 0h-2v-4h2v4z\"/>\n",
              "    </g>\n",
              "</svg>\n",
              "      </button>\n",
              "    </div>\n",
              "\n",
              "<style>\n",
              "  .colab-df-quickchart {\n",
              "    background-color: #E8F0FE;\n",
              "    border: none;\n",
              "    border-radius: 50%;\n",
              "    cursor: pointer;\n",
              "    display: none;\n",
              "    fill: #1967D2;\n",
              "    height: 32px;\n",
              "    padding: 0 0 0 0;\n",
              "    width: 32px;\n",
              "  }\n",
              "\n",
              "  .colab-df-quickchart:hover {\n",
              "    background-color: #E2EBFA;\n",
              "    box-shadow: 0px 1px 2px rgba(60, 64, 67, 0.3), 0px 1px 3px 1px rgba(60, 64, 67, 0.15);\n",
              "    fill: #174EA6;\n",
              "  }\n",
              "\n",
              "  [theme=dark] .colab-df-quickchart {\n",
              "    background-color: #3B4455;\n",
              "    fill: #D2E3FC;\n",
              "  }\n",
              "\n",
              "  [theme=dark] .colab-df-quickchart:hover {\n",
              "    background-color: #434B5C;\n",
              "    box-shadow: 0px 1px 3px 1px rgba(0, 0, 0, 0.15);\n",
              "    filter: drop-shadow(0px 1px 2px rgba(0, 0, 0, 0.3));\n",
              "    fill: #FFFFFF;\n",
              "  }\n",
              "</style>\n",
              "\n",
              "    <script>\n",
              "      async function quickchart(key) {\n",
              "        const containerElement = document.querySelector('#' + key);\n",
              "        const charts = await google.colab.kernel.invokeFunction(\n",
              "            'suggestCharts', [key], {});\n",
              "      }\n",
              "    </script>\n",
              "\n",
              "      <script>\n",
              "\n",
              "function displayQuickchartButton(domScope) {\n",
              "  let quickchartButtonEl =\n",
              "    domScope.querySelector('#df-5df6432e-a1e9-4338-9ce6-ed86928e0a7b button.colab-df-quickchart');\n",
              "  quickchartButtonEl.style.display =\n",
              "    google.colab.kernel.accessAllowed ? 'block' : 'none';\n",
              "}\n",
              "\n",
              "        displayQuickchartButton(document);\n",
              "      </script>\n",
              "      <style>\n",
              "    .colab-df-container {\n",
              "      display:flex;\n",
              "      flex-wrap:wrap;\n",
              "      gap: 12px;\n",
              "    }\n",
              "\n",
              "    .colab-df-convert {\n",
              "      background-color: #E8F0FE;\n",
              "      border: none;\n",
              "      border-radius: 50%;\n",
              "      cursor: pointer;\n",
              "      display: none;\n",
              "      fill: #1967D2;\n",
              "      height: 32px;\n",
              "      padding: 0 0 0 0;\n",
              "      width: 32px;\n",
              "    }\n",
              "\n",
              "    .colab-df-convert:hover {\n",
              "      background-color: #E2EBFA;\n",
              "      box-shadow: 0px 1px 2px rgba(60, 64, 67, 0.3), 0px 1px 3px 1px rgba(60, 64, 67, 0.15);\n",
              "      fill: #174EA6;\n",
              "    }\n",
              "\n",
              "    [theme=dark] .colab-df-convert {\n",
              "      background-color: #3B4455;\n",
              "      fill: #D2E3FC;\n",
              "    }\n",
              "\n",
              "    [theme=dark] .colab-df-convert:hover {\n",
              "      background-color: #434B5C;\n",
              "      box-shadow: 0px 1px 3px 1px rgba(0, 0, 0, 0.15);\n",
              "      filter: drop-shadow(0px 1px 2px rgba(0, 0, 0, 0.3));\n",
              "      fill: #FFFFFF;\n",
              "    }\n",
              "  </style>\n",
              "\n",
              "      <script>\n",
              "        const buttonEl =\n",
              "          document.querySelector('#df-192dc9e1-3673-4b24-b75c-64e5f0d8fe2a button.colab-df-convert');\n",
              "        buttonEl.style.display =\n",
              "          google.colab.kernel.accessAllowed ? 'block' : 'none';\n",
              "\n",
              "        async function convertToInteractive(key) {\n",
              "          const element = document.querySelector('#df-192dc9e1-3673-4b24-b75c-64e5f0d8fe2a');\n",
              "          const dataTable =\n",
              "            await google.colab.kernel.invokeFunction('convertToInteractive',\n",
              "                                                     [key], {});\n",
              "          if (!dataTable) return;\n",
              "\n",
              "          const docLinkHtml = 'Like what you see? Visit the ' +\n",
              "            '<a target=\"_blank\" href=https://colab.research.google.com/notebooks/data_table.ipynb>data table notebook</a>'\n",
              "            + ' to learn more about interactive tables.';\n",
              "          element.innerHTML = '';\n",
              "          dataTable['output_type'] = 'display_data';\n",
              "          await google.colab.output.renderOutput(dataTable, element);\n",
              "          const docLink = document.createElement('div');\n",
              "          docLink.innerHTML = docLinkHtml;\n",
              "          element.appendChild(docLink);\n",
              "        }\n",
              "      </script>\n",
              "    </div>\n",
              "  </div>\n"
            ]
          },
          "metadata": {},
          "execution_count": 3
        }
      ]
    },
    {
      "cell_type": "markdown",
      "source": [
        "# 3. Exploratory Data Analysis"
      ],
      "metadata": {
        "id": "TYLmPxY9LP_2"
      }
    },
    {
      "cell_type": "code",
      "source": [
        "df.head()"
      ],
      "metadata": {
        "colab": {
          "base_uri": "https://localhost:8080/",
          "height": 287
        },
        "id": "sf3x1BDdLQmp",
        "outputId": "bf305892-a9e2-4af7-8894-a8993e2de74e"
      },
      "execution_count": 4,
      "outputs": [
        {
          "output_type": "execute_result",
          "data": {
            "text/plain": [
              "   RowNumber  CustomerId   Surname  CreditScore Geography  Gender  Age  \\\n",
              "0          1    15634602  Hargrave          619    France  Female   42   \n",
              "1          2    15647311      Hill          608     Spain  Female   41   \n",
              "2          3    15619304      Onio          502    France  Female   42   \n",
              "3          4    15701354      Boni          699    France  Female   39   \n",
              "4          5    15737888  Mitchell          850     Spain  Female   43   \n",
              "\n",
              "   Tenure    Balance  NumOfProducts  HasCrCard  IsActiveMember  \\\n",
              "0       2       0.00              1          1               1   \n",
              "1       1   83807.86              1          0               1   \n",
              "2       8  159660.80              3          1               0   \n",
              "3       1       0.00              2          0               0   \n",
              "4       2  125510.82              1          1               1   \n",
              "\n",
              "   EstimatedSalary  Exited  Complain  Satisfaction Score Card Type  \\\n",
              "0        101348.88       1         1                   2   DIAMOND   \n",
              "1        112542.58       0         1                   3   DIAMOND   \n",
              "2        113931.57       1         1                   3   DIAMOND   \n",
              "3         93826.63       0         0                   5      GOLD   \n",
              "4         79084.10       0         0                   5      GOLD   \n",
              "\n",
              "   Point Earned  \n",
              "0           464  \n",
              "1           456  \n",
              "2           377  \n",
              "3           350  \n",
              "4           425  "
            ],
            "text/html": [
              "\n",
              "\n",
              "  <div id=\"df-5e1c19a0-9b3b-40e8-944a-82c9f911632e\">\n",
              "    <div class=\"colab-df-container\">\n",
              "      <div>\n",
              "<style scoped>\n",
              "    .dataframe tbody tr th:only-of-type {\n",
              "        vertical-align: middle;\n",
              "    }\n",
              "\n",
              "    .dataframe tbody tr th {\n",
              "        vertical-align: top;\n",
              "    }\n",
              "\n",
              "    .dataframe thead th {\n",
              "        text-align: right;\n",
              "    }\n",
              "</style>\n",
              "<table border=\"1\" class=\"dataframe\">\n",
              "  <thead>\n",
              "    <tr style=\"text-align: right;\">\n",
              "      <th></th>\n",
              "      <th>RowNumber</th>\n",
              "      <th>CustomerId</th>\n",
              "      <th>Surname</th>\n",
              "      <th>CreditScore</th>\n",
              "      <th>Geography</th>\n",
              "      <th>Gender</th>\n",
              "      <th>Age</th>\n",
              "      <th>Tenure</th>\n",
              "      <th>Balance</th>\n",
              "      <th>NumOfProducts</th>\n",
              "      <th>HasCrCard</th>\n",
              "      <th>IsActiveMember</th>\n",
              "      <th>EstimatedSalary</th>\n",
              "      <th>Exited</th>\n",
              "      <th>Complain</th>\n",
              "      <th>Satisfaction Score</th>\n",
              "      <th>Card Type</th>\n",
              "      <th>Point Earned</th>\n",
              "    </tr>\n",
              "  </thead>\n",
              "  <tbody>\n",
              "    <tr>\n",
              "      <th>0</th>\n",
              "      <td>1</td>\n",
              "      <td>15634602</td>\n",
              "      <td>Hargrave</td>\n",
              "      <td>619</td>\n",
              "      <td>France</td>\n",
              "      <td>Female</td>\n",
              "      <td>42</td>\n",
              "      <td>2</td>\n",
              "      <td>0.00</td>\n",
              "      <td>1</td>\n",
              "      <td>1</td>\n",
              "      <td>1</td>\n",
              "      <td>101348.88</td>\n",
              "      <td>1</td>\n",
              "      <td>1</td>\n",
              "      <td>2</td>\n",
              "      <td>DIAMOND</td>\n",
              "      <td>464</td>\n",
              "    </tr>\n",
              "    <tr>\n",
              "      <th>1</th>\n",
              "      <td>2</td>\n",
              "      <td>15647311</td>\n",
              "      <td>Hill</td>\n",
              "      <td>608</td>\n",
              "      <td>Spain</td>\n",
              "      <td>Female</td>\n",
              "      <td>41</td>\n",
              "      <td>1</td>\n",
              "      <td>83807.86</td>\n",
              "      <td>1</td>\n",
              "      <td>0</td>\n",
              "      <td>1</td>\n",
              "      <td>112542.58</td>\n",
              "      <td>0</td>\n",
              "      <td>1</td>\n",
              "      <td>3</td>\n",
              "      <td>DIAMOND</td>\n",
              "      <td>456</td>\n",
              "    </tr>\n",
              "    <tr>\n",
              "      <th>2</th>\n",
              "      <td>3</td>\n",
              "      <td>15619304</td>\n",
              "      <td>Onio</td>\n",
              "      <td>502</td>\n",
              "      <td>France</td>\n",
              "      <td>Female</td>\n",
              "      <td>42</td>\n",
              "      <td>8</td>\n",
              "      <td>159660.80</td>\n",
              "      <td>3</td>\n",
              "      <td>1</td>\n",
              "      <td>0</td>\n",
              "      <td>113931.57</td>\n",
              "      <td>1</td>\n",
              "      <td>1</td>\n",
              "      <td>3</td>\n",
              "      <td>DIAMOND</td>\n",
              "      <td>377</td>\n",
              "    </tr>\n",
              "    <tr>\n",
              "      <th>3</th>\n",
              "      <td>4</td>\n",
              "      <td>15701354</td>\n",
              "      <td>Boni</td>\n",
              "      <td>699</td>\n",
              "      <td>France</td>\n",
              "      <td>Female</td>\n",
              "      <td>39</td>\n",
              "      <td>1</td>\n",
              "      <td>0.00</td>\n",
              "      <td>2</td>\n",
              "      <td>0</td>\n",
              "      <td>0</td>\n",
              "      <td>93826.63</td>\n",
              "      <td>0</td>\n",
              "      <td>0</td>\n",
              "      <td>5</td>\n",
              "      <td>GOLD</td>\n",
              "      <td>350</td>\n",
              "    </tr>\n",
              "    <tr>\n",
              "      <th>4</th>\n",
              "      <td>5</td>\n",
              "      <td>15737888</td>\n",
              "      <td>Mitchell</td>\n",
              "      <td>850</td>\n",
              "      <td>Spain</td>\n",
              "      <td>Female</td>\n",
              "      <td>43</td>\n",
              "      <td>2</td>\n",
              "      <td>125510.82</td>\n",
              "      <td>1</td>\n",
              "      <td>1</td>\n",
              "      <td>1</td>\n",
              "      <td>79084.10</td>\n",
              "      <td>0</td>\n",
              "      <td>0</td>\n",
              "      <td>5</td>\n",
              "      <td>GOLD</td>\n",
              "      <td>425</td>\n",
              "    </tr>\n",
              "  </tbody>\n",
              "</table>\n",
              "</div>\n",
              "      <button class=\"colab-df-convert\" onclick=\"convertToInteractive('df-5e1c19a0-9b3b-40e8-944a-82c9f911632e')\"\n",
              "              title=\"Convert this dataframe to an interactive table.\"\n",
              "              style=\"display:none;\">\n",
              "\n",
              "  <svg xmlns=\"http://www.w3.org/2000/svg\" height=\"24px\"viewBox=\"0 0 24 24\"\n",
              "       width=\"24px\">\n",
              "    <path d=\"M0 0h24v24H0V0z\" fill=\"none\"/>\n",
              "    <path d=\"M18.56 5.44l.94 2.06.94-2.06 2.06-.94-2.06-.94-.94-2.06-.94 2.06-2.06.94zm-11 1L8.5 8.5l.94-2.06 2.06-.94-2.06-.94L8.5 2.5l-.94 2.06-2.06.94zm10 10l.94 2.06.94-2.06 2.06-.94-2.06-.94-.94-2.06-.94 2.06-2.06.94z\"/><path d=\"M17.41 7.96l-1.37-1.37c-.4-.4-.92-.59-1.43-.59-.52 0-1.04.2-1.43.59L10.3 9.45l-7.72 7.72c-.78.78-.78 2.05 0 2.83L4 21.41c.39.39.9.59 1.41.59.51 0 1.02-.2 1.41-.59l7.78-7.78 2.81-2.81c.8-.78.8-2.07 0-2.86zM5.41 20L4 18.59l7.72-7.72 1.47 1.35L5.41 20z\"/>\n",
              "  </svg>\n",
              "      </button>\n",
              "\n",
              "\n",
              "\n",
              "    <div id=\"df-6ce4172e-82ba-481e-8461-2b276f79a35c\">\n",
              "      <button class=\"colab-df-quickchart\" onclick=\"quickchart('df-6ce4172e-82ba-481e-8461-2b276f79a35c')\"\n",
              "              title=\"Suggest charts.\"\n",
              "              style=\"display:none;\">\n",
              "\n",
              "<svg xmlns=\"http://www.w3.org/2000/svg\" height=\"24px\"viewBox=\"0 0 24 24\"\n",
              "     width=\"24px\">\n",
              "    <g>\n",
              "        <path d=\"M19 3H5c-1.1 0-2 .9-2 2v14c0 1.1.9 2 2 2h14c1.1 0 2-.9 2-2V5c0-1.1-.9-2-2-2zM9 17H7v-7h2v7zm4 0h-2V7h2v10zm4 0h-2v-4h2v4z\"/>\n",
              "    </g>\n",
              "</svg>\n",
              "      </button>\n",
              "    </div>\n",
              "\n",
              "<style>\n",
              "  .colab-df-quickchart {\n",
              "    background-color: #E8F0FE;\n",
              "    border: none;\n",
              "    border-radius: 50%;\n",
              "    cursor: pointer;\n",
              "    display: none;\n",
              "    fill: #1967D2;\n",
              "    height: 32px;\n",
              "    padding: 0 0 0 0;\n",
              "    width: 32px;\n",
              "  }\n",
              "\n",
              "  .colab-df-quickchart:hover {\n",
              "    background-color: #E2EBFA;\n",
              "    box-shadow: 0px 1px 2px rgba(60, 64, 67, 0.3), 0px 1px 3px 1px rgba(60, 64, 67, 0.15);\n",
              "    fill: #174EA6;\n",
              "  }\n",
              "\n",
              "  [theme=dark] .colab-df-quickchart {\n",
              "    background-color: #3B4455;\n",
              "    fill: #D2E3FC;\n",
              "  }\n",
              "\n",
              "  [theme=dark] .colab-df-quickchart:hover {\n",
              "    background-color: #434B5C;\n",
              "    box-shadow: 0px 1px 3px 1px rgba(0, 0, 0, 0.15);\n",
              "    filter: drop-shadow(0px 1px 2px rgba(0, 0, 0, 0.3));\n",
              "    fill: #FFFFFF;\n",
              "  }\n",
              "</style>\n",
              "\n",
              "    <script>\n",
              "      async function quickchart(key) {\n",
              "        const containerElement = document.querySelector('#' + key);\n",
              "        const charts = await google.colab.kernel.invokeFunction(\n",
              "            'suggestCharts', [key], {});\n",
              "      }\n",
              "    </script>\n",
              "\n",
              "      <script>\n",
              "\n",
              "function displayQuickchartButton(domScope) {\n",
              "  let quickchartButtonEl =\n",
              "    domScope.querySelector('#df-6ce4172e-82ba-481e-8461-2b276f79a35c button.colab-df-quickchart');\n",
              "  quickchartButtonEl.style.display =\n",
              "    google.colab.kernel.accessAllowed ? 'block' : 'none';\n",
              "}\n",
              "\n",
              "        displayQuickchartButton(document);\n",
              "      </script>\n",
              "      <style>\n",
              "    .colab-df-container {\n",
              "      display:flex;\n",
              "      flex-wrap:wrap;\n",
              "      gap: 12px;\n",
              "    }\n",
              "\n",
              "    .colab-df-convert {\n",
              "      background-color: #E8F0FE;\n",
              "      border: none;\n",
              "      border-radius: 50%;\n",
              "      cursor: pointer;\n",
              "      display: none;\n",
              "      fill: #1967D2;\n",
              "      height: 32px;\n",
              "      padding: 0 0 0 0;\n",
              "      width: 32px;\n",
              "    }\n",
              "\n",
              "    .colab-df-convert:hover {\n",
              "      background-color: #E2EBFA;\n",
              "      box-shadow: 0px 1px 2px rgba(60, 64, 67, 0.3), 0px 1px 3px 1px rgba(60, 64, 67, 0.15);\n",
              "      fill: #174EA6;\n",
              "    }\n",
              "\n",
              "    [theme=dark] .colab-df-convert {\n",
              "      background-color: #3B4455;\n",
              "      fill: #D2E3FC;\n",
              "    }\n",
              "\n",
              "    [theme=dark] .colab-df-convert:hover {\n",
              "      background-color: #434B5C;\n",
              "      box-shadow: 0px 1px 3px 1px rgba(0, 0, 0, 0.15);\n",
              "      filter: drop-shadow(0px 1px 2px rgba(0, 0, 0, 0.3));\n",
              "      fill: #FFFFFF;\n",
              "    }\n",
              "  </style>\n",
              "\n",
              "      <script>\n",
              "        const buttonEl =\n",
              "          document.querySelector('#df-5e1c19a0-9b3b-40e8-944a-82c9f911632e button.colab-df-convert');\n",
              "        buttonEl.style.display =\n",
              "          google.colab.kernel.accessAllowed ? 'block' : 'none';\n",
              "\n",
              "        async function convertToInteractive(key) {\n",
              "          const element = document.querySelector('#df-5e1c19a0-9b3b-40e8-944a-82c9f911632e');\n",
              "          const dataTable =\n",
              "            await google.colab.kernel.invokeFunction('convertToInteractive',\n",
              "                                                     [key], {});\n",
              "          if (!dataTable) return;\n",
              "\n",
              "          const docLinkHtml = 'Like what you see? Visit the ' +\n",
              "            '<a target=\"_blank\" href=https://colab.research.google.com/notebooks/data_table.ipynb>data table notebook</a>'\n",
              "            + ' to learn more about interactive tables.';\n",
              "          element.innerHTML = '';\n",
              "          dataTable['output_type'] = 'display_data';\n",
              "          await google.colab.output.renderOutput(dataTable, element);\n",
              "          const docLink = document.createElement('div');\n",
              "          docLink.innerHTML = docLinkHtml;\n",
              "          element.appendChild(docLink);\n",
              "        }\n",
              "      </script>\n",
              "    </div>\n",
              "  </div>\n"
            ]
          },
          "metadata": {},
          "execution_count": 4
        }
      ]
    },
    {
      "cell_type": "code",
      "source": [
        "df.drop(['RowNumber','Surname'],axis=1,inplace=True)\n",
        "df"
      ],
      "metadata": {
        "colab": {
          "base_uri": "https://localhost:8080/",
          "height": 505
        },
        "id": "pYGr1p9sLYmy",
        "outputId": "03d59d14-4c38-4759-db51-1378a853d131"
      },
      "execution_count": 5,
      "outputs": [
        {
          "output_type": "execute_result",
          "data": {
            "text/plain": [
              "      CustomerId  CreditScore Geography  Gender  Age  Tenure    Balance  \\\n",
              "0       15634602          619    France  Female   42       2       0.00   \n",
              "1       15647311          608     Spain  Female   41       1   83807.86   \n",
              "2       15619304          502    France  Female   42       8  159660.80   \n",
              "3       15701354          699    France  Female   39       1       0.00   \n",
              "4       15737888          850     Spain  Female   43       2  125510.82   \n",
              "...          ...          ...       ...     ...  ...     ...        ...   \n",
              "9995    15606229          771    France    Male   39       5       0.00   \n",
              "9996    15569892          516    France    Male   35      10   57369.61   \n",
              "9997    15584532          709    France  Female   36       7       0.00   \n",
              "9998    15682355          772   Germany    Male   42       3   75075.31   \n",
              "9999    15628319          792    France  Female   28       4  130142.79   \n",
              "\n",
              "      NumOfProducts  HasCrCard  IsActiveMember  EstimatedSalary  Exited  \\\n",
              "0                 1          1               1        101348.88       1   \n",
              "1                 1          0               1        112542.58       0   \n",
              "2                 3          1               0        113931.57       1   \n",
              "3                 2          0               0         93826.63       0   \n",
              "4                 1          1               1         79084.10       0   \n",
              "...             ...        ...             ...              ...     ...   \n",
              "9995              2          1               0         96270.64       0   \n",
              "9996              1          1               1        101699.77       0   \n",
              "9997              1          0               1         42085.58       1   \n",
              "9998              2          1               0         92888.52       1   \n",
              "9999              1          1               0         38190.78       0   \n",
              "\n",
              "      Complain  Satisfaction Score Card Type  Point Earned  \n",
              "0            1                   2   DIAMOND           464  \n",
              "1            1                   3   DIAMOND           456  \n",
              "2            1                   3   DIAMOND           377  \n",
              "3            0                   5      GOLD           350  \n",
              "4            0                   5      GOLD           425  \n",
              "...        ...                 ...       ...           ...  \n",
              "9995         0                   1   DIAMOND           300  \n",
              "9996         0                   5  PLATINUM           771  \n",
              "9997         1                   3    SILVER           564  \n",
              "9998         1                   2      GOLD           339  \n",
              "9999         0                   3   DIAMOND           911  \n",
              "\n",
              "[10000 rows x 16 columns]"
            ],
            "text/html": [
              "\n",
              "\n",
              "  <div id=\"df-7bea96d9-dd87-43a0-ad49-8ebfc54f978e\">\n",
              "    <div class=\"colab-df-container\">\n",
              "      <div>\n",
              "<style scoped>\n",
              "    .dataframe tbody tr th:only-of-type {\n",
              "        vertical-align: middle;\n",
              "    }\n",
              "\n",
              "    .dataframe tbody tr th {\n",
              "        vertical-align: top;\n",
              "    }\n",
              "\n",
              "    .dataframe thead th {\n",
              "        text-align: right;\n",
              "    }\n",
              "</style>\n",
              "<table border=\"1\" class=\"dataframe\">\n",
              "  <thead>\n",
              "    <tr style=\"text-align: right;\">\n",
              "      <th></th>\n",
              "      <th>CustomerId</th>\n",
              "      <th>CreditScore</th>\n",
              "      <th>Geography</th>\n",
              "      <th>Gender</th>\n",
              "      <th>Age</th>\n",
              "      <th>Tenure</th>\n",
              "      <th>Balance</th>\n",
              "      <th>NumOfProducts</th>\n",
              "      <th>HasCrCard</th>\n",
              "      <th>IsActiveMember</th>\n",
              "      <th>EstimatedSalary</th>\n",
              "      <th>Exited</th>\n",
              "      <th>Complain</th>\n",
              "      <th>Satisfaction Score</th>\n",
              "      <th>Card Type</th>\n",
              "      <th>Point Earned</th>\n",
              "    </tr>\n",
              "  </thead>\n",
              "  <tbody>\n",
              "    <tr>\n",
              "      <th>0</th>\n",
              "      <td>15634602</td>\n",
              "      <td>619</td>\n",
              "      <td>France</td>\n",
              "      <td>Female</td>\n",
              "      <td>42</td>\n",
              "      <td>2</td>\n",
              "      <td>0.00</td>\n",
              "      <td>1</td>\n",
              "      <td>1</td>\n",
              "      <td>1</td>\n",
              "      <td>101348.88</td>\n",
              "      <td>1</td>\n",
              "      <td>1</td>\n",
              "      <td>2</td>\n",
              "      <td>DIAMOND</td>\n",
              "      <td>464</td>\n",
              "    </tr>\n",
              "    <tr>\n",
              "      <th>1</th>\n",
              "      <td>15647311</td>\n",
              "      <td>608</td>\n",
              "      <td>Spain</td>\n",
              "      <td>Female</td>\n",
              "      <td>41</td>\n",
              "      <td>1</td>\n",
              "      <td>83807.86</td>\n",
              "      <td>1</td>\n",
              "      <td>0</td>\n",
              "      <td>1</td>\n",
              "      <td>112542.58</td>\n",
              "      <td>0</td>\n",
              "      <td>1</td>\n",
              "      <td>3</td>\n",
              "      <td>DIAMOND</td>\n",
              "      <td>456</td>\n",
              "    </tr>\n",
              "    <tr>\n",
              "      <th>2</th>\n",
              "      <td>15619304</td>\n",
              "      <td>502</td>\n",
              "      <td>France</td>\n",
              "      <td>Female</td>\n",
              "      <td>42</td>\n",
              "      <td>8</td>\n",
              "      <td>159660.80</td>\n",
              "      <td>3</td>\n",
              "      <td>1</td>\n",
              "      <td>0</td>\n",
              "      <td>113931.57</td>\n",
              "      <td>1</td>\n",
              "      <td>1</td>\n",
              "      <td>3</td>\n",
              "      <td>DIAMOND</td>\n",
              "      <td>377</td>\n",
              "    </tr>\n",
              "    <tr>\n",
              "      <th>3</th>\n",
              "      <td>15701354</td>\n",
              "      <td>699</td>\n",
              "      <td>France</td>\n",
              "      <td>Female</td>\n",
              "      <td>39</td>\n",
              "      <td>1</td>\n",
              "      <td>0.00</td>\n",
              "      <td>2</td>\n",
              "      <td>0</td>\n",
              "      <td>0</td>\n",
              "      <td>93826.63</td>\n",
              "      <td>0</td>\n",
              "      <td>0</td>\n",
              "      <td>5</td>\n",
              "      <td>GOLD</td>\n",
              "      <td>350</td>\n",
              "    </tr>\n",
              "    <tr>\n",
              "      <th>4</th>\n",
              "      <td>15737888</td>\n",
              "      <td>850</td>\n",
              "      <td>Spain</td>\n",
              "      <td>Female</td>\n",
              "      <td>43</td>\n",
              "      <td>2</td>\n",
              "      <td>125510.82</td>\n",
              "      <td>1</td>\n",
              "      <td>1</td>\n",
              "      <td>1</td>\n",
              "      <td>79084.10</td>\n",
              "      <td>0</td>\n",
              "      <td>0</td>\n",
              "      <td>5</td>\n",
              "      <td>GOLD</td>\n",
              "      <td>425</td>\n",
              "    </tr>\n",
              "    <tr>\n",
              "      <th>...</th>\n",
              "      <td>...</td>\n",
              "      <td>...</td>\n",
              "      <td>...</td>\n",
              "      <td>...</td>\n",
              "      <td>...</td>\n",
              "      <td>...</td>\n",
              "      <td>...</td>\n",
              "      <td>...</td>\n",
              "      <td>...</td>\n",
              "      <td>...</td>\n",
              "      <td>...</td>\n",
              "      <td>...</td>\n",
              "      <td>...</td>\n",
              "      <td>...</td>\n",
              "      <td>...</td>\n",
              "      <td>...</td>\n",
              "    </tr>\n",
              "    <tr>\n",
              "      <th>9995</th>\n",
              "      <td>15606229</td>\n",
              "      <td>771</td>\n",
              "      <td>France</td>\n",
              "      <td>Male</td>\n",
              "      <td>39</td>\n",
              "      <td>5</td>\n",
              "      <td>0.00</td>\n",
              "      <td>2</td>\n",
              "      <td>1</td>\n",
              "      <td>0</td>\n",
              "      <td>96270.64</td>\n",
              "      <td>0</td>\n",
              "      <td>0</td>\n",
              "      <td>1</td>\n",
              "      <td>DIAMOND</td>\n",
              "      <td>300</td>\n",
              "    </tr>\n",
              "    <tr>\n",
              "      <th>9996</th>\n",
              "      <td>15569892</td>\n",
              "      <td>516</td>\n",
              "      <td>France</td>\n",
              "      <td>Male</td>\n",
              "      <td>35</td>\n",
              "      <td>10</td>\n",
              "      <td>57369.61</td>\n",
              "      <td>1</td>\n",
              "      <td>1</td>\n",
              "      <td>1</td>\n",
              "      <td>101699.77</td>\n",
              "      <td>0</td>\n",
              "      <td>0</td>\n",
              "      <td>5</td>\n",
              "      <td>PLATINUM</td>\n",
              "      <td>771</td>\n",
              "    </tr>\n",
              "    <tr>\n",
              "      <th>9997</th>\n",
              "      <td>15584532</td>\n",
              "      <td>709</td>\n",
              "      <td>France</td>\n",
              "      <td>Female</td>\n",
              "      <td>36</td>\n",
              "      <td>7</td>\n",
              "      <td>0.00</td>\n",
              "      <td>1</td>\n",
              "      <td>0</td>\n",
              "      <td>1</td>\n",
              "      <td>42085.58</td>\n",
              "      <td>1</td>\n",
              "      <td>1</td>\n",
              "      <td>3</td>\n",
              "      <td>SILVER</td>\n",
              "      <td>564</td>\n",
              "    </tr>\n",
              "    <tr>\n",
              "      <th>9998</th>\n",
              "      <td>15682355</td>\n",
              "      <td>772</td>\n",
              "      <td>Germany</td>\n",
              "      <td>Male</td>\n",
              "      <td>42</td>\n",
              "      <td>3</td>\n",
              "      <td>75075.31</td>\n",
              "      <td>2</td>\n",
              "      <td>1</td>\n",
              "      <td>0</td>\n",
              "      <td>92888.52</td>\n",
              "      <td>1</td>\n",
              "      <td>1</td>\n",
              "      <td>2</td>\n",
              "      <td>GOLD</td>\n",
              "      <td>339</td>\n",
              "    </tr>\n",
              "    <tr>\n",
              "      <th>9999</th>\n",
              "      <td>15628319</td>\n",
              "      <td>792</td>\n",
              "      <td>France</td>\n",
              "      <td>Female</td>\n",
              "      <td>28</td>\n",
              "      <td>4</td>\n",
              "      <td>130142.79</td>\n",
              "      <td>1</td>\n",
              "      <td>1</td>\n",
              "      <td>0</td>\n",
              "      <td>38190.78</td>\n",
              "      <td>0</td>\n",
              "      <td>0</td>\n",
              "      <td>3</td>\n",
              "      <td>DIAMOND</td>\n",
              "      <td>911</td>\n",
              "    </tr>\n",
              "  </tbody>\n",
              "</table>\n",
              "<p>10000 rows × 16 columns</p>\n",
              "</div>\n",
              "      <button class=\"colab-df-convert\" onclick=\"convertToInteractive('df-7bea96d9-dd87-43a0-ad49-8ebfc54f978e')\"\n",
              "              title=\"Convert this dataframe to an interactive table.\"\n",
              "              style=\"display:none;\">\n",
              "\n",
              "  <svg xmlns=\"http://www.w3.org/2000/svg\" height=\"24px\"viewBox=\"0 0 24 24\"\n",
              "       width=\"24px\">\n",
              "    <path d=\"M0 0h24v24H0V0z\" fill=\"none\"/>\n",
              "    <path d=\"M18.56 5.44l.94 2.06.94-2.06 2.06-.94-2.06-.94-.94-2.06-.94 2.06-2.06.94zm-11 1L8.5 8.5l.94-2.06 2.06-.94-2.06-.94L8.5 2.5l-.94 2.06-2.06.94zm10 10l.94 2.06.94-2.06 2.06-.94-2.06-.94-.94-2.06-.94 2.06-2.06.94z\"/><path d=\"M17.41 7.96l-1.37-1.37c-.4-.4-.92-.59-1.43-.59-.52 0-1.04.2-1.43.59L10.3 9.45l-7.72 7.72c-.78.78-.78 2.05 0 2.83L4 21.41c.39.39.9.59 1.41.59.51 0 1.02-.2 1.41-.59l7.78-7.78 2.81-2.81c.8-.78.8-2.07 0-2.86zM5.41 20L4 18.59l7.72-7.72 1.47 1.35L5.41 20z\"/>\n",
              "  </svg>\n",
              "      </button>\n",
              "\n",
              "\n",
              "\n",
              "    <div id=\"df-58052419-6966-47b8-86cb-fa34e6207043\">\n",
              "      <button class=\"colab-df-quickchart\" onclick=\"quickchart('df-58052419-6966-47b8-86cb-fa34e6207043')\"\n",
              "              title=\"Suggest charts.\"\n",
              "              style=\"display:none;\">\n",
              "\n",
              "<svg xmlns=\"http://www.w3.org/2000/svg\" height=\"24px\"viewBox=\"0 0 24 24\"\n",
              "     width=\"24px\">\n",
              "    <g>\n",
              "        <path d=\"M19 3H5c-1.1 0-2 .9-2 2v14c0 1.1.9 2 2 2h14c1.1 0 2-.9 2-2V5c0-1.1-.9-2-2-2zM9 17H7v-7h2v7zm4 0h-2V7h2v10zm4 0h-2v-4h2v4z\"/>\n",
              "    </g>\n",
              "</svg>\n",
              "      </button>\n",
              "    </div>\n",
              "\n",
              "<style>\n",
              "  .colab-df-quickchart {\n",
              "    background-color: #E8F0FE;\n",
              "    border: none;\n",
              "    border-radius: 50%;\n",
              "    cursor: pointer;\n",
              "    display: none;\n",
              "    fill: #1967D2;\n",
              "    height: 32px;\n",
              "    padding: 0 0 0 0;\n",
              "    width: 32px;\n",
              "  }\n",
              "\n",
              "  .colab-df-quickchart:hover {\n",
              "    background-color: #E2EBFA;\n",
              "    box-shadow: 0px 1px 2px rgba(60, 64, 67, 0.3), 0px 1px 3px 1px rgba(60, 64, 67, 0.15);\n",
              "    fill: #174EA6;\n",
              "  }\n",
              "\n",
              "  [theme=dark] .colab-df-quickchart {\n",
              "    background-color: #3B4455;\n",
              "    fill: #D2E3FC;\n",
              "  }\n",
              "\n",
              "  [theme=dark] .colab-df-quickchart:hover {\n",
              "    background-color: #434B5C;\n",
              "    box-shadow: 0px 1px 3px 1px rgba(0, 0, 0, 0.15);\n",
              "    filter: drop-shadow(0px 1px 2px rgba(0, 0, 0, 0.3));\n",
              "    fill: #FFFFFF;\n",
              "  }\n",
              "</style>\n",
              "\n",
              "    <script>\n",
              "      async function quickchart(key) {\n",
              "        const containerElement = document.querySelector('#' + key);\n",
              "        const charts = await google.colab.kernel.invokeFunction(\n",
              "            'suggestCharts', [key], {});\n",
              "      }\n",
              "    </script>\n",
              "\n",
              "      <script>\n",
              "\n",
              "function displayQuickchartButton(domScope) {\n",
              "  let quickchartButtonEl =\n",
              "    domScope.querySelector('#df-58052419-6966-47b8-86cb-fa34e6207043 button.colab-df-quickchart');\n",
              "  quickchartButtonEl.style.display =\n",
              "    google.colab.kernel.accessAllowed ? 'block' : 'none';\n",
              "}\n",
              "\n",
              "        displayQuickchartButton(document);\n",
              "      </script>\n",
              "      <style>\n",
              "    .colab-df-container {\n",
              "      display:flex;\n",
              "      flex-wrap:wrap;\n",
              "      gap: 12px;\n",
              "    }\n",
              "\n",
              "    .colab-df-convert {\n",
              "      background-color: #E8F0FE;\n",
              "      border: none;\n",
              "      border-radius: 50%;\n",
              "      cursor: pointer;\n",
              "      display: none;\n",
              "      fill: #1967D2;\n",
              "      height: 32px;\n",
              "      padding: 0 0 0 0;\n",
              "      width: 32px;\n",
              "    }\n",
              "\n",
              "    .colab-df-convert:hover {\n",
              "      background-color: #E2EBFA;\n",
              "      box-shadow: 0px 1px 2px rgba(60, 64, 67, 0.3), 0px 1px 3px 1px rgba(60, 64, 67, 0.15);\n",
              "      fill: #174EA6;\n",
              "    }\n",
              "\n",
              "    [theme=dark] .colab-df-convert {\n",
              "      background-color: #3B4455;\n",
              "      fill: #D2E3FC;\n",
              "    }\n",
              "\n",
              "    [theme=dark] .colab-df-convert:hover {\n",
              "      background-color: #434B5C;\n",
              "      box-shadow: 0px 1px 3px 1px rgba(0, 0, 0, 0.15);\n",
              "      filter: drop-shadow(0px 1px 2px rgba(0, 0, 0, 0.3));\n",
              "      fill: #FFFFFF;\n",
              "    }\n",
              "  </style>\n",
              "\n",
              "      <script>\n",
              "        const buttonEl =\n",
              "          document.querySelector('#df-7bea96d9-dd87-43a0-ad49-8ebfc54f978e button.colab-df-convert');\n",
              "        buttonEl.style.display =\n",
              "          google.colab.kernel.accessAllowed ? 'block' : 'none';\n",
              "\n",
              "        async function convertToInteractive(key) {\n",
              "          const element = document.querySelector('#df-7bea96d9-dd87-43a0-ad49-8ebfc54f978e');\n",
              "          const dataTable =\n",
              "            await google.colab.kernel.invokeFunction('convertToInteractive',\n",
              "                                                     [key], {});\n",
              "          if (!dataTable) return;\n",
              "\n",
              "          const docLinkHtml = 'Like what you see? Visit the ' +\n",
              "            '<a target=\"_blank\" href=https://colab.research.google.com/notebooks/data_table.ipynb>data table notebook</a>'\n",
              "            + ' to learn more about interactive tables.';\n",
              "          element.innerHTML = '';\n",
              "          dataTable['output_type'] = 'display_data';\n",
              "          await google.colab.output.renderOutput(dataTable, element);\n",
              "          const docLink = document.createElement('div');\n",
              "          docLink.innerHTML = docLinkHtml;\n",
              "          element.appendChild(docLink);\n",
              "        }\n",
              "      </script>\n",
              "    </div>\n",
              "  </div>\n"
            ]
          },
          "metadata": {},
          "execution_count": 5
        }
      ]
    },
    {
      "cell_type": "code",
      "source": [
        "df.info()"
      ],
      "metadata": {
        "colab": {
          "base_uri": "https://localhost:8080/"
        },
        "id": "I6uM8wvXVaYz",
        "outputId": "10c61d82-3446-4803-d005-066899e5453f"
      },
      "execution_count": 6,
      "outputs": [
        {
          "output_type": "stream",
          "name": "stdout",
          "text": [
            "<class 'pandas.core.frame.DataFrame'>\n",
            "RangeIndex: 10000 entries, 0 to 9999\n",
            "Data columns (total 16 columns):\n",
            " #   Column              Non-Null Count  Dtype  \n",
            "---  ------              --------------  -----  \n",
            " 0   CustomerId          10000 non-null  int64  \n",
            " 1   CreditScore         10000 non-null  int64  \n",
            " 2   Geography           10000 non-null  object \n",
            " 3   Gender              10000 non-null  object \n",
            " 4   Age                 10000 non-null  int64  \n",
            " 5   Tenure              10000 non-null  int64  \n",
            " 6   Balance             10000 non-null  float64\n",
            " 7   NumOfProducts       10000 non-null  int64  \n",
            " 8   HasCrCard           10000 non-null  int64  \n",
            " 9   IsActiveMember      10000 non-null  int64  \n",
            " 10  EstimatedSalary     10000 non-null  float64\n",
            " 11  Exited              10000 non-null  int64  \n",
            " 12  Complain            10000 non-null  int64  \n",
            " 13  Satisfaction Score  10000 non-null  int64  \n",
            " 14  Card Type           10000 non-null  object \n",
            " 15  Point Earned        10000 non-null  int64  \n",
            "dtypes: float64(2), int64(11), object(3)\n",
            "memory usage: 1.2+ MB\n"
          ]
        }
      ]
    },
    {
      "cell_type": "code",
      "source": [
        "df.describe()"
      ],
      "metadata": {
        "colab": {
          "base_uri": "https://localhost:8080/",
          "height": 381
        },
        "id": "bW018Gw9Pmbo",
        "outputId": "6413a3ec-625d-457d-9e33-1024eb122767"
      },
      "execution_count": 7,
      "outputs": [
        {
          "output_type": "execute_result",
          "data": {
            "text/plain": [
              "         CustomerId   CreditScore           Age        Tenure        Balance  \\\n",
              "count  1.000000e+04  10000.000000  10000.000000  10000.000000   10000.000000   \n",
              "mean   1.569094e+07    650.528800     38.921800      5.012800   76485.889288   \n",
              "std    7.193619e+04     96.653299     10.487806      2.892174   62397.405202   \n",
              "min    1.556570e+07    350.000000     18.000000      0.000000       0.000000   \n",
              "25%    1.562853e+07    584.000000     32.000000      3.000000       0.000000   \n",
              "50%    1.569074e+07    652.000000     37.000000      5.000000   97198.540000   \n",
              "75%    1.575323e+07    718.000000     44.000000      7.000000  127644.240000   \n",
              "max    1.581569e+07    850.000000     92.000000     10.000000  250898.090000   \n",
              "\n",
              "       NumOfProducts    HasCrCard  IsActiveMember  EstimatedSalary  \\\n",
              "count   10000.000000  10000.00000    10000.000000     10000.000000   \n",
              "mean        1.530200      0.70550        0.515100    100090.239881   \n",
              "std         0.581654      0.45584        0.499797     57510.492818   \n",
              "min         1.000000      0.00000        0.000000        11.580000   \n",
              "25%         1.000000      0.00000        0.000000     51002.110000   \n",
              "50%         1.000000      1.00000        1.000000    100193.915000   \n",
              "75%         2.000000      1.00000        1.000000    149388.247500   \n",
              "max         4.000000      1.00000        1.000000    199992.480000   \n",
              "\n",
              "             Exited      Complain  Satisfaction Score  Point Earned  \n",
              "count  10000.000000  10000.000000        10000.000000  10000.000000  \n",
              "mean       0.203800      0.204400            3.013800    606.515100  \n",
              "std        0.402842      0.403283            1.405919    225.924839  \n",
              "min        0.000000      0.000000            1.000000    119.000000  \n",
              "25%        0.000000      0.000000            2.000000    410.000000  \n",
              "50%        0.000000      0.000000            3.000000    605.000000  \n",
              "75%        0.000000      0.000000            4.000000    801.000000  \n",
              "max        1.000000      1.000000            5.000000   1000.000000  "
            ],
            "text/html": [
              "\n",
              "\n",
              "  <div id=\"df-6e895812-6a7f-414d-b3df-704d26693291\">\n",
              "    <div class=\"colab-df-container\">\n",
              "      <div>\n",
              "<style scoped>\n",
              "    .dataframe tbody tr th:only-of-type {\n",
              "        vertical-align: middle;\n",
              "    }\n",
              "\n",
              "    .dataframe tbody tr th {\n",
              "        vertical-align: top;\n",
              "    }\n",
              "\n",
              "    .dataframe thead th {\n",
              "        text-align: right;\n",
              "    }\n",
              "</style>\n",
              "<table border=\"1\" class=\"dataframe\">\n",
              "  <thead>\n",
              "    <tr style=\"text-align: right;\">\n",
              "      <th></th>\n",
              "      <th>CustomerId</th>\n",
              "      <th>CreditScore</th>\n",
              "      <th>Age</th>\n",
              "      <th>Tenure</th>\n",
              "      <th>Balance</th>\n",
              "      <th>NumOfProducts</th>\n",
              "      <th>HasCrCard</th>\n",
              "      <th>IsActiveMember</th>\n",
              "      <th>EstimatedSalary</th>\n",
              "      <th>Exited</th>\n",
              "      <th>Complain</th>\n",
              "      <th>Satisfaction Score</th>\n",
              "      <th>Point Earned</th>\n",
              "    </tr>\n",
              "  </thead>\n",
              "  <tbody>\n",
              "    <tr>\n",
              "      <th>count</th>\n",
              "      <td>1.000000e+04</td>\n",
              "      <td>10000.000000</td>\n",
              "      <td>10000.000000</td>\n",
              "      <td>10000.000000</td>\n",
              "      <td>10000.000000</td>\n",
              "      <td>10000.000000</td>\n",
              "      <td>10000.00000</td>\n",
              "      <td>10000.000000</td>\n",
              "      <td>10000.000000</td>\n",
              "      <td>10000.000000</td>\n",
              "      <td>10000.000000</td>\n",
              "      <td>10000.000000</td>\n",
              "      <td>10000.000000</td>\n",
              "    </tr>\n",
              "    <tr>\n",
              "      <th>mean</th>\n",
              "      <td>1.569094e+07</td>\n",
              "      <td>650.528800</td>\n",
              "      <td>38.921800</td>\n",
              "      <td>5.012800</td>\n",
              "      <td>76485.889288</td>\n",
              "      <td>1.530200</td>\n",
              "      <td>0.70550</td>\n",
              "      <td>0.515100</td>\n",
              "      <td>100090.239881</td>\n",
              "      <td>0.203800</td>\n",
              "      <td>0.204400</td>\n",
              "      <td>3.013800</td>\n",
              "      <td>606.515100</td>\n",
              "    </tr>\n",
              "    <tr>\n",
              "      <th>std</th>\n",
              "      <td>7.193619e+04</td>\n",
              "      <td>96.653299</td>\n",
              "      <td>10.487806</td>\n",
              "      <td>2.892174</td>\n",
              "      <td>62397.405202</td>\n",
              "      <td>0.581654</td>\n",
              "      <td>0.45584</td>\n",
              "      <td>0.499797</td>\n",
              "      <td>57510.492818</td>\n",
              "      <td>0.402842</td>\n",
              "      <td>0.403283</td>\n",
              "      <td>1.405919</td>\n",
              "      <td>225.924839</td>\n",
              "    </tr>\n",
              "    <tr>\n",
              "      <th>min</th>\n",
              "      <td>1.556570e+07</td>\n",
              "      <td>350.000000</td>\n",
              "      <td>18.000000</td>\n",
              "      <td>0.000000</td>\n",
              "      <td>0.000000</td>\n",
              "      <td>1.000000</td>\n",
              "      <td>0.00000</td>\n",
              "      <td>0.000000</td>\n",
              "      <td>11.580000</td>\n",
              "      <td>0.000000</td>\n",
              "      <td>0.000000</td>\n",
              "      <td>1.000000</td>\n",
              "      <td>119.000000</td>\n",
              "    </tr>\n",
              "    <tr>\n",
              "      <th>25%</th>\n",
              "      <td>1.562853e+07</td>\n",
              "      <td>584.000000</td>\n",
              "      <td>32.000000</td>\n",
              "      <td>3.000000</td>\n",
              "      <td>0.000000</td>\n",
              "      <td>1.000000</td>\n",
              "      <td>0.00000</td>\n",
              "      <td>0.000000</td>\n",
              "      <td>51002.110000</td>\n",
              "      <td>0.000000</td>\n",
              "      <td>0.000000</td>\n",
              "      <td>2.000000</td>\n",
              "      <td>410.000000</td>\n",
              "    </tr>\n",
              "    <tr>\n",
              "      <th>50%</th>\n",
              "      <td>1.569074e+07</td>\n",
              "      <td>652.000000</td>\n",
              "      <td>37.000000</td>\n",
              "      <td>5.000000</td>\n",
              "      <td>97198.540000</td>\n",
              "      <td>1.000000</td>\n",
              "      <td>1.00000</td>\n",
              "      <td>1.000000</td>\n",
              "      <td>100193.915000</td>\n",
              "      <td>0.000000</td>\n",
              "      <td>0.000000</td>\n",
              "      <td>3.000000</td>\n",
              "      <td>605.000000</td>\n",
              "    </tr>\n",
              "    <tr>\n",
              "      <th>75%</th>\n",
              "      <td>1.575323e+07</td>\n",
              "      <td>718.000000</td>\n",
              "      <td>44.000000</td>\n",
              "      <td>7.000000</td>\n",
              "      <td>127644.240000</td>\n",
              "      <td>2.000000</td>\n",
              "      <td>1.00000</td>\n",
              "      <td>1.000000</td>\n",
              "      <td>149388.247500</td>\n",
              "      <td>0.000000</td>\n",
              "      <td>0.000000</td>\n",
              "      <td>4.000000</td>\n",
              "      <td>801.000000</td>\n",
              "    </tr>\n",
              "    <tr>\n",
              "      <th>max</th>\n",
              "      <td>1.581569e+07</td>\n",
              "      <td>850.000000</td>\n",
              "      <td>92.000000</td>\n",
              "      <td>10.000000</td>\n",
              "      <td>250898.090000</td>\n",
              "      <td>4.000000</td>\n",
              "      <td>1.00000</td>\n",
              "      <td>1.000000</td>\n",
              "      <td>199992.480000</td>\n",
              "      <td>1.000000</td>\n",
              "      <td>1.000000</td>\n",
              "      <td>5.000000</td>\n",
              "      <td>1000.000000</td>\n",
              "    </tr>\n",
              "  </tbody>\n",
              "</table>\n",
              "</div>\n",
              "      <button class=\"colab-df-convert\" onclick=\"convertToInteractive('df-6e895812-6a7f-414d-b3df-704d26693291')\"\n",
              "              title=\"Convert this dataframe to an interactive table.\"\n",
              "              style=\"display:none;\">\n",
              "\n",
              "  <svg xmlns=\"http://www.w3.org/2000/svg\" height=\"24px\"viewBox=\"0 0 24 24\"\n",
              "       width=\"24px\">\n",
              "    <path d=\"M0 0h24v24H0V0z\" fill=\"none\"/>\n",
              "    <path d=\"M18.56 5.44l.94 2.06.94-2.06 2.06-.94-2.06-.94-.94-2.06-.94 2.06-2.06.94zm-11 1L8.5 8.5l.94-2.06 2.06-.94-2.06-.94L8.5 2.5l-.94 2.06-2.06.94zm10 10l.94 2.06.94-2.06 2.06-.94-2.06-.94-.94-2.06-.94 2.06-2.06.94z\"/><path d=\"M17.41 7.96l-1.37-1.37c-.4-.4-.92-.59-1.43-.59-.52 0-1.04.2-1.43.59L10.3 9.45l-7.72 7.72c-.78.78-.78 2.05 0 2.83L4 21.41c.39.39.9.59 1.41.59.51 0 1.02-.2 1.41-.59l7.78-7.78 2.81-2.81c.8-.78.8-2.07 0-2.86zM5.41 20L4 18.59l7.72-7.72 1.47 1.35L5.41 20z\"/>\n",
              "  </svg>\n",
              "      </button>\n",
              "\n",
              "\n",
              "\n",
              "    <div id=\"df-9cef7e26-0348-485b-84b8-5f902037af10\">\n",
              "      <button class=\"colab-df-quickchart\" onclick=\"quickchart('df-9cef7e26-0348-485b-84b8-5f902037af10')\"\n",
              "              title=\"Suggest charts.\"\n",
              "              style=\"display:none;\">\n",
              "\n",
              "<svg xmlns=\"http://www.w3.org/2000/svg\" height=\"24px\"viewBox=\"0 0 24 24\"\n",
              "     width=\"24px\">\n",
              "    <g>\n",
              "        <path d=\"M19 3H5c-1.1 0-2 .9-2 2v14c0 1.1.9 2 2 2h14c1.1 0 2-.9 2-2V5c0-1.1-.9-2-2-2zM9 17H7v-7h2v7zm4 0h-2V7h2v10zm4 0h-2v-4h2v4z\"/>\n",
              "    </g>\n",
              "</svg>\n",
              "      </button>\n",
              "    </div>\n",
              "\n",
              "<style>\n",
              "  .colab-df-quickchart {\n",
              "    background-color: #E8F0FE;\n",
              "    border: none;\n",
              "    border-radius: 50%;\n",
              "    cursor: pointer;\n",
              "    display: none;\n",
              "    fill: #1967D2;\n",
              "    height: 32px;\n",
              "    padding: 0 0 0 0;\n",
              "    width: 32px;\n",
              "  }\n",
              "\n",
              "  .colab-df-quickchart:hover {\n",
              "    background-color: #E2EBFA;\n",
              "    box-shadow: 0px 1px 2px rgba(60, 64, 67, 0.3), 0px 1px 3px 1px rgba(60, 64, 67, 0.15);\n",
              "    fill: #174EA6;\n",
              "  }\n",
              "\n",
              "  [theme=dark] .colab-df-quickchart {\n",
              "    background-color: #3B4455;\n",
              "    fill: #D2E3FC;\n",
              "  }\n",
              "\n",
              "  [theme=dark] .colab-df-quickchart:hover {\n",
              "    background-color: #434B5C;\n",
              "    box-shadow: 0px 1px 3px 1px rgba(0, 0, 0, 0.15);\n",
              "    filter: drop-shadow(0px 1px 2px rgba(0, 0, 0, 0.3));\n",
              "    fill: #FFFFFF;\n",
              "  }\n",
              "</style>\n",
              "\n",
              "    <script>\n",
              "      async function quickchart(key) {\n",
              "        const containerElement = document.querySelector('#' + key);\n",
              "        const charts = await google.colab.kernel.invokeFunction(\n",
              "            'suggestCharts', [key], {});\n",
              "      }\n",
              "    </script>\n",
              "\n",
              "      <script>\n",
              "\n",
              "function displayQuickchartButton(domScope) {\n",
              "  let quickchartButtonEl =\n",
              "    domScope.querySelector('#df-9cef7e26-0348-485b-84b8-5f902037af10 button.colab-df-quickchart');\n",
              "  quickchartButtonEl.style.display =\n",
              "    google.colab.kernel.accessAllowed ? 'block' : 'none';\n",
              "}\n",
              "\n",
              "        displayQuickchartButton(document);\n",
              "      </script>\n",
              "      <style>\n",
              "    .colab-df-container {\n",
              "      display:flex;\n",
              "      flex-wrap:wrap;\n",
              "      gap: 12px;\n",
              "    }\n",
              "\n",
              "    .colab-df-convert {\n",
              "      background-color: #E8F0FE;\n",
              "      border: none;\n",
              "      border-radius: 50%;\n",
              "      cursor: pointer;\n",
              "      display: none;\n",
              "      fill: #1967D2;\n",
              "      height: 32px;\n",
              "      padding: 0 0 0 0;\n",
              "      width: 32px;\n",
              "    }\n",
              "\n",
              "    .colab-df-convert:hover {\n",
              "      background-color: #E2EBFA;\n",
              "      box-shadow: 0px 1px 2px rgba(60, 64, 67, 0.3), 0px 1px 3px 1px rgba(60, 64, 67, 0.15);\n",
              "      fill: #174EA6;\n",
              "    }\n",
              "\n",
              "    [theme=dark] .colab-df-convert {\n",
              "      background-color: #3B4455;\n",
              "      fill: #D2E3FC;\n",
              "    }\n",
              "\n",
              "    [theme=dark] .colab-df-convert:hover {\n",
              "      background-color: #434B5C;\n",
              "      box-shadow: 0px 1px 3px 1px rgba(0, 0, 0, 0.15);\n",
              "      filter: drop-shadow(0px 1px 2px rgba(0, 0, 0, 0.3));\n",
              "      fill: #FFFFFF;\n",
              "    }\n",
              "  </style>\n",
              "\n",
              "      <script>\n",
              "        const buttonEl =\n",
              "          document.querySelector('#df-6e895812-6a7f-414d-b3df-704d26693291 button.colab-df-convert');\n",
              "        buttonEl.style.display =\n",
              "          google.colab.kernel.accessAllowed ? 'block' : 'none';\n",
              "\n",
              "        async function convertToInteractive(key) {\n",
              "          const element = document.querySelector('#df-6e895812-6a7f-414d-b3df-704d26693291');\n",
              "          const dataTable =\n",
              "            await google.colab.kernel.invokeFunction('convertToInteractive',\n",
              "                                                     [key], {});\n",
              "          if (!dataTable) return;\n",
              "\n",
              "          const docLinkHtml = 'Like what you see? Visit the ' +\n",
              "            '<a target=\"_blank\" href=https://colab.research.google.com/notebooks/data_table.ipynb>data table notebook</a>'\n",
              "            + ' to learn more about interactive tables.';\n",
              "          element.innerHTML = '';\n",
              "          dataTable['output_type'] = 'display_data';\n",
              "          await google.colab.output.renderOutput(dataTable, element);\n",
              "          const docLink = document.createElement('div');\n",
              "          docLink.innerHTML = docLinkHtml;\n",
              "          element.appendChild(docLink);\n",
              "        }\n",
              "      </script>\n",
              "    </div>\n",
              "  </div>\n"
            ]
          },
          "metadata": {},
          "execution_count": 7
        }
      ]
    },
    {
      "cell_type": "code",
      "source": [
        "df.isna().sum()"
      ],
      "metadata": {
        "colab": {
          "base_uri": "https://localhost:8080/"
        },
        "id": "YCxEyVU_P8I4",
        "outputId": "598c8b5d-f470-43ab-f9b7-3b38471fc251"
      },
      "execution_count": 8,
      "outputs": [
        {
          "output_type": "execute_result",
          "data": {
            "text/plain": [
              "CustomerId            0\n",
              "CreditScore           0\n",
              "Geography             0\n",
              "Gender                0\n",
              "Age                   0\n",
              "Tenure                0\n",
              "Balance               0\n",
              "NumOfProducts         0\n",
              "HasCrCard             0\n",
              "IsActiveMember        0\n",
              "EstimatedSalary       0\n",
              "Exited                0\n",
              "Complain              0\n",
              "Satisfaction Score    0\n",
              "Card Type             0\n",
              "Point Earned          0\n",
              "dtype: int64"
            ]
          },
          "metadata": {},
          "execution_count": 8
        }
      ]
    },
    {
      "cell_type": "code",
      "source": [
        "df.dtypes"
      ],
      "metadata": {
        "colab": {
          "base_uri": "https://localhost:8080/"
        },
        "id": "1AxG3YaZQCaR",
        "outputId": "03073d55-12f2-49dc-c33e-d59f73bce0fb"
      },
      "execution_count": 9,
      "outputs": [
        {
          "output_type": "execute_result",
          "data": {
            "text/plain": [
              "CustomerId              int64\n",
              "CreditScore             int64\n",
              "Geography              object\n",
              "Gender                 object\n",
              "Age                     int64\n",
              "Tenure                  int64\n",
              "Balance               float64\n",
              "NumOfProducts           int64\n",
              "HasCrCard               int64\n",
              "IsActiveMember          int64\n",
              "EstimatedSalary       float64\n",
              "Exited                  int64\n",
              "Complain                int64\n",
              "Satisfaction Score      int64\n",
              "Card Type              object\n",
              "Point Earned            int64\n",
              "dtype: object"
            ]
          },
          "metadata": {},
          "execution_count": 9
        }
      ]
    },
    {
      "cell_type": "code",
      "source": [
        "print(\"Number of rows:\", df.shape[0])\n",
        "print(\"Number of columns:\", df.shape[1])"
      ],
      "metadata": {
        "colab": {
          "base_uri": "https://localhost:8080/"
        },
        "id": "JsRkftXNQN6q",
        "outputId": "22a1b408-afdb-4950-8bc1-6917e83c8f73"
      },
      "execution_count": 10,
      "outputs": [
        {
          "output_type": "stream",
          "name": "stdout",
          "text": [
            "Number of rows: 10000\n",
            "Number of columns: 16\n"
          ]
        }
      ]
    },
    {
      "cell_type": "code",
      "source": [
        "df.columns"
      ],
      "metadata": {
        "colab": {
          "base_uri": "https://localhost:8080/"
        },
        "id": "tDWilvJGSGrv",
        "outputId": "63436856-537d-4803-8563-ae4c52917518"
      },
      "execution_count": 11,
      "outputs": [
        {
          "output_type": "execute_result",
          "data": {
            "text/plain": [
              "Index(['CustomerId', 'CreditScore', 'Geography', 'Gender', 'Age', 'Tenure',\n",
              "       'Balance', 'NumOfProducts', 'HasCrCard', 'IsActiveMember',\n",
              "       'EstimatedSalary', 'Exited', 'Complain', 'Satisfaction Score',\n",
              "       'Card Type', 'Point Earned'],\n",
              "      dtype='object')"
            ]
          },
          "metadata": {},
          "execution_count": 11
        }
      ]
    },
    {
      "cell_type": "code",
      "source": [
        "df.count()"
      ],
      "metadata": {
        "colab": {
          "base_uri": "https://localhost:8080/"
        },
        "id": "scUz9266SIn7",
        "outputId": "b7e907b0-aaa6-4db2-b4e0-2b98b5873cfb"
      },
      "execution_count": 12,
      "outputs": [
        {
          "output_type": "execute_result",
          "data": {
            "text/plain": [
              "CustomerId            10000\n",
              "CreditScore           10000\n",
              "Geography             10000\n",
              "Gender                10000\n",
              "Age                   10000\n",
              "Tenure                10000\n",
              "Balance               10000\n",
              "NumOfProducts         10000\n",
              "HasCrCard             10000\n",
              "IsActiveMember        10000\n",
              "EstimatedSalary       10000\n",
              "Exited                10000\n",
              "Complain              10000\n",
              "Satisfaction Score    10000\n",
              "Card Type             10000\n",
              "Point Earned          10000\n",
              "dtype: int64"
            ]
          },
          "metadata": {},
          "execution_count": 12
        }
      ]
    },
    {
      "cell_type": "code",
      "source": [
        "df.drop(['CustomerId'],axis=1,inplace=True)"
      ],
      "metadata": {
        "id": "lJXOzQbjsi3I"
      },
      "execution_count": 13,
      "outputs": []
    },
    {
      "cell_type": "code",
      "source": [
        "df['Exited'].value_counts()"
      ],
      "metadata": {
        "colab": {
          "base_uri": "https://localhost:8080/"
        },
        "id": "d7LnIsFrWR-3",
        "outputId": "154a88c1-6ec5-481d-af9b-5367cd7b855d"
      },
      "execution_count": 14,
      "outputs": [
        {
          "output_type": "execute_result",
          "data": {
            "text/plain": [
              "0    7962\n",
              "1    2038\n",
              "Name: Exited, dtype: int64"
            ]
          },
          "metadata": {},
          "execution_count": 14
        }
      ]
    },
    {
      "cell_type": "code",
      "source": [
        "def detect_outliers_iqr_feature(data,feature):\n",
        "  feature_data=data[feature]\n",
        "  Q1=np.percentile(feature_data,25)\n",
        "  Q3=np.percentile(feature_data,75)\n",
        "  iqr=Q3-Q1\n",
        "  lower_bound=Q1-1.5*iqr\n",
        "  upperbound=Q3+1.5*iqr\n",
        "\n",
        "  outliers=np.where((feature_data<lower_bound)|(feature_data>upperbound))[0]"
      ],
      "metadata": {
        "id": "mMSVq2B6VR9V"
      },
      "execution_count": 15,
      "outputs": []
    },
    {
      "cell_type": "code",
      "source": [
        "feature_name=['CreditScore','Age','Tenure','Balance','NumOfProducts','HasCrCard','IsActiveMember','EstimatedSalary','Complain','Satisfaction Score','Point Earned']\n",
        "for i in feature_name:\n",
        "  outliers=detect_outliers_iqr_feature(df,i)\n",
        "  print(\"Outliers are present in\",i,\":\",outliers)"
      ],
      "metadata": {
        "colab": {
          "base_uri": "https://localhost:8080/"
        },
        "id": "Shcy2UQuizi6",
        "outputId": "49cea4f1-4ad1-4480-c740-4845c5ccd1a1"
      },
      "execution_count": 16,
      "outputs": [
        {
          "output_type": "stream",
          "name": "stdout",
          "text": [
            "Outliers are present in CreditScore : None\n",
            "Outliers are present in Age : None\n",
            "Outliers are present in Tenure : None\n",
            "Outliers are present in Balance : None\n",
            "Outliers are present in NumOfProducts : None\n",
            "Outliers are present in HasCrCard : None\n",
            "Outliers are present in IsActiveMember : None\n",
            "Outliers are present in EstimatedSalary : None\n",
            "Outliers are present in Complain : None\n",
            "Outliers are present in Satisfaction Score : None\n",
            "Outliers are present in Point Earned : None\n"
          ]
        }
      ]
    },
    {
      "cell_type": "markdown",
      "source": [
        "#4. Data Visualization"
      ],
      "metadata": {
        "id": "PoS6bqTzSqZj"
      }
    },
    {
      "cell_type": "code",
      "source": [
        "# Churn distribution\n",
        "\n",
        "plt.figure(figsize=(6, 6))\n",
        "a=df['Exited'].value_counts()\n",
        "labels=['Retained','Churned']\n",
        "plt.pie(a,labels=labels, autopct='%1.1f%%')\n",
        "plt.title('Churn Distribution')\n",
        "plt.show()"
      ],
      "metadata": {
        "colab": {
          "base_uri": "https://localhost:8080/",
          "height": 521
        },
        "id": "-uNVI1dwSq9T",
        "outputId": "946bf48b-599a-4c3a-dca4-cb0363f0d687"
      },
      "execution_count": 17,
      "outputs": [
        {
          "output_type": "display_data",
          "data": {
            "text/plain": [
              "<Figure size 600x600 with 1 Axes>"
            ],
            "image/png": "[encoded data removed]"
          },
          "metadata": {}
        }
      ]
    },
    {
      "cell_type": "code",
      "source": [
        "# Churn by gender\n",
        "\n",
        "plt.figure(figsize=(8, 6))\n",
        "sns.countplot(x='Gender', hue='Exited', data=df)\n",
        "plt.title('Churn by Gender')\n",
        "plt.show()"
      ],
      "metadata": {
        "colab": {
          "base_uri": "https://localhost:8080/",
          "height": 564
        },
        "id": "wp-YIO0pyAtC",
        "outputId": "0f2c1af0-54ae-4fbd-ee7d-d1078410f701"
      },
      "execution_count": 18,
      "outputs": [
        {
          "output_type": "display_data",
          "data": {
            "text/plain": [
              "<Figure size 800x600 with 1 Axes>"
            ],
            "image/png": "[encoded data removed]"
          },
          "metadata": {}
        }
      ]
    },
    {
      "cell_type": "code",
      "source": [
        "churn_rate_Gender = df.groupby('Gender')['Exited'].mean()\n",
        "print(churn_rate_Gender)"
      ],
      "metadata": {
        "colab": {
          "base_uri": "https://localhost:8080/"
        },
        "id": "lk98YuZ54bo4",
        "outputId": "27d3196a-3eda-4fc7-c072-1ade6d9235b6"
      },
      "execution_count": 19,
      "outputs": [
        {
          "output_type": "stream",
          "name": "stdout",
          "text": [
            "Gender\n",
            "Female    0.250715\n",
            "Male      0.164743\n",
            "Name: Exited, dtype: float64\n"
          ]
        }
      ]
    },
    {
      "cell_type": "markdown",
      "source": [
        "The churn rate is higher for female customers compared to male customers. This indicates that gender may play a role in customer churn."
      ],
      "metadata": {
        "id": "6g8N_k7H1gkV"
      }
    },
    {
      "cell_type": "code",
      "source": [
        "# Churn by geography\n",
        "\n",
        "plt.figure(figsize=(8, 6))\n",
        "sns.countplot(x='Geography', hue='Exited', data=df)\n",
        "plt.title('Churn by Geography')\n",
        "plt.show()"
      ],
      "metadata": {
        "colab": {
          "base_uri": "https://localhost:8080/",
          "height": 564
        },
        "id": "uQXMjhE7yX8y",
        "outputId": "8a16f373-b9d9-40be-bb81-e97d1d99aaa8"
      },
      "execution_count": 20,
      "outputs": [
        {
          "output_type": "display_data",
          "data": {
            "text/plain": [
              "<Figure size 800x600 with 1 Axes>"
            ],
            "image/png": "[encoded data removed]"
          },
          "metadata": {}
        }
      ]
    },
    {
      "cell_type": "code",
      "source": [
        "churn_rate_Geography = df.groupby('Geography')['Exited'].mean()\n",
        "print(churn_rate_Geography)"
      ],
      "metadata": {
        "colab": {
          "base_uri": "https://localhost:8080/"
        },
        "id": "OPjlQd4r4n23",
        "outputId": "d6d08bd4-43d9-43fc-d009-f57736114b51"
      },
      "execution_count": 21,
      "outputs": [
        {
          "output_type": "stream",
          "name": "stdout",
          "text": [
            "Geography\n",
            "France     0.161747\n",
            "Germany    0.324432\n",
            "Spain      0.166734\n",
            "Name: Exited, dtype: float64\n"
          ]
        }
      ]
    },
    {
      "cell_type": "markdown",
      "source": [
        "The churn rate varies across different countries. Germany has the highest churn rate, followed by Spain and France. This suggests that geographic location may impact customer churn."
      ],
      "metadata": {
        "id": "Xpwux6ul180b"
      }
    },
    {
      "cell_type": "code",
      "source": [
        "# Churn by age group\n",
        "\n",
        "df['AgeGroup'] = pd.cut(df['Age'], bins=[0, 30, 40, 50, 60, np.inf], labels=['<30', '30-40', '40-50', '50-60', '60+'])\n",
        "plt.figure(figsize=(8, 6))\n",
        "sns.countplot(x='AgeGroup', hue='Exited', data=df)\n",
        "plt.title('Churn by Age Group')\n",
        "plt.show()"
      ],
      "metadata": {
        "colab": {
          "base_uri": "https://localhost:8080/",
          "height": 564
        },
        "id": "kg5h3PjuzWjH",
        "outputId": "392dc285-d14c-4706-9fc5-91403c0d46a5"
      },
      "execution_count": 22,
      "outputs": [
        {
          "output_type": "display_data",
          "data": {
            "text/plain": [
              "<Figure size 800x600 with 1 Axes>"
            ],
            "image/png": "[encoded data removed]"
          },
          "metadata": {}
        }
      ]
    },
    {
      "cell_type": "code",
      "source": [
        "churn_rate_AgeGroup = df.groupby('AgeGroup')['Exited'].mean()\n",
        "print(churn_rate_AgeGroup)"
      ],
      "metadata": {
        "colab": {
          "base_uri": "https://localhost:8080/"
        },
        "id": "2-VIcUSb431X",
        "outputId": "6f6dfa17-db1f-4527-9f03-fa6e06e151d3"
      },
      "execution_count": 23,
      "outputs": [
        {
          "output_type": "stream",
          "name": "stdout",
          "text": [
            "AgeGroup\n",
            "<30      0.075203\n",
            "30-40    0.121096\n",
            "40-50    0.339655\n",
            "50-60    0.562108\n",
            "60+      0.247845\n",
            "Name: Exited, dtype: float64\n"
          ]
        }
      ]
    },
    {
      "cell_type": "markdown",
      "source": [
        "Age group strongly influences churn rate. The highest churn rate is observed in the 50-60 age group, followed by the 40-50 age group. The lowest churn rate is observed in the <30 age group. This implies that older customers are more likely to churn, while younger customers are more likely to stay with the bank."
      ],
      "metadata": {
        "id": "WsDVE5_Rzgt_"
      }
    },
    {
      "cell_type": "code",
      "source": [
        "# Churn by Number of Products:\n",
        "\n",
        "plt.figure(figsize=(8, 6))\n",
        "sns.countplot(x='NumOfProducts', hue='Exited', data=df)\n",
        "plt.title('Churn by Number of Products')\n",
        "plt.show()"
      ],
      "metadata": {
        "colab": {
          "base_uri": "https://localhost:8080/",
          "height": 564
        },
        "id": "OxoIk-gN0FFP",
        "outputId": "b28f2832-32c2-4b11-eb83-e63fc88a967b"
      },
      "execution_count": 24,
      "outputs": [
        {
          "output_type": "display_data",
          "data": {
            "text/plain": [
              "<Figure size 800x600 with 1 Axes>"
            ],
            "image/png": "[encoded data removed]"
          },
          "metadata": {}
        }
      ]
    },
    {
      "cell_type": "code",
      "source": [
        "churn_rate_NumOfProducts = df.groupby('NumOfProducts')['Exited'].mean()\n",
        "print(churn_rate_NumOfProducts)"
      ],
      "metadata": {
        "colab": {
          "base_uri": "https://localhost:8080/"
        },
        "id": "VygldXvx5DYJ",
        "outputId": "b9fd90b1-2609-4bf2-eda7-975d39980477"
      },
      "execution_count": 25,
      "outputs": [
        {
          "output_type": "stream",
          "name": "stdout",
          "text": [
            "NumOfProducts\n",
            "1    0.277144\n",
            "2    0.076035\n",
            "3    0.827068\n",
            "4    1.000000\n",
            "Name: Exited, dtype: float64\n"
          ]
        }
      ]
    },
    {
      "cell_type": "markdown",
      "source": [
        "The number of products held by customers can impact churn. Customers with fewer products may be less likely to churn, while those with more products may have a higher churn rate."
      ],
      "metadata": {
        "id": "pAugyqmJ1CSk"
      }
    },
    {
      "cell_type": "code",
      "source": [
        "# Churn by Credit Card\n",
        "\n",
        "plt.figure(figsize=(8, 6))\n",
        "sns.countplot(x='HasCrCard', hue='Exited', data=df)\n",
        "plt.title('Churn by Credit Card')\n",
        "plt.show()"
      ],
      "metadata": {
        "colab": {
          "base_uri": "https://localhost:8080/",
          "height": 564
        },
        "id": "zKNL7fjR0mmI",
        "outputId": "c20c1fd8-b44e-45ad-fe67-a6485708ac7d"
      },
      "execution_count": 26,
      "outputs": [
        {
          "output_type": "display_data",
          "data": {
            "text/plain": [
              "<Figure size 800x600 with 1 Axes>"
            ],
            "image/png": "[encoded data removed]"
          },
          "metadata": {}
        }
      ]
    },
    {
      "cell_type": "code",
      "source": [
        "churn_rate_HasCrCard = df.groupby('HasCrCard')['Exited'].mean()\n",
        "print(churn_rate_HasCrCard)"
      ],
      "metadata": {
        "colab": {
          "base_uri": "https://localhost:8080/"
        },
        "id": "oHwAQ5TU4Ijm",
        "outputId": "e50050ca-95b2-4f00-89be-3097faf81468"
      },
      "execution_count": 27,
      "outputs": [
        {
          "output_type": "stream",
          "name": "stdout",
          "text": [
            "HasCrCard\n",
            "0    0.208149\n",
            "1    0.201984\n",
            "Name: Exited, dtype: float64\n"
          ]
        }
      ]
    },
    {
      "cell_type": "markdown",
      "source": [
        "Having a credit card does not seem to have a significant impact on customer churn. The churn rate appears similar for customers with and without a credit card."
      ],
      "metadata": {
        "id": "DNl2-Zmz3DOj"
      }
    },
    {
      "cell_type": "code",
      "source": [
        "# Churn by Activity Status\n",
        "\n",
        "plt.figure(figsize=(8, 6))\n",
        "sns.countplot(x='IsActiveMember', hue='Exited', data=df)\n",
        "plt.title('Churn by Activity Status')\n",
        "plt.show()"
      ],
      "metadata": {
        "colab": {
          "base_uri": "https://localhost:8080/",
          "height": 564
        },
        "id": "M1KDvnPe0rPn",
        "outputId": "7fcc6de3-9f74-4a6a-d956-8da5a1813a17"
      },
      "execution_count": 28,
      "outputs": [
        {
          "output_type": "display_data",
          "data": {
            "text/plain": [
              "<Figure size 800x600 with 1 Axes>"
            ],
            "image/png": "[encoded data removed]"
          },
          "metadata": {}
        }
      ]
    },
    {
      "cell_type": "code",
      "source": [
        "churn_rate_IsActiveMember = df.groupby('IsActiveMember')['Exited'].mean()\n",
        "print(churn_rate_IsActiveMember)"
      ],
      "metadata": {
        "colab": {
          "base_uri": "https://localhost:8080/"
        },
        "id": "PsiPvbn35Qra",
        "outputId": "43bff125-60da-4e98-e23e-53d83aada21f"
      },
      "execution_count": 29,
      "outputs": [
        {
          "output_type": "stream",
          "name": "stdout",
          "text": [
            "IsActiveMember\n",
            "0    0.268715\n",
            "1    0.142691\n",
            "Name: Exited, dtype: float64\n"
          ]
        }
      ]
    },
    {
      "cell_type": "markdown",
      "source": [
        "Customer activity status is another important factor. Active members appear to have a lower churn rate compared to inactive members."
      ],
      "metadata": {
        "id": "SQDv4uDi2i3K"
      }
    },
    {
      "cell_type": "code",
      "source": [
        "# Churn by Balance:\n",
        "\n",
        "plt.figure(figsize=(10, 6))\n",
        "sns.boxplot(x='Exited', y='Balance', data=df)\n",
        "plt.title('Churn by Balance')\n",
        "plt.show()"
      ],
      "metadata": {
        "colab": {
          "base_uri": "https://localhost:8080/",
          "height": 564
        },
        "id": "i6VBe09g02m7",
        "outputId": "4a38ea4a-3dbd-47e9-d3cd-e4f413902f23"
      },
      "execution_count": 30,
      "outputs": [
        {
          "output_type": "display_data",
          "data": {
            "text/plain": [
              "<Figure size 1000x600 with 1 Axes>"
            ],
            "image/png": "[encoded data removed]"
          },
          "metadata": {}
        }
      ]
    },
    {
      "cell_type": "code",
      "source": [
        "df.corr()"
      ],
      "metadata": {
        "colab": {
          "base_uri": "https://localhost:8080/",
          "height": 524
        },
        "id": "nBpckFyzZjET",
        "outputId": "c84af227-6874-4185-9236-98cf18e59327"
      },
      "execution_count": 31,
      "outputs": [
        {
          "output_type": "execute_result",
          "data": {
            "text/plain": [
              "                    CreditScore       Age    Tenure   Balance  NumOfProducts  \\\n",
              "CreditScore            1.000000 -0.003965  0.000842  0.006268       0.012238   \n",
              "Age                   -0.003965  1.000000 -0.009997  0.028308      -0.030680   \n",
              "Tenure                 0.000842 -0.009997  1.000000 -0.012254       0.013444   \n",
              "Balance                0.006268  0.028308 -0.012254  1.000000      -0.304180   \n",
              "NumOfProducts          0.012238 -0.030680  0.013444 -0.304180       1.000000   \n",
              "HasCrCard             -0.005458 -0.011721  0.022583 -0.014858       0.003183   \n",
              "IsActiveMember         0.025651  0.085472 -0.028362 -0.010084       0.009612   \n",
              "EstimatedSalary       -0.001384 -0.007201  0.007784  0.012797       0.014204   \n",
              "Exited                -0.026771  0.285296 -0.013656  0.118577      -0.047611   \n",
              "Complain              -0.027048  0.283530 -0.013047  0.119124      -0.046357   \n",
              "Satisfaction Score    -0.012599 -0.000876  0.008663 -0.002588      -0.011394   \n",
              "Point Earned           0.000077  0.002222 -0.010196  0.014608      -0.015330   \n",
              "\n",
              "                    HasCrCard  IsActiveMember  EstimatedSalary    Exited  \\\n",
              "CreditScore         -0.005458        0.025651        -0.001384 -0.026771   \n",
              "Age                 -0.011721        0.085472        -0.007201  0.285296   \n",
              "Tenure               0.022583       -0.028362         0.007784 -0.013656   \n",
              "Balance             -0.014858       -0.010084         0.012797  0.118577   \n",
              "NumOfProducts        0.003183        0.009612         0.014204 -0.047611   \n",
              "HasCrCard            1.000000       -0.011866        -0.009933 -0.006976   \n",
              "IsActiveMember      -0.011866        1.000000        -0.011421 -0.156356   \n",
              "EstimatedSalary     -0.009933       -0.011421         1.000000  0.012490   \n",
              "Exited              -0.006976       -0.156356         0.012490  1.000000   \n",
              "Complain            -0.007095       -0.154741         0.012494  0.995693   \n",
              "Satisfaction Score  -0.000212        0.010236        -0.013747 -0.005849   \n",
              "Point Earned        -0.011041       -0.004983        -0.001515 -0.004628   \n",
              "\n",
              "                    Complain  Satisfaction Score  Point Earned  \n",
              "CreditScore        -0.027048           -0.012599      0.000077  \n",
              "Age                 0.283530           -0.000876      0.002222  \n",
              "Tenure             -0.013047            0.008663     -0.010196  \n",
              "Balance             0.119124           -0.002588      0.014608  \n",
              "NumOfProducts      -0.046357           -0.011394     -0.015330  \n",
              "HasCrCard          -0.007095           -0.000212     -0.011041  \n",
              "IsActiveMember     -0.154741            0.010236     -0.004983  \n",
              "EstimatedSalary     0.012494           -0.013747     -0.001515  \n",
              "Exited              0.995693           -0.005849     -0.004628  \n",
              "Complain            1.000000           -0.004799     -0.002893  \n",
              "Satisfaction Score -0.004799            1.000000     -0.014400  \n",
              "Point Earned       -0.002893           -0.014400      1.000000  "
            ],
            "text/html": [
              "\n",
              "\n",
              "  <div id=\"df-5d1d3fc0-f60d-40df-a202-30c85810e8ec\">\n",
              "    <div class=\"colab-df-container\">\n",
              "      <div>\n",
              "<style scoped>\n",
              "    .dataframe tbody tr th:only-of-type {\n",
              "        vertical-align: middle;\n",
              "    }\n",
              "\n",
              "    .dataframe tbody tr th {\n",
              "        vertical-align: top;\n",
              "    }\n",
              "\n",
              "    .dataframe thead th {\n",
              "        text-align: right;\n",
              "    }\n",
              "</style>\n",
              "<table border=\"1\" class=\"dataframe\">\n",
              "  <thead>\n",
              "    <tr style=\"text-align: right;\">\n",
              "      <th></th>\n",
              "      <th>CreditScore</th>\n",
              "      <th>Age</th>\n",
              "      <th>Tenure</th>\n",
              "      <th>Balance</th>\n",
              "      <th>NumOfProducts</th>\n",
              "      <th>HasCrCard</th>\n",
              "      <th>IsActiveMember</th>\n",
              "      <th>EstimatedSalary</th>\n",
              "      <th>Exited</th>\n",
              "      <th>Complain</th>\n",
              "      <th>Satisfaction Score</th>\n",
              "      <th>Point Earned</th>\n",
              "    </tr>\n",
              "  </thead>\n",
              "  <tbody>\n",
              "    <tr>\n",
              "      <th>CreditScore</th>\n",
              "      <td>1.000000</td>\n",
              "      <td>-0.003965</td>\n",
              "      <td>0.000842</td>\n",
              "      <td>0.006268</td>\n",
              "      <td>0.012238</td>\n",
              "      <td>-0.005458</td>\n",
              "      <td>0.025651</td>\n",
              "      <td>-0.001384</td>\n",
              "      <td>-0.026771</td>\n",
              "      <td>-0.027048</td>\n",
              "      <td>-0.012599</td>\n",
              "      <td>0.000077</td>\n",
              "    </tr>\n",
              "    <tr>\n",
              "      <th>Age</th>\n",
              "      <td>-0.003965</td>\n",
              "      <td>1.000000</td>\n",
              "      <td>-0.009997</td>\n",
              "      <td>0.028308</td>\n",
              "      <td>-0.030680</td>\n",
              "      <td>-0.011721</td>\n",
              "      <td>0.085472</td>\n",
              "      <td>-0.007201</td>\n",
              "      <td>0.285296</td>\n",
              "      <td>0.283530</td>\n",
              "      <td>-0.000876</td>\n",
              "      <td>0.002222</td>\n",
              "    </tr>\n",
              "    <tr>\n",
              "      <th>Tenure</th>\n",
              "      <td>0.000842</td>\n",
              "      <td>-0.009997</td>\n",
              "      <td>1.000000</td>\n",
              "      <td>-0.012254</td>\n",
              "      <td>0.013444</td>\n",
              "      <td>0.022583</td>\n",
              "      <td>-0.028362</td>\n",
              "      <td>0.007784</td>\n",
              "      <td>-0.013656</td>\n",
              "      <td>-0.013047</td>\n",
              "      <td>0.008663</td>\n",
              "      <td>-0.010196</td>\n",
              "    </tr>\n",
              "    <tr>\n",
              "      <th>Balance</th>\n",
              "      <td>0.006268</td>\n",
              "      <td>0.028308</td>\n",
              "      <td>-0.012254</td>\n",
              "      <td>1.000000</td>\n",
              "      <td>-0.304180</td>\n",
              "      <td>-0.014858</td>\n",
              "      <td>-0.010084</td>\n",
              "      <td>0.012797</td>\n",
              "      <td>0.118577</td>\n",
              "      <td>0.119124</td>\n",
              "      <td>-0.002588</td>\n",
              "      <td>0.014608</td>\n",
              "    </tr>\n",
              "    <tr>\n",
              "      <th>NumOfProducts</th>\n",
              "      <td>0.012238</td>\n",
              "      <td>-0.030680</td>\n",
              "      <td>0.013444</td>\n",
              "      <td>-0.304180</td>\n",
              "      <td>1.000000</td>\n",
              "      <td>0.003183</td>\n",
              "      <td>0.009612</td>\n",
              "      <td>0.014204</td>\n",
              "      <td>-0.047611</td>\n",
              "      <td>-0.046357</td>\n",
              "      <td>-0.011394</td>\n",
              "      <td>-0.015330</td>\n",
              "    </tr>\n",
              "    <tr>\n",
              "      <th>HasCrCard</th>\n",
              "      <td>-0.005458</td>\n",
              "      <td>-0.011721</td>\n",
              "      <td>0.022583</td>\n",
              "      <td>-0.014858</td>\n",
              "      <td>0.003183</td>\n",
              "      <td>1.000000</td>\n",
              "      <td>-0.011866</td>\n",
              "      <td>-0.009933</td>\n",
              "      <td>-0.006976</td>\n",
              "      <td>-0.007095</td>\n",
              "      <td>-0.000212</td>\n",
              "      <td>-0.011041</td>\n",
              "    </tr>\n",
              "    <tr>\n",
              "      <th>IsActiveMember</th>\n",
              "      <td>0.025651</td>\n",
              "      <td>0.085472</td>\n",
              "      <td>-0.028362</td>\n",
              "      <td>-0.010084</td>\n",
              "      <td>0.009612</td>\n",
              "      <td>-0.011866</td>\n",
              "      <td>1.000000</td>\n",
              "      <td>-0.011421</td>\n",
              "      <td>-0.156356</td>\n",
              "      <td>-0.154741</td>\n",
              "      <td>0.010236</td>\n",
              "      <td>-0.004983</td>\n",
              "    </tr>\n",
              "    <tr>\n",
              "      <th>EstimatedSalary</th>\n",
              "      <td>-0.001384</td>\n",
              "      <td>-0.007201</td>\n",
              "      <td>0.007784</td>\n",
              "      <td>0.012797</td>\n",
              "      <td>0.014204</td>\n",
              "      <td>-0.009933</td>\n",
              "      <td>-0.011421</td>\n",
              "      <td>1.000000</td>\n",
              "      <td>0.012490</td>\n",
              "      <td>0.012494</td>\n",
              "      <td>-0.013747</td>\n",
              "      <td>-0.001515</td>\n",
              "    </tr>\n",
              "    <tr>\n",
              "      <th>Exited</th>\n",
              "      <td>-0.026771</td>\n",
              "      <td>0.285296</td>\n",
              "      <td>-0.013656</td>\n",
              "      <td>0.118577</td>\n",
              "      <td>-0.047611</td>\n",
              "      <td>-0.006976</td>\n",
              "      <td>-0.156356</td>\n",
              "      <td>0.012490</td>\n",
              "      <td>1.000000</td>\n",
              "      <td>0.995693</td>\n",
              "      <td>-0.005849</td>\n",
              "      <td>-0.004628</td>\n",
              "    </tr>\n",
              "    <tr>\n",
              "      <th>Complain</th>\n",
              "      <td>-0.027048</td>\n",
              "      <td>0.283530</td>\n",
              "      <td>-0.013047</td>\n",
              "      <td>0.119124</td>\n",
              "      <td>-0.046357</td>\n",
              "      <td>-0.007095</td>\n",
              "      <td>-0.154741</td>\n",
              "      <td>0.012494</td>\n",
              "      <td>0.995693</td>\n",
              "      <td>1.000000</td>\n",
              "      <td>-0.004799</td>\n",
              "      <td>-0.002893</td>\n",
              "    </tr>\n",
              "    <tr>\n",
              "      <th>Satisfaction Score</th>\n",
              "      <td>-0.012599</td>\n",
              "      <td>-0.000876</td>\n",
              "      <td>0.008663</td>\n",
              "      <td>-0.002588</td>\n",
              "      <td>-0.011394</td>\n",
              "      <td>-0.000212</td>\n",
              "      <td>0.010236</td>\n",
              "      <td>-0.013747</td>\n",
              "      <td>-0.005849</td>\n",
              "      <td>-0.004799</td>\n",
              "      <td>1.000000</td>\n",
              "      <td>-0.014400</td>\n",
              "    </tr>\n",
              "    <tr>\n",
              "      <th>Point Earned</th>\n",
              "      <td>0.000077</td>\n",
              "      <td>0.002222</td>\n",
              "      <td>-0.010196</td>\n",
              "      <td>0.014608</td>\n",
              "      <td>-0.015330</td>\n",
              "      <td>-0.011041</td>\n",
              "      <td>-0.004983</td>\n",
              "      <td>-0.001515</td>\n",
              "      <td>-0.004628</td>\n",
              "      <td>-0.002893</td>\n",
              "      <td>-0.014400</td>\n",
              "      <td>1.000000</td>\n",
              "    </tr>\n",
              "  </tbody>\n",
              "</table>\n",
              "</div>\n",
              "      <button class=\"colab-df-convert\" onclick=\"convertToInteractive('df-5d1d3fc0-f60d-40df-a202-30c85810e8ec')\"\n",
              "              title=\"Convert this dataframe to an interactive table.\"\n",
              "              style=\"display:none;\">\n",
              "\n",
              "  <svg xmlns=\"http://www.w3.org/2000/svg\" height=\"24px\"viewBox=\"0 0 24 24\"\n",
              "       width=\"24px\">\n",
              "    <path d=\"M0 0h24v24H0V0z\" fill=\"none\"/>\n",
              "    <path d=\"M18.56 5.44l.94 2.06.94-2.06 2.06-.94-2.06-.94-.94-2.06-.94 2.06-2.06.94zm-11 1L8.5 8.5l.94-2.06 2.06-.94-2.06-.94L8.5 2.5l-.94 2.06-2.06.94zm10 10l.94 2.06.94-2.06 2.06-.94-2.06-.94-.94-2.06-.94 2.06-2.06.94z\"/><path d=\"M17.41 7.96l-1.37-1.37c-.4-.4-.92-.59-1.43-.59-.52 0-1.04.2-1.43.59L10.3 9.45l-7.72 7.72c-.78.78-.78 2.05 0 2.83L4 21.41c.39.39.9.59 1.41.59.51 0 1.02-.2 1.41-.59l7.78-7.78 2.81-2.81c.8-.78.8-2.07 0-2.86zM5.41 20L4 18.59l7.72-7.72 1.47 1.35L5.41 20z\"/>\n",
              "  </svg>\n",
              "      </button>\n",
              "\n",
              "\n",
              "\n",
              "    <div id=\"df-05f6f532-5804-43b9-a4eb-14a9cafe17db\">\n",
              "      <button class=\"colab-df-quickchart\" onclick=\"quickchart('df-05f6f532-5804-43b9-a4eb-14a9cafe17db')\"\n",
              "              title=\"Suggest charts.\"\n",
              "              style=\"display:none;\">\n",
              "\n",
              "<svg xmlns=\"http://www.w3.org/2000/svg\" height=\"24px\"viewBox=\"0 0 24 24\"\n",
              "     width=\"24px\">\n",
              "    <g>\n",
              "        <path d=\"M19 3H5c-1.1 0-2 .9-2 2v14c0 1.1.9 2 2 2h14c1.1 0 2-.9 2-2V5c0-1.1-.9-2-2-2zM9 17H7v-7h2v7zm4 0h-2V7h2v10zm4 0h-2v-4h2v4z\"/>\n",
              "    </g>\n",
              "</svg>\n",
              "      </button>\n",
              "    </div>\n",
              "\n",
              "<style>\n",
              "  .colab-df-quickchart {\n",
              "    background-color: #E8F0FE;\n",
              "    border: none;\n",
              "    border-radius: 50%;\n",
              "    cursor: pointer;\n",
              "    display: none;\n",
              "    fill: #1967D2;\n",
              "    height: 32px;\n",
              "    padding: 0 0 0 0;\n",
              "    width: 32px;\n",
              "  }\n",
              "\n",
              "  .colab-df-quickchart:hover {\n",
              "    background-color: #E2EBFA;\n",
              "    box-shadow: 0px 1px 2px rgba(60, 64, 67, 0.3), 0px 1px 3px 1px rgba(60, 64, 67, 0.15);\n",
              "    fill: #174EA6;\n",
              "  }\n",
              "\n",
              "  [theme=dark] .colab-df-quickchart {\n",
              "    background-color: #3B4455;\n",
              "    fill: #D2E3FC;\n",
              "  }\n",
              "\n",
              "  [theme=dark] .colab-df-quickchart:hover {\n",
              "    background-color: #434B5C;\n",
              "    box-shadow: 0px 1px 3px 1px rgba(0, 0, 0, 0.15);\n",
              "    filter: drop-shadow(0px 1px 2px rgba(0, 0, 0, 0.3));\n",
              "    fill: #FFFFFF;\n",
              "  }\n",
              "</style>\n",
              "\n",
              "    <script>\n",
              "      async function quickchart(key) {\n",
              "        const containerElement = document.querySelector('#' + key);\n",
              "        const charts = await google.colab.kernel.invokeFunction(\n",
              "            'suggestCharts', [key], {});\n",
              "      }\n",
              "    </script>\n",
              "\n",
              "      <script>\n",
              "\n",
              "function displayQuickchartButton(domScope) {\n",
              "  let quickchartButtonEl =\n",
              "    domScope.querySelector('#df-05f6f532-5804-43b9-a4eb-14a9cafe17db button.colab-df-quickchart');\n",
              "  quickchartButtonEl.style.display =\n",
              "    google.colab.kernel.accessAllowed ? 'block' : 'none';\n",
              "}\n",
              "\n",
              "        displayQuickchartButton(document);\n",
              "      </script>\n",
              "      <style>\n",
              "    .colab-df-container {\n",
              "      display:flex;\n",
              "      flex-wrap:wrap;\n",
              "      gap: 12px;\n",
              "    }\n",
              "\n",
              "    .colab-df-convert {\n",
              "      background-color: #E8F0FE;\n",
              "      border: none;\n",
              "      border-radius: 50%;\n",
              "      cursor: pointer;\n",
              "      display: none;\n",
              "      fill: #1967D2;\n",
              "      height: 32px;\n",
              "      padding: 0 0 0 0;\n",
              "      width: 32px;\n",
              "    }\n",
              "\n",
              "    .colab-df-convert:hover {\n",
              "      background-color: #E2EBFA;\n",
              "      box-shadow: 0px 1px 2px rgba(60, 64, 67, 0.3), 0px 1px 3px 1px rgba(60, 64, 67, 0.15);\n",
              "      fill: #174EA6;\n",
              "    }\n",
              "\n",
              "    [theme=dark] .colab-df-convert {\n",
              "      background-color: #3B4455;\n",
              "      fill: #D2E3FC;\n",
              "    }\n",
              "\n",
              "    [theme=dark] .colab-df-convert:hover {\n",
              "      background-color: #434B5C;\n",
              "      box-shadow: 0px 1px 3px 1px rgba(0, 0, 0, 0.15);\n",
              "      filter: drop-shadow(0px 1px 2px rgba(0, 0, 0, 0.3));\n",
              "      fill: #FFFFFF;\n",
              "    }\n",
              "  </style>\n",
              "\n",
              "      <script>\n",
              "        const buttonEl =\n",
              "          document.querySelector('#df-5d1d3fc0-f60d-40df-a202-30c85810e8ec button.colab-df-convert');\n",
              "        buttonEl.style.display =\n",
              "          google.colab.kernel.accessAllowed ? 'block' : 'none';\n",
              "\n",
              "        async function convertToInteractive(key) {\n",
              "          const element = document.querySelector('#df-5d1d3fc0-f60d-40df-a202-30c85810e8ec');\n",
              "          const dataTable =\n",
              "            await google.colab.kernel.invokeFunction('convertToInteractive',\n",
              "                                                     [key], {});\n",
              "          if (!dataTable) return;\n",
              "\n",
              "          const docLinkHtml = 'Like what you see? Visit the ' +\n",
              "            '<a target=\"_blank\" href=https://colab.research.google.com/notebooks/data_table.ipynb>data table notebook</a>'\n",
              "            + ' to learn more about interactive tables.';\n",
              "          element.innerHTML = '';\n",
              "          dataTable['output_type'] = 'display_data';\n",
              "          await google.colab.output.renderOutput(dataTable, element);\n",
              "          const docLink = document.createElement('div');\n",
              "          docLink.innerHTML = docLinkHtml;\n",
              "          element.appendChild(docLink);\n",
              "        }\n",
              "      </script>\n",
              "    </div>\n",
              "  </div>\n"
            ]
          },
          "metadata": {},
          "execution_count": 31
        }
      ]
    },
    {
      "cell_type": "code",
      "source": [
        "fig,ax = plt.subplots(figsize=(13,10))\n",
        "sns.heatmap(df.corr(),annot=True,linewidths=0.5,ax=ax)"
      ],
      "metadata": {
        "colab": {
          "base_uri": "https://localhost:8080/",
          "height": 964
        },
        "id": "0stQnqDRJPFP",
        "outputId": "1b446356-104b-460a-e705-190dffd37e8d"
      },
      "execution_count": 32,
      "outputs": [
        {
          "output_type": "execute_result",
          "data": {
            "text/plain": [
              "<Axes: >"
            ]
          },
          "metadata": {},
          "execution_count": 32
        },
        {
          "output_type": "display_data",
          "data": {
            "text/plain": [
              "<Figure size 1300x1000 with 2 Axes>"
            ],
            "image/png": "[encoded data removed]"
          },
          "metadata": {}
        }
      ]
    },
    {
      "cell_type": "markdown",
      "source": [
        "#5. Scaling Data"
      ],
      "metadata": {
        "id": "N2krBCk555cN"
      }
    },
    {
      "cell_type": "code",
      "source": [
        "geo=LabelEncoder()\n",
        "gen=LabelEncoder()\n",
        "ca=LabelEncoder()\n",
        "\n",
        "df['Geography']=geo.fit_transform(df['Geography'])\n",
        "df['Gender']=gen.fit_transform(df['Gender'])\n",
        "df['Card Type']=ca.fit_transform(df['Card Type'])"
      ],
      "metadata": {
        "id": "HYlFhEDUAIhw"
      },
      "execution_count": 33,
      "outputs": []
    },
    {
      "cell_type": "code",
      "source": [
        "X=df.drop(['Exited','AgeGroup'],axis=1)\n",
        "X"
      ],
      "metadata": {
        "colab": {
          "base_uri": "https://localhost:8080/",
          "height": 505
        },
        "id": "OcIRKMB15m_D",
        "outputId": "c0c52cf2-66ec-4d68-a5b5-1a258b91237d"
      },
      "execution_count": 34,
      "outputs": [
        {
          "output_type": "execute_result",
          "data": {
            "text/plain": [
              "      CreditScore  Geography  Gender  Age  Tenure    Balance  NumOfProducts  \\\n",
              "0             619          0       0   42       2       0.00              1   \n",
              "1             608          2       0   41       1   83807.86              1   \n",
              "2             502          0       0   42       8  159660.80              3   \n",
              "3             699          0       0   39       1       0.00              2   \n",
              "4             850          2       0   43       2  125510.82              1   \n",
              "...           ...        ...     ...  ...     ...        ...            ...   \n",
              "9995          771          0       1   39       5       0.00              2   \n",
              "9996          516          0       1   35      10   57369.61              1   \n",
              "9997          709          0       0   36       7       0.00              1   \n",
              "9998          772          1       1   42       3   75075.31              2   \n",
              "9999          792          0       0   28       4  130142.79              1   \n",
              "\n",
              "      HasCrCard  IsActiveMember  EstimatedSalary  Complain  \\\n",
              "0             1               1        101348.88         1   \n",
              "1             0               1        112542.58         1   \n",
              "2             1               0        113931.57         1   \n",
              "3             0               0         93826.63         0   \n",
              "4             1               1         79084.10         0   \n",
              "...         ...             ...              ...       ...   \n",
              "9995          1               0         96270.64         0   \n",
              "9996          1               1        101699.77         0   \n",
              "9997          0               1         42085.58         1   \n",
              "9998          1               0         92888.52         1   \n",
              "9999          1               0         38190.78         0   \n",
              "\n",
              "      Satisfaction Score  Card Type  Point Earned  \n",
              "0                      2          0           464  \n",
              "1                      3          0           456  \n",
              "2                      3          0           377  \n",
              "3                      5          1           350  \n",
              "4                      5          1           425  \n",
              "...                  ...        ...           ...  \n",
              "9995                   1          0           300  \n",
              "9996                   5          2           771  \n",
              "9997                   3          3           564  \n",
              "9998                   2          1           339  \n",
              "9999                   3          0           911  \n",
              "\n",
              "[10000 rows x 14 columns]"
            ],
            "text/html": [
              "\n",
              "\n",
              "  <div id=\"df-6eb08cdc-a193-4ba4-92e3-d5b1c1874dfb\">\n",
              "    <div class=\"colab-df-container\">\n",
              "      <div>\n",
              "<style scoped>\n",
              "    .dataframe tbody tr th:only-of-type {\n",
              "        vertical-align: middle;\n",
              "    }\n",
              "\n",
              "    .dataframe tbody tr th {\n",
              "        vertical-align: top;\n",
              "    }\n",
              "\n",
              "    .dataframe thead th {\n",
              "        text-align: right;\n",
              "    }\n",
              "</style>\n",
              "<table border=\"1\" class=\"dataframe\">\n",
              "  <thead>\n",
              "    <tr style=\"text-align: right;\">\n",
              "      <th></th>\n",
              "      <th>CreditScore</th>\n",
              "      <th>Geography</th>\n",
              "      <th>Gender</th>\n",
              "      <th>Age</th>\n",
              "      <th>Tenure</th>\n",
              "      <th>Balance</th>\n",
              "      <th>NumOfProducts</th>\n",
              "      <th>HasCrCard</th>\n",
              "      <th>IsActiveMember</th>\n",
              "      <th>EstimatedSalary</th>\n",
              "      <th>Complain</th>\n",
              "      <th>Satisfaction Score</th>\n",
              "      <th>Card Type</th>\n",
              "      <th>Point Earned</th>\n",
              "    </tr>\n",
              "  </thead>\n",
              "  <tbody>\n",
              "    <tr>\n",
              "      <th>0</th>\n",
              "      <td>619</td>\n",
              "      <td>0</td>\n",
              "      <td>0</td>\n",
              "      <td>42</td>\n",
              "      <td>2</td>\n",
              "      <td>0.00</td>\n",
              "      <td>1</td>\n",
              "      <td>1</td>\n",
              "      <td>1</td>\n",
              "      <td>101348.88</td>\n",
              "      <td>1</td>\n",
              "      <td>2</td>\n",
              "      <td>0</td>\n",
              "      <td>464</td>\n",
              "    </tr>\n",
              "    <tr>\n",
              "      <th>1</th>\n",
              "      <td>608</td>\n",
              "      <td>2</td>\n",
              "      <td>0</td>\n",
              "      <td>41</td>\n",
              "      <td>1</td>\n",
              "      <td>83807.86</td>\n",
              "      <td>1</td>\n",
              "      <td>0</td>\n",
              "      <td>1</td>\n",
              "      <td>112542.58</td>\n",
              "      <td>1</td>\n",
              "      <td>3</td>\n",
              "      <td>0</td>\n",
              "      <td>456</td>\n",
              "    </tr>\n",
              "    <tr>\n",
              "      <th>2</th>\n",
              "      <td>502</td>\n",
              "      <td>0</td>\n",
              "      <td>0</td>\n",
              "      <td>42</td>\n",
              "      <td>8</td>\n",
              "      <td>159660.80</td>\n",
              "      <td>3</td>\n",
              "      <td>1</td>\n",
              "      <td>0</td>\n",
              "      <td>113931.57</td>\n",
              "      <td>1</td>\n",
              "      <td>3</td>\n",
              "      <td>0</td>\n",
              "      <td>377</td>\n",
              "    </tr>\n",
              "    <tr>\n",
              "      <th>3</th>\n",
              "      <td>699</td>\n",
              "      <td>0</td>\n",
              "      <td>0</td>\n",
              "      <td>39</td>\n",
              "      <td>1</td>\n",
              "      <td>0.00</td>\n",
              "      <td>2</td>\n",
              "      <td>0</td>\n",
              "      <td>0</td>\n",
              "      <td>93826.63</td>\n",
              "      <td>0</td>\n",
              "      <td>5</td>\n",
              "      <td>1</td>\n",
              "      <td>350</td>\n",
              "    </tr>\n",
              "    <tr>\n",
              "      <th>4</th>\n",
              "      <td>850</td>\n",
              "      <td>2</td>\n",
              "      <td>0</td>\n",
              "      <td>43</td>\n",
              "      <td>2</td>\n",
              "      <td>125510.82</td>\n",
              "      <td>1</td>\n",
              "      <td>1</td>\n",
              "      <td>1</td>\n",
              "      <td>79084.10</td>\n",
              "      <td>0</td>\n",
              "      <td>5</td>\n",
              "      <td>1</td>\n",
              "      <td>425</td>\n",
              "    </tr>\n",
              "    <tr>\n",
              "      <th>...</th>\n",
              "      <td>...</td>\n",
              "      <td>...</td>\n",
              "      <td>...</td>\n",
              "      <td>...</td>\n",
              "      <td>...</td>\n",
              "      <td>...</td>\n",
              "      <td>...</td>\n",
              "      <td>...</td>\n",
              "      <td>...</td>\n",
              "      <td>...</td>\n",
              "      <td>...</td>\n",
              "      <td>...</td>\n",
              "      <td>...</td>\n",
              "      <td>...</td>\n",
              "    </tr>\n",
              "    <tr>\n",
              "      <th>9995</th>\n",
              "      <td>771</td>\n",
              "      <td>0</td>\n",
              "      <td>1</td>\n",
              "      <td>39</td>\n",
              "      <td>5</td>\n",
              "      <td>0.00</td>\n",
              "      <td>2</td>\n",
              "      <td>1</td>\n",
              "      <td>0</td>\n",
              "      <td>96270.64</td>\n",
              "      <td>0</td>\n",
              "      <td>1</td>\n",
              "      <td>0</td>\n",
              "      <td>300</td>\n",
              "    </tr>\n",
              "    <tr>\n",
              "      <th>9996</th>\n",
              "      <td>516</td>\n",
              "      <td>0</td>\n",
              "      <td>1</td>\n",
              "      <td>35</td>\n",
              "      <td>10</td>\n",
              "      <td>57369.61</td>\n",
              "      <td>1</td>\n",
              "      <td>1</td>\n",
              "      <td>1</td>\n",
              "      <td>101699.77</td>\n",
              "      <td>0</td>\n",
              "      <td>5</td>\n",
              "      <td>2</td>\n",
              "      <td>771</td>\n",
              "    </tr>\n",
              "    <tr>\n",
              "      <th>9997</th>\n",
              "      <td>709</td>\n",
              "      <td>0</td>\n",
              "      <td>0</td>\n",
              "      <td>36</td>\n",
              "      <td>7</td>\n",
              "      <td>0.00</td>\n",
              "      <td>1</td>\n",
              "      <td>0</td>\n",
              "      <td>1</td>\n",
              "      <td>42085.58</td>\n",
              "      <td>1</td>\n",
              "      <td>3</td>\n",
              "      <td>3</td>\n",
              "      <td>564</td>\n",
              "    </tr>\n",
              "    <tr>\n",
              "      <th>9998</th>\n",
              "      <td>772</td>\n",
              "      <td>1</td>\n",
              "      <td>1</td>\n",
              "      <td>42</td>\n",
              "      <td>3</td>\n",
              "      <td>75075.31</td>\n",
              "      <td>2</td>\n",
              "      <td>1</td>\n",
              "      <td>0</td>\n",
              "      <td>92888.52</td>\n",
              "      <td>1</td>\n",
              "      <td>2</td>\n",
              "      <td>1</td>\n",
              "      <td>339</td>\n",
              "    </tr>\n",
              "    <tr>\n",
              "      <th>9999</th>\n",
              "      <td>792</td>\n",
              "      <td>0</td>\n",
              "      <td>0</td>\n",
              "      <td>28</td>\n",
              "      <td>4</td>\n",
              "      <td>130142.79</td>\n",
              "      <td>1</td>\n",
              "      <td>1</td>\n",
              "      <td>0</td>\n",
              "      <td>38190.78</td>\n",
              "      <td>0</td>\n",
              "      <td>3</td>\n",
              "      <td>0</td>\n",
              "      <td>911</td>\n",
              "    </tr>\n",
              "  </tbody>\n",
              "</table>\n",
              "<p>10000 rows × 14 columns</p>\n",
              "</div>\n",
              "      <button class=\"colab-df-convert\" onclick=\"convertToInteractive('df-6eb08cdc-a193-4ba4-92e3-d5b1c1874dfb')\"\n",
              "              title=\"Convert this dataframe to an interactive table.\"\n",
              "              style=\"display:none;\">\n",
              "\n",
              "  <svg xmlns=\"http://www.w3.org/2000/svg\" height=\"24px\"viewBox=\"0 0 24 24\"\n",
              "       width=\"24px\">\n",
              "    <path d=\"M0 0h24v24H0V0z\" fill=\"none\"/>\n",
              "    <path d=\"M18.56 5.44l.94 2.06.94-2.06 2.06-.94-2.06-.94-.94-2.06-.94 2.06-2.06.94zm-11 1L8.5 8.5l.94-2.06 2.06-.94-2.06-.94L8.5 2.5l-.94 2.06-2.06.94zm10 10l.94 2.06.94-2.06 2.06-.94-2.06-.94-.94-2.06-.94 2.06-2.06.94z\"/><path d=\"M17.41 7.96l-1.37-1.37c-.4-.4-.92-.59-1.43-.59-.52 0-1.04.2-1.43.59L10.3 9.45l-7.72 7.72c-.78.78-.78 2.05 0 2.83L4 21.41c.39.39.9.59 1.41.59.51 0 1.02-.2 1.41-.59l7.78-7.78 2.81-2.81c.8-.78.8-2.07 0-2.86zM5.41 20L4 18.59l7.72-7.72 1.47 1.35L5.41 20z\"/>\n",
              "  </svg>\n",
              "      </button>\n",
              "\n",
              "\n",
              "\n",
              "    <div id=\"df-d812b1b8-81f0-4d25-b33a-689af3f1b65c\">\n",
              "      <button class=\"colab-df-quickchart\" onclick=\"quickchart('df-d812b1b8-81f0-4d25-b33a-689af3f1b65c')\"\n",
              "              title=\"Suggest charts.\"\n",
              "              style=\"display:none;\">\n",
              "\n",
              "<svg xmlns=\"http://www.w3.org/2000/svg\" height=\"24px\"viewBox=\"0 0 24 24\"\n",
              "     width=\"24px\">\n",
              "    <g>\n",
              "        <path d=\"M19 3H5c-1.1 0-2 .9-2 2v14c0 1.1.9 2 2 2h14c1.1 0 2-.9 2-2V5c0-1.1-.9-2-2-2zM9 17H7v-7h2v7zm4 0h-2V7h2v10zm4 0h-2v-4h2v4z\"/>\n",
              "    </g>\n",
              "</svg>\n",
              "      </button>\n",
              "    </div>\n",
              "\n",
              "<style>\n",
              "  .colab-df-quickchart {\n",
              "    background-color: #E8F0FE;\n",
              "    border: none;\n",
              "    border-radius: 50%;\n",
              "    cursor: pointer;\n",
              "    display: none;\n",
              "    fill: #1967D2;\n",
              "    height: 32px;\n",
              "    padding: 0 0 0 0;\n",
              "    width: 32px;\n",
              "  }\n",
              "\n",
              "  .colab-df-quickchart:hover {\n",
              "    background-color: #E2EBFA;\n",
              "    box-shadow: 0px 1px 2px rgba(60, 64, 67, 0.3), 0px 1px 3px 1px rgba(60, 64, 67, 0.15);\n",
              "    fill: #174EA6;\n",
              "  }\n",
              "\n",
              "  [theme=dark] .colab-df-quickchart {\n",
              "    background-color: #3B4455;\n",
              "    fill: #D2E3FC;\n",
              "  }\n",
              "\n",
              "  [theme=dark] .colab-df-quickchart:hover {\n",
              "    background-color: #434B5C;\n",
              "    box-shadow: 0px 1px 3px 1px rgba(0, 0, 0, 0.15);\n",
              "    filter: drop-shadow(0px 1px 2px rgba(0, 0, 0, 0.3));\n",
              "    fill: #FFFFFF;\n",
              "  }\n",
              "</style>\n",
              "\n",
              "    <script>\n",
              "      async function quickchart(key) {\n",
              "        const containerElement = document.querySelector('#' + key);\n",
              "        const charts = await google.colab.kernel.invokeFunction(\n",
              "            'suggestCharts', [key], {});\n",
              "      }\n",
              "    </script>\n",
              "\n",
              "      <script>\n",
              "\n",
              "function displayQuickchartButton(domScope) {\n",
              "  let quickchartButtonEl =\n",
              "    domScope.querySelector('#df-d812b1b8-81f0-4d25-b33a-689af3f1b65c button.colab-df-quickchart');\n",
              "  quickchartButtonEl.style.display =\n",
              "    google.colab.kernel.accessAllowed ? 'block' : 'none';\n",
              "}\n",
              "\n",
              "        displayQuickchartButton(document);\n",
              "      </script>\n",
              "      <style>\n",
              "    .colab-df-container {\n",
              "      display:flex;\n",
              "      flex-wrap:wrap;\n",
              "      gap: 12px;\n",
              "    }\n",
              "\n",
              "    .colab-df-convert {\n",
              "      background-color: #E8F0FE;\n",
              "      border: none;\n",
              "      border-radius: 50%;\n",
              "      cursor: pointer;\n",
              "      display: none;\n",
              "      fill: #1967D2;\n",
              "      height: 32px;\n",
              "      padding: 0 0 0 0;\n",
              "      width: 32px;\n",
              "    }\n",
              "\n",
              "    .colab-df-convert:hover {\n",
              "      background-color: #E2EBFA;\n",
              "      box-shadow: 0px 1px 2px rgba(60, 64, 67, 0.3), 0px 1px 3px 1px rgba(60, 64, 67, 0.15);\n",
              "      fill: #174EA6;\n",
              "    }\n",
              "\n",
              "    [theme=dark] .colab-df-convert {\n",
              "      background-color: #3B4455;\n",
              "      fill: #D2E3FC;\n",
              "    }\n",
              "\n",
              "    [theme=dark] .colab-df-convert:hover {\n",
              "      background-color: #434B5C;\n",
              "      box-shadow: 0px 1px 3px 1px rgba(0, 0, 0, 0.15);\n",
              "      filter: drop-shadow(0px 1px 2px rgba(0, 0, 0, 0.3));\n",
              "      fill: #FFFFFF;\n",
              "    }\n",
              "  </style>\n",
              "\n",
              "      <script>\n",
              "        const buttonEl =\n",
              "          document.querySelector('#df-6eb08cdc-a193-4ba4-92e3-d5b1c1874dfb button.colab-df-convert');\n",
              "        buttonEl.style.display =\n",
              "          google.colab.kernel.accessAllowed ? 'block' : 'none';\n",
              "\n",
              "        async function convertToInteractive(key) {\n",
              "          const element = document.querySelector('#df-6eb08cdc-a193-4ba4-92e3-d5b1c1874dfb');\n",
              "          const dataTable =\n",
              "            await google.colab.kernel.invokeFunction('convertToInteractive',\n",
              "                                                     [key], {});\n",
              "          if (!dataTable) return;\n",
              "\n",
              "          const docLinkHtml = 'Like what you see? Visit the ' +\n",
              "            '<a target=\"_blank\" href=https://colab.research.google.com/notebooks/data_table.ipynb>data table notebook</a>'\n",
              "            + ' to learn more about interactive tables.';\n",
              "          element.innerHTML = '';\n",
              "          dataTable['output_type'] = 'display_data';\n",
              "          await google.colab.output.renderOutput(dataTable, element);\n",
              "          const docLink = document.createElement('div');\n",
              "          docLink.innerHTML = docLinkHtml;\n",
              "          element.appendChild(docLink);\n",
              "        }\n",
              "      </script>\n",
              "    </div>\n",
              "  </div>\n"
            ]
          },
          "metadata": {},
          "execution_count": 34
        }
      ]
    },
    {
      "cell_type": "code",
      "source": [
        "y=df['Exited']\n",
        "y"
      ],
      "metadata": {
        "colab": {
          "base_uri": "https://localhost:8080/"
        },
        "id": "x-HDTOOh6qxt",
        "outputId": "5dfee598-be85-4755-904e-ac5dd79d333a"
      },
      "execution_count": 35,
      "outputs": [
        {
          "output_type": "execute_result",
          "data": {
            "text/plain": [
              "0       1\n",
              "1       0\n",
              "2       1\n",
              "3       0\n",
              "4       0\n",
              "       ..\n",
              "9995    0\n",
              "9996    0\n",
              "9997    1\n",
              "9998    1\n",
              "9999    0\n",
              "Name: Exited, Length: 10000, dtype: int64"
            ]
          },
          "metadata": {},
          "execution_count": 35
        }
      ]
    },
    {
      "cell_type": "code",
      "source": [
        "mm=MinMaxScaler()\n",
        "X_sc=mm.fit_transform(X)\n",
        "X_sc"
      ],
      "metadata": {
        "colab": {
          "base_uri": "https://localhost:8080/"
        },
        "id": "oSKjvWOb8Gac",
        "outputId": "a0269761-8d2a-4190-a527-201225716508"
      },
      "execution_count": 36,
      "outputs": [
        {
          "output_type": "execute_result",
          "data": {
            "text/plain": [
              "array([[0.538     , 0.        , 0.        , ..., 0.25      , 0.        ,\n",
              "        0.39160045],\n",
              "       [0.516     , 1.        , 0.        , ..., 0.5       , 0.        ,\n",
              "        0.38251986],\n",
              "       [0.304     , 0.        , 0.        , ..., 0.5       , 0.        ,\n",
              "        0.29284904],\n",
              "       ...,\n",
              "       [0.718     , 0.        , 0.        , ..., 0.5       , 1.        ,\n",
              "        0.50510783],\n",
              "       [0.844     , 0.5       , 1.        , ..., 0.25      , 0.33333333,\n",
              "        0.24971623],\n",
              "       [0.884     , 0.        , 0.        , ..., 0.5       , 0.        ,\n",
              "        0.89897843]])"
            ]
          },
          "metadata": {},
          "execution_count": 36
        }
      ]
    },
    {
      "cell_type": "markdown",
      "source": [
        "#6. Spliting Data into Training and Test Set"
      ],
      "metadata": {
        "id": "GfIQBVi-BZGi"
      }
    },
    {
      "cell_type": "code",
      "source": [
        "X_train,X_test,y_train,y_test=train_test_split(X_sc,y,test_size=0.3,random_state=1)"
      ],
      "metadata": {
        "id": "wiqlrxeH8ZCr"
      },
      "execution_count": 37,
      "outputs": []
    },
    {
      "cell_type": "markdown",
      "source": [
        "#7. Model Training and Check Accuracy Score, Print Classification Report and ConfusionMatrixDisplay"
      ],
      "metadata": {
        "id": "UXDWO_7bBfie"
      }
    },
    {
      "cell_type": "markdown",
      "source": [
        "(i)KNeighbors Classifier"
      ],
      "metadata": {
        "id": "pDl659MmBjzn"
      }
    },
    {
      "cell_type": "code",
      "source": [
        "knn=KNeighborsClassifier(n_neighbors=11)\n",
        "knn.fit(X_train,y_train)\n",
        "y_pred_knn=knn.predict(X_test)\n",
        "print(accuracy_score(y_test,y_pred_knn)*100)\n",
        "print(classification_report(y_test,y_pred_knn,digits=4))\n",
        "print(ConfusionMatrixDisplay.from_predictions(y_test,y_pred_knn))"
      ],
      "metadata": {
        "colab": {
          "base_uri": "https://localhost:8080/",
          "height": 640
        },
        "id": "sTl3tmJQBgW8",
        "outputId": "05ca4d00-7d6b-4429-e6fe-d04b6d43a099"
      },
      "execution_count": 38,
      "outputs": [
        {
          "output_type": "stream",
          "name": "stdout",
          "text": [
            "99.83333333333333\n",
            "              precision    recall  f1-score   support\n",
            "\n",
            "           0     0.9992    0.9987    0.9989      2373\n",
            "           1     0.9952    0.9968    0.9960       627\n",
            "\n",
            "    accuracy                         0.9983      3000\n",
            "   macro avg     0.9972    0.9978    0.9975      3000\n",
            "weighted avg     0.9983    0.9983    0.9983      3000\n",
            "\n",
            "<sklearn.metrics._plot.confusion_matrix.ConfusionMatrixDisplay object at 0x7d96c156acb0>\n"
          ]
        },
        {
          "output_type": "display_data",
          "data": {
            "text/plain": [
              "<Figure size 640x480 with 2 Axes>"
            ],
            "image/png": "[encoded data removed]"
          },
          "metadata": {}
        }
      ]
    },
    {
      "cell_type": "markdown",
      "source": [
        "(ii)Support Vector Classifier(SVC)"
      ],
      "metadata": {
        "id": "DqMa_NQKB2qn"
      }
    },
    {
      "cell_type": "code",
      "source": [
        "sv=SVC(kernel='poly')\n",
        "sv.fit(X_train,y_train)\n",
        "y_pred_sv=sv.predict(X_test)\n",
        "print(accuracy_score(y_test,y_pred_sv)*100)\n",
        "print(classification_report(y_test,y_pred_sv,digits=4))\n",
        "print(ConfusionMatrixDisplay.from_predictions(y_test,y_pred_sv))"
      ],
      "metadata": {
        "colab": {
          "base_uri": "https://localhost:8080/",
          "height": 640
        },
        "id": "ljmrFGbeBx7b",
        "outputId": "368af51a-9fc1-4854-aea4-3dc036d942de"
      },
      "execution_count": 39,
      "outputs": [
        {
          "output_type": "stream",
          "name": "stdout",
          "text": [
            "99.83333333333333\n",
            "              precision    recall  f1-score   support\n",
            "\n",
            "           0     0.9992    0.9987    0.9989      2373\n",
            "           1     0.9952    0.9968    0.9960       627\n",
            "\n",
            "    accuracy                         0.9983      3000\n",
            "   macro avg     0.9972    0.9978    0.9975      3000\n",
            "weighted avg     0.9983    0.9983    0.9983      3000\n",
            "\n",
            "<sklearn.metrics._plot.confusion_matrix.ConfusionMatrixDisplay object at 0x7d96bf370fd0>\n"
          ]
        },
        {
          "output_type": "display_data",
          "data": {
            "text/plain": [
              "<Figure size 640x480 with 2 Axes>"
            ],
            "image/png": "[encoded data removed]"
          },
          "metadata": {}
        }
      ]
    },
    {
      "cell_type": "markdown",
      "source": [
        "(iii)GaussianNB Classification"
      ],
      "metadata": {
        "id": "PnxoOY84CCY1"
      }
    },
    {
      "cell_type": "code",
      "source": [
        "nb=GaussianNB()\n",
        "nb.fit(X_train,y_train)\n",
        "y_pred_nb=nb.predict(X_test)\n",
        "print(accuracy_score(y_test,y_pred_nb)*100)\n",
        "print(classification_report(y_test,y_pred_nb,digits=4))\n",
        "print(ConfusionMatrixDisplay.from_predictions(y_test,y_pred_nb))"
      ],
      "metadata": {
        "colab": {
          "base_uri": "https://localhost:8080/",
          "height": 640
        },
        "id": "gB-HAV3RB-wB",
        "outputId": "047df520-1708-4e7b-d59f-94d47a73f2dd"
      },
      "execution_count": 40,
      "outputs": [
        {
          "output_type": "stream",
          "name": "stdout",
          "text": [
            "99.83333333333333\n",
            "              precision    recall  f1-score   support\n",
            "\n",
            "           0     0.9992    0.9987    0.9989      2373\n",
            "           1     0.9952    0.9968    0.9960       627\n",
            "\n",
            "    accuracy                         0.9983      3000\n",
            "   macro avg     0.9972    0.9978    0.9975      3000\n",
            "weighted avg     0.9983    0.9983    0.9983      3000\n",
            "\n",
            "<sklearn.metrics._plot.confusion_matrix.ConfusionMatrixDisplay object at 0x7d96befe3ee0>\n"
          ]
        },
        {
          "output_type": "display_data",
          "data": {
            "text/plain": [
              "<Figure size 640x480 with 2 Axes>"
            ],
            "image/png": "[encoded data removed]"
          },
          "metadata": {}
        }
      ]
    },
    {
      "cell_type": "markdown",
      "source": [
        "(iv)Decision Tree Classifier"
      ],
      "metadata": {
        "id": "z_K3Fo9WCOLh"
      }
    },
    {
      "cell_type": "code",
      "source": [
        "clf=DecisionTreeClassifier(criterion='gini')\n",
        "clf.fit(X_train,y_train)\n",
        "y_pred_clf=clf.predict(X_test)\n",
        "print(accuracy_score(y_test,y_pred_clf)*100)\n",
        "print(classification_report(y_test,y_pred_clf,digits=4))\n",
        "print(ConfusionMatrixDisplay.from_predictions(y_test,y_pred_clf))"
      ],
      "metadata": {
        "colab": {
          "base_uri": "https://localhost:8080/",
          "height": 640
        },
        "id": "TjsREd6dCJyc",
        "outputId": "efb9708d-d311-466f-d79d-28fd6a57ed98"
      },
      "execution_count": 41,
      "outputs": [
        {
          "output_type": "stream",
          "name": "stdout",
          "text": [
            "99.76666666666667\n",
            "              precision    recall  f1-score   support\n",
            "\n",
            "           0     0.9983    0.9987    0.9985      2373\n",
            "           1     0.9952    0.9936    0.9944       627\n",
            "\n",
            "    accuracy                         0.9977      3000\n",
            "   macro avg     0.9968    0.9962    0.9965      3000\n",
            "weighted avg     0.9977    0.9977    0.9977      3000\n",
            "\n",
            "<sklearn.metrics._plot.confusion_matrix.ConfusionMatrixDisplay object at 0x7d96befe3f70>\n"
          ]
        },
        {
          "output_type": "display_data",
          "data": {
            "text/plain": [
              "<Figure size 640x480 with 2 Axes>"
            ],
            "image/png": "[encoded data removed]"
          },
          "metadata": {}
        }
      ]
    },
    {
      "cell_type": "markdown",
      "source": [
        "(v)Random Forest Classifier"
      ],
      "metadata": {
        "id": "uCqpwi5ACWqM"
      }
    },
    {
      "cell_type": "code",
      "source": [
        "rf=RandomForestClassifier(n_estimators=50,random_state=1)\n",
        "rf.fit(X_train,y_train)\n",
        "y_pred_rf=rf.predict(X_test)\n",
        "print(accuracy_score(y_test,y_pred_rf)*100)\n",
        "print(classification_report(y_test,y_pred_rf,digits=4))\n",
        "print(ConfusionMatrixDisplay.from_predictions(y_test,y_pred_rf))"
      ],
      "metadata": {
        "colab": {
          "base_uri": "https://localhost:8080/",
          "height": 640
        },
        "id": "aNN8r9IdCV_0",
        "outputId": "6149bb46-5ce7-4a82-8b1d-1863da4fcf90"
      },
      "execution_count": 42,
      "outputs": [
        {
          "output_type": "stream",
          "name": "stdout",
          "text": [
            "99.83333333333333\n",
            "              precision    recall  f1-score   support\n",
            "\n",
            "           0     0.9992    0.9987    0.9989      2373\n",
            "           1     0.9952    0.9968    0.9960       627\n",
            "\n",
            "    accuracy                         0.9983      3000\n",
            "   macro avg     0.9972    0.9978    0.9975      3000\n",
            "weighted avg     0.9983    0.9983    0.9983      3000\n",
            "\n",
            "<sklearn.metrics._plot.confusion_matrix.ConfusionMatrixDisplay object at 0x7d96bf0863b0>\n"
          ]
        },
        {
          "output_type": "display_data",
          "data": {
            "text/plain": [
              "<Figure size 640x480 with 2 Axes>"
            ],
            "image/png": "[encoded data removed]"
          },
          "metadata": {}
        }
      ]
    },
    {
      "cell_type": "markdown",
      "source": [
        "(vi)AdaBoost Classifier"
      ],
      "metadata": {
        "id": "x1-Dc3fqCgNK"
      }
    },
    {
      "cell_type": "code",
      "source": [
        "ab=AdaBoostClassifier(random_state=1)\n",
        "ab.fit(X_train,y_train)\n",
        "y_pred_ab=ab.predict(X_test)\n",
        "print(accuracy_score(y_test,y_pred_ab)*100)\n",
        "print(classification_report(y_test,y_pred_ab,digits=4))\n",
        "print(ConfusionMatrixDisplay.from_predictions(y_test,y_pred_ab))"
      ],
      "metadata": {
        "colab": {
          "base_uri": "https://localhost:8080/",
          "height": 640
        },
        "id": "iZAGgE4kCfNb",
        "outputId": "08e167e1-19c0-46f9-98f9-67f5363da981"
      },
      "execution_count": 43,
      "outputs": [
        {
          "output_type": "stream",
          "name": "stdout",
          "text": [
            "99.83333333333333\n",
            "              precision    recall  f1-score   support\n",
            "\n",
            "           0     0.9992    0.9987    0.9989      2373\n",
            "           1     0.9952    0.9968    0.9960       627\n",
            "\n",
            "    accuracy                         0.9983      3000\n",
            "   macro avg     0.9972    0.9978    0.9975      3000\n",
            "weighted avg     0.9983    0.9983    0.9983      3000\n",
            "\n",
            "<sklearn.metrics._plot.confusion_matrix.ConfusionMatrixDisplay object at 0x7d96bedd3be0>\n"
          ]
        },
        {
          "output_type": "display_data",
          "data": {
            "text/plain": [
              "<Figure size 640x480 with 2 Axes>"
            ],
            "image/png": "[encoded data removed]"
          },
          "metadata": {}
        }
      ]
    },
    {
      "cell_type": "markdown",
      "source": [
        "(vii)LGBMClassifier"
      ],
      "metadata": {
        "id": "CJ9jc2VtzhkU"
      }
    },
    {
      "cell_type": "code",
      "source": [
        "lgbm=LGBMClassifier()\n",
        "lgbm.fit(X_train,y_train)\n",
        "y_pred_lgbm=lgbm.predict(X_test)\n",
        "print(accuracy_score(y_test,y_pred_lgbm)*100)\n",
        "print(classification_report(y_test,y_pred_lgbm,digits=4))\n",
        "print(ConfusionMatrixDisplay.from_predictions(y_test,y_pred_lgbm))"
      ],
      "metadata": {
        "colab": {
          "base_uri": "https://localhost:8080/",
          "height": 640
        },
        "id": "i-QcwXuYzgy9",
        "outputId": "79189961-d5c8-4095-f8ff-12da28b9b720"
      },
      "execution_count": 44,
      "outputs": [
        {
          "output_type": "stream",
          "name": "stdout",
          "text": [
            "99.83333333333333\n",
            "              precision    recall  f1-score   support\n",
            "\n",
            "           0     0.9992    0.9987    0.9989      2373\n",
            "           1     0.9952    0.9968    0.9960       627\n",
            "\n",
            "    accuracy                         0.9983      3000\n",
            "   macro avg     0.9972    0.9978    0.9975      3000\n",
            "weighted avg     0.9983    0.9983    0.9983      3000\n",
            "\n",
            "<sklearn.metrics._plot.confusion_matrix.ConfusionMatrixDisplay object at 0x7d96befe2a70>\n"
          ]
        },
        {
          "output_type": "display_data",
          "data": {
            "text/plain": [
              "<Figure size 640x480 with 2 Axes>"
            ],
            "image/png": "[encoded data removed]"
          },
          "metadata": {}
        }
      ]
    },
    {
      "cell_type": "code",
      "source": [
        "y.value_counts()"
      ],
      "metadata": {
        "colab": {
          "base_uri": "https://localhost:8080/"
        },
        "id": "2rAwHF6fC58h",
        "outputId": "150fae84-c0e4-4daf-a7d9-3941c7105a3f"
      },
      "execution_count": 45,
      "outputs": [
        {
          "output_type": "execute_result",
          "data": {
            "text/plain": [
              "0    7962\n",
              "1    2038\n",
              "Name: Exited, dtype: int64"
            ]
          },
          "metadata": {},
          "execution_count": 45
        }
      ]
    },
    {
      "cell_type": "markdown",
      "source": [
        "Here, we can see that accuracy of the dataset is pretty good but this is an imbalanced data set. So the chance of false prediction in the class with lower value counts is high.\n",
        "\n",
        "Inorder to rectify that problem, we use the oversampling method."
      ],
      "metadata": {
        "id": "cGxNNi0M7E5g"
      }
    },
    {
      "cell_type": "markdown",
      "source": [
        "#8. Balance Dataset - Over Sampling"
      ],
      "metadata": {
        "id": "qAri1K58DEcy"
      }
    },
    {
      "cell_type": "code",
      "source": [
        "os=SMOTE(random_state=1)\n",
        "X_os,y_os=os.fit_resample(X,y)"
      ],
      "metadata": {
        "id": "7REx_B5NC-KB"
      },
      "execution_count": 46,
      "outputs": []
    },
    {
      "cell_type": "code",
      "source": [
        "y_os.value_counts()"
      ],
      "metadata": {
        "colab": {
          "base_uri": "https://localhost:8080/"
        },
        "id": "J6IhyikJDwLu",
        "outputId": "6cd4c92c-2497-4d27-ecb4-75770baec3bc"
      },
      "execution_count": 47,
      "outputs": [
        {
          "output_type": "execute_result",
          "data": {
            "text/plain": [
              "1    7962\n",
              "0    7962\n",
              "Name: Exited, dtype: int64"
            ]
          },
          "metadata": {},
          "execution_count": 47
        }
      ]
    },
    {
      "cell_type": "code",
      "source": [
        "mm=MinMaxScaler()\n",
        "X_sc1=mm.fit_transform(X_os)\n",
        "X_sc1"
      ],
      "metadata": {
        "colab": {
          "base_uri": "https://localhost:8080/"
        },
        "id": "DDoNTyYbDxgU",
        "outputId": "64db84ce-8ea1-4178-fb11-568e5a428b59"
      },
      "execution_count": 48,
      "outputs": [
        {
          "output_type": "execute_result",
          "data": {
            "text/plain": [
              "array([[0.538     , 0.        , 0.        , ..., 0.25      , 0.        ,\n",
              "        0.39160045],\n",
              "       [0.516     , 1.        , 0.        , ..., 0.5       , 0.        ,\n",
              "        0.38251986],\n",
              "       [0.304     , 0.        , 0.        , ..., 0.5       , 0.        ,\n",
              "        0.29284904],\n",
              "       ...,\n",
              "       [0.266     , 0.        , 0.        , ..., 0.75      , 0.33333333,\n",
              "        0.3984109 ],\n",
              "       [0.538     , 0.5       , 1.        , ..., 0.5       , 1.        ,\n",
              "        0.30079455],\n",
              "       [0.67      , 0.5       , 0.        , ..., 0.        , 1.        ,\n",
              "        0.54143019]])"
            ]
          },
          "metadata": {},
          "execution_count": 48
        }
      ]
    },
    {
      "cell_type": "code",
      "source": [
        "X_train,X_test,y_train,y_test=train_test_split(X_sc1,y_os,test_size=0.3,random_state=1)"
      ],
      "metadata": {
        "id": "uyK7ttxJD58a"
      },
      "execution_count": 49,
      "outputs": []
    },
    {
      "cell_type": "code",
      "source": [
        "knn_os=KNeighborsClassifier(n_neighbors=11)\n",
        "sv_os=SVC(kernel='poly')\n",
        "nb_os=GaussianNB()\n",
        "clf_os=DecisionTreeClassifier(criterion='gini')\n",
        "rf_os=RandomForestClassifier(n_estimators=50,random_state=1)\n",
        "ab_os=AdaBoostClassifier(random_state=1)\n",
        "lgbm_os=LGBMClassifier()"
      ],
      "metadata": {
        "id": "D9KZMO7-D9Dm"
      },
      "execution_count": 50,
      "outputs": []
    },
    {
      "cell_type": "code",
      "source": [
        "models=[knn_os,sv_os,nb_os,clf_os,rf_os,ab_os,lgbm_os]\n",
        "for model in models:\n",
        "  print('**********',model,'**********')\n",
        "  model.fit(X_train,y_train)\n",
        "  y_pred_model=model.predict(X_test)\n",
        "  print(accuracy_score(y_test,y_pred_model)*100)\n",
        "  print(classification_report(y_test,y_pred_model,digits=4))"
      ],
      "metadata": {
        "colab": {
          "base_uri": "https://localhost:8080/"
        },
        "id": "ajwZSSB2EA-H",
        "outputId": "f0fdc496-a7e5-40ac-d98c-1837d88991b4"
      },
      "execution_count": 51,
      "outputs": [
        {
          "output_type": "stream",
          "name": "stdout",
          "text": [
            "********** KNeighborsClassifier(n_neighbors=11) **********\n",
            "99.7697781498535\n",
            "              precision    recall  f1-score   support\n",
            "\n",
            "           0     0.9970    0.9983    0.9977      2365\n",
            "           1     0.9983    0.9971    0.9977      2413\n",
            "\n",
            "    accuracy                         0.9977      4778\n",
            "   macro avg     0.9977    0.9977    0.9977      4778\n",
            "weighted avg     0.9977    0.9977    0.9977      4778\n",
            "\n",
            "********** SVC(kernel='poly') **********\n",
            "99.79070740895773\n",
            "              precision    recall  f1-score   support\n",
            "\n",
            "           0     0.9975    0.9983    0.9979      2365\n",
            "           1     0.9983    0.9975    0.9979      2413\n",
            "\n",
            "    accuracy                         0.9979      4778\n",
            "   macro avg     0.9979    0.9979    0.9979      4778\n",
            "weighted avg     0.9979    0.9979    0.9979      4778\n",
            "\n",
            "********** GaussianNB() **********\n",
            "99.7697781498535\n",
            "              precision    recall  f1-score   support\n",
            "\n",
            "           0     0.9970    0.9983    0.9977      2365\n",
            "           1     0.9983    0.9971    0.9977      2413\n",
            "\n",
            "    accuracy                         0.9977      4778\n",
            "   macro avg     0.9977    0.9977    0.9977      4778\n",
            "weighted avg     0.9977    0.9977    0.9977      4778\n",
            "\n",
            "********** DecisionTreeClassifier() **********\n",
            "99.70699037254082\n",
            "              precision    recall  f1-score   support\n",
            "\n",
            "           0     0.9983    0.9958    0.9970      2365\n",
            "           1     0.9959    0.9983    0.9971      2413\n",
            "\n",
            "    accuracy                         0.9971      4778\n",
            "   macro avg     0.9971    0.9971    0.9971      4778\n",
            "weighted avg     0.9971    0.9971    0.9971      4778\n",
            "\n",
            "********** RandomForestClassifier(n_estimators=50, random_state=1) **********\n",
            "99.79070740895773\n",
            "              precision    recall  f1-score   support\n",
            "\n",
            "           0     0.9975    0.9983    0.9979      2365\n",
            "           1     0.9983    0.9975    0.9979      2413\n",
            "\n",
            "    accuracy                         0.9979      4778\n",
            "   macro avg     0.9979    0.9979    0.9979      4778\n",
            "weighted avg     0.9979    0.9979    0.9979      4778\n",
            "\n",
            "********** AdaBoostClassifier(random_state=1) **********\n",
            "99.79070740895773\n",
            "              precision    recall  f1-score   support\n",
            "\n",
            "           0     0.9975    0.9983    0.9979      2365\n",
            "           1     0.9983    0.9975    0.9979      2413\n",
            "\n",
            "    accuracy                         0.9979      4778\n",
            "   macro avg     0.9979    0.9979    0.9979      4778\n",
            "weighted avg     0.9979    0.9979    0.9979      4778\n",
            "\n",
            "********** LGBMClassifier() **********\n",
            "99.81163666806195\n",
            "              precision    recall  f1-score   support\n",
            "\n",
            "           0     0.9979    0.9983    0.9981      2365\n",
            "           1     0.9983    0.9979    0.9981      2413\n",
            "\n",
            "    accuracy                         0.9981      4778\n",
            "   macro avg     0.9981    0.9981    0.9981      4778\n",
            "weighted avg     0.9981    0.9981    0.9981      4778\n",
            "\n"
          ]
        }
      ]
    },
    {
      "cell_type": "markdown",
      "source": [
        "#9. Hyper Parameter Tuning"
      ],
      "metadata": {
        "id": "yE0Q2zH_ENq4"
      }
    },
    {
      "cell_type": "code",
      "source": [
        "#KNeighbors Classifier\n",
        "knn1=KNeighborsClassifier()\n",
        "param1={'n_neighbors':[3,5,7,9,11,13,15],'weights':['uniform', 'distance'],'algorithm':['auto','ball_tree','kd_tree','brute']}\n",
        "hp_knn1=GridSearchCV(knn1,param1,cv=5,scoring='accuracy')\n",
        "hp_knn1.fit(X_train,y_train)\n",
        "hp_knn1.best_params_"
      ],
      "metadata": {
        "colab": {
          "base_uri": "https://localhost:8080/"
        },
        "id": "gK4DuEGSEE0D",
        "outputId": "7ff3e727-89c4-4264-e71c-28bc596a1c0c"
      },
      "execution_count": 52,
      "outputs": [
        {
          "output_type": "execute_result",
          "data": {
            "text/plain": [
              "{'algorithm': 'auto', 'n_neighbors': 11, 'weights': 'distance'}"
            ]
          },
          "metadata": {},
          "execution_count": 52
        }
      ]
    },
    {
      "cell_type": "code",
      "source": [
        "#SVC\n",
        "sv1=SVC()\n",
        "param2={'kernel':['linear','poly','rbf'],'gamma':['scale','auto']}\n",
        "hp_sv1=GridSearchCV(sv1,param2,cv=5,scoring='accuracy')\n",
        "hp_sv1.fit(X_train,y_train)\n",
        "hp_sv1.best_params_"
      ],
      "metadata": {
        "colab": {
          "base_uri": "https://localhost:8080/"
        },
        "id": "JTSf7UUeES4b",
        "outputId": "53c0eee2-220d-41cc-ca31-49f7b5eca4fe"
      },
      "execution_count": 53,
      "outputs": [
        {
          "output_type": "execute_result",
          "data": {
            "text/plain": [
              "{'gamma': 'scale', 'kernel': 'poly'}"
            ]
          },
          "metadata": {},
          "execution_count": 53
        }
      ]
    },
    {
      "cell_type": "code",
      "source": [
        "#DecisionTree Classifier\n",
        "clf1=DecisionTreeClassifier()\n",
        "param4={'criterion':['gini','entropy'],'splitter':['best','random']}\n",
        "hp_clf1=GridSearchCV(clf1,param4,cv=5,scoring='accuracy')\n",
        "hp_clf1.fit(X_train,y_train)\n",
        "hp_clf1.best_params_"
      ],
      "metadata": {
        "colab": {
          "base_uri": "https://localhost:8080/"
        },
        "id": "UofVmB1-aS2G",
        "outputId": "a561eb6d-8e38-4a2f-c07c-c57f329754a0"
      },
      "execution_count": 54,
      "outputs": [
        {
          "output_type": "execute_result",
          "data": {
            "text/plain": [
              "{'criterion': 'entropy', 'splitter': 'best'}"
            ]
          },
          "metadata": {},
          "execution_count": 54
        }
      ]
    },
    {
      "cell_type": "code",
      "source": [
        "#RandomForest Classifier\n",
        "rf1=RandomForestClassifier(random_state=1)\n",
        "params3={'n_estimators':[40,50,60,70,80,90,100],'criterion':['gini','entropy','log_loss'],'max_depth':[3,4,5,6]}\n",
        "hp_rf1=GridSearchCV(rf1,params3,cv=5,scoring='accuracy')\n",
        "hp_rf1.fit(X_train,y_train)\n",
        "hp_rf1.best_params_"
      ],
      "metadata": {
        "colab": {
          "base_uri": "https://localhost:8080/"
        },
        "id": "g6COeAw5Y2k6",
        "outputId": "154bf31b-2e37-49c2-deee-788d49c307eb"
      },
      "execution_count": 55,
      "outputs": [
        {
          "output_type": "execute_result",
          "data": {
            "text/plain": [
              "{'criterion': 'gini', 'max_depth': 6, 'n_estimators': 40}"
            ]
          },
          "metadata": {},
          "execution_count": 55
        }
      ]
    },
    {
      "cell_type": "code",
      "source": [
        "knn2=KNeighborsClassifier(algorithm='auto',n_neighbors=11,weights='distance')\n",
        "sv2=SVC(gamma='scale',kernel='poly')\n",
        "clf2=DecisionTreeClassifier(criterion='entropy',splitter='best')\n",
        "rf2=RandomForestClassifier(n_estimators=40,criterion='gini',max_depth=6,random_state=1)"
      ],
      "metadata": {
        "id": "mORRKTG3EdbQ"
      },
      "execution_count": 56,
      "outputs": []
    },
    {
      "cell_type": "code",
      "source": [
        "models=[knn2,sv2,clf2,rf2]\n",
        "for model in models:\n",
        "  print('**********',model,'**********')\n",
        "  model.fit(X_train,y_train)\n",
        "  y_pred2=model.predict(X_test)\n",
        "  print(accuracy_score(y_test,y_pred2)*100)\n",
        "  print(classification_report(y_test,y_pred2,digits=4))"
      ],
      "metadata": {
        "id": "eRM_9BaYEimU",
        "colab": {
          "base_uri": "https://localhost:8080/"
        },
        "outputId": "a5114da1-56d7-4e40-a831-8dd1a1882734"
      },
      "execution_count": 57,
      "outputs": [
        {
          "output_type": "stream",
          "name": "stdout",
          "text": [
            "********** KNeighborsClassifier(n_neighbors=11, weights='distance') **********\n",
            "99.79070740895773\n",
            "              precision    recall  f1-score   support\n",
            "\n",
            "           0     0.9975    0.9983    0.9979      2365\n",
            "           1     0.9983    0.9975    0.9979      2413\n",
            "\n",
            "    accuracy                         0.9979      4778\n",
            "   macro avg     0.9979    0.9979    0.9979      4778\n",
            "weighted avg     0.9979    0.9979    0.9979      4778\n",
            "\n",
            "********** SVC(kernel='poly') **********\n",
            "99.79070740895773\n",
            "              precision    recall  f1-score   support\n",
            "\n",
            "           0     0.9975    0.9983    0.9979      2365\n",
            "           1     0.9983    0.9975    0.9979      2413\n",
            "\n",
            "    accuracy                         0.9979      4778\n",
            "   macro avg     0.9979    0.9979    0.9979      4778\n",
            "weighted avg     0.9979    0.9979    0.9979      4778\n",
            "\n",
            "********** DecisionTreeClassifier(criterion='entropy') **********\n",
            "99.68606111343658\n",
            "              precision    recall  f1-score   support\n",
            "\n",
            "           0     0.9958    0.9979    0.9968      2365\n",
            "           1     0.9979    0.9959    0.9969      2413\n",
            "\n",
            "    accuracy                         0.9969      4778\n",
            "   macro avg     0.9969    0.9969    0.9969      4778\n",
            "weighted avg     0.9969    0.9969    0.9969      4778\n",
            "\n",
            "********** RandomForestClassifier(max_depth=6, n_estimators=40, random_state=1) **********\n",
            "99.7697781498535\n",
            "              precision    recall  f1-score   support\n",
            "\n",
            "           0     0.9970    0.9983    0.9977      2365\n",
            "           1     0.9983    0.9971    0.9977      2413\n",
            "\n",
            "    accuracy                         0.9977      4778\n",
            "   macro avg     0.9977    0.9977    0.9977      4778\n",
            "weighted avg     0.9977    0.9977    0.9977      4778\n",
            "\n"
          ]
        }
      ]
    },
    {
      "cell_type": "markdown",
      "source": [
        "#10. Feature Extraction - PCA"
      ],
      "metadata": {
        "id": "hSP_XLXGf52f"
      }
    },
    {
      "cell_type": "code",
      "source": [
        "pca=PCA(n_components=11)\n",
        "X_train=pca.fit_transform(X_train)\n",
        "X_test=pca.transform(X_test)"
      ],
      "metadata": {
        "id": "UN9-pg0Ef5J6"
      },
      "execution_count": 58,
      "outputs": []
    },
    {
      "cell_type": "code",
      "source": [
        "#KNeighbors Classifier\n",
        "knn_pca=KNeighborsClassifier(algorithm='auto',n_neighbors=11,weights='distance')\n",
        "knn_pca.fit(X_train,y_train)\n",
        "y_pred_knn_pca=knn_pca.predict(X_test)\n",
        "print(accuracy_score(y_test,y_pred_knn_pca)*100)\n",
        "print(classification_report(y_test,y_pred_knn_pca,digits=4))"
      ],
      "metadata": {
        "id": "qg41H6Jggt9H",
        "colab": {
          "base_uri": "https://localhost:8080/"
        },
        "outputId": "0e97fa90-fbbf-4a41-e949-989201340507"
      },
      "execution_count": 59,
      "outputs": [
        {
          "output_type": "stream",
          "name": "stdout",
          "text": [
            "99.7697781498535\n",
            "              precision    recall  f1-score   support\n",
            "\n",
            "           0     0.9970    0.9983    0.9977      2365\n",
            "           1     0.9983    0.9971    0.9977      2413\n",
            "\n",
            "    accuracy                         0.9977      4778\n",
            "   macro avg     0.9977    0.9977    0.9977      4778\n",
            "weighted avg     0.9977    0.9977    0.9977      4778\n",
            "\n"
          ]
        }
      ]
    },
    {
      "cell_type": "code",
      "source": [
        "pca.explained_variance_ratio_"
      ],
      "metadata": {
        "id": "OFY4yUUFiDbM",
        "colab": {
          "base_uri": "https://localhost:8080/"
        },
        "outputId": "14ddfb5c-0871-4f86-cbb1-49c7cfc256a2"
      },
      "execution_count": 60,
      "outputs": [
        {
          "output_type": "execute_result",
          "data": {
            "text/plain": [
              "array([0.23851414, 0.13168744, 0.12107151, 0.08473012, 0.08248466,\n",
              "       0.07076656, 0.06295944, 0.04874617, 0.04274653, 0.03659719,\n",
              "       0.0328227 ])"
            ]
          },
          "metadata": {},
          "execution_count": 60
        }
      ]
    },
    {
      "cell_type": "code",
      "source": [
        "#SVC\n",
        "svc_pca=SVC(gamma='scale',kernel='poly')\n",
        "svc_pca.fit(X_train,y_train)\n",
        "y_pred_svc_pca=knn_pca.predict(X_test)\n",
        "print(accuracy_score(y_test,y_pred_svc_pca)*100)\n",
        "print(classification_report(y_test,y_pred_svc_pca,digits=4))"
      ],
      "metadata": {
        "id": "GxHhtq1piH1f",
        "colab": {
          "base_uri": "https://localhost:8080/"
        },
        "outputId": "f2fcc335-f66f-499d-9e56-615d3da34dfa"
      },
      "execution_count": 61,
      "outputs": [
        {
          "output_type": "stream",
          "name": "stdout",
          "text": [
            "99.7697781498535\n",
            "              precision    recall  f1-score   support\n",
            "\n",
            "           0     0.9970    0.9983    0.9977      2365\n",
            "           1     0.9983    0.9971    0.9977      2413\n",
            "\n",
            "    accuracy                         0.9977      4778\n",
            "   macro avg     0.9977    0.9977    0.9977      4778\n",
            "weighted avg     0.9977    0.9977    0.9977      4778\n",
            "\n"
          ]
        }
      ]
    },
    {
      "cell_type": "code",
      "source": [
        "pca.explained_variance_ratio_"
      ],
      "metadata": {
        "id": "H4JUDZVvig6W",
        "colab": {
          "base_uri": "https://localhost:8080/"
        },
        "outputId": "de40a1c6-d38f-4b70-cde4-a2b90357f2a6"
      },
      "execution_count": 62,
      "outputs": [
        {
          "output_type": "execute_result",
          "data": {
            "text/plain": [
              "array([0.23851414, 0.13168744, 0.12107151, 0.08473012, 0.08248466,\n",
              "       0.07076656, 0.06295944, 0.04874617, 0.04274653, 0.03659719,\n",
              "       0.0328227 ])"
            ]
          },
          "metadata": {},
          "execution_count": 62
        }
      ]
    },
    {
      "cell_type": "code",
      "source": [
        "#Random Forest\n",
        "rf_pca=RandomForestClassifier(n_estimators=40,random_state=1)\n",
        "rf_pca.fit(X_train,y_train)\n",
        "y_pred_rf_pca=knn_pca.predict(X_test)\n",
        "print(accuracy_score(y_test,y_pred_rf_pca)*100)\n",
        "print(classification_report(y_test,y_pred_rf_pca,digits=4))"
      ],
      "metadata": {
        "id": "c_maHcfZkaQT",
        "colab": {
          "base_uri": "https://localhost:8080/"
        },
        "outputId": "45fd149a-f78f-4952-9dad-fb66803c1e69"
      },
      "execution_count": 63,
      "outputs": [
        {
          "output_type": "stream",
          "name": "stdout",
          "text": [
            "99.7697781498535\n",
            "              precision    recall  f1-score   support\n",
            "\n",
            "           0     0.9970    0.9983    0.9977      2365\n",
            "           1     0.9983    0.9971    0.9977      2413\n",
            "\n",
            "    accuracy                         0.9977      4778\n",
            "   macro avg     0.9977    0.9977    0.9977      4778\n",
            "weighted avg     0.9977    0.9977    0.9977      4778\n",
            "\n"
          ]
        }
      ]
    },
    {
      "cell_type": "code",
      "source": [
        "pca.explained_variance_ratio_"
      ],
      "metadata": {
        "id": "o6NIu7cFk2xD",
        "colab": {
          "base_uri": "https://localhost:8080/"
        },
        "outputId": "a00381be-8885-462e-f4d8-bfb76290e740"
      },
      "execution_count": 64,
      "outputs": [
        {
          "output_type": "execute_result",
          "data": {
            "text/plain": [
              "array([0.23851414, 0.13168744, 0.12107151, 0.08473012, 0.08248466,\n",
              "       0.07076656, 0.06295944, 0.04874617, 0.04274653, 0.03659719,\n",
              "       0.0328227 ])"
            ]
          },
          "metadata": {},
          "execution_count": 64
        }
      ]
    },
    {
      "cell_type": "markdown",
      "source": [
        "#11. Feature Selection"
      ],
      "metadata": {
        "id": "_jQ7xlOklCvK"
      }
    },
    {
      "cell_type": "code",
      "source": [
        "chi2_select=SelectKBest(chi2,k=10)\n",
        "X_kbest=chi2_select.fit_transform(X_sc1,y_os)\n",
        "X_kbest.shape"
      ],
      "metadata": {
        "id": "huzFJ0jnlHH7",
        "colab": {
          "base_uri": "https://localhost:8080/"
        },
        "outputId": "66584117-cdfc-4363-d6b7-12c3e0cb9530"
      },
      "execution_count": 65,
      "outputs": [
        {
          "output_type": "execute_result",
          "data": {
            "text/plain": [
              "(15924, 10)"
            ]
          },
          "metadata": {},
          "execution_count": 65
        }
      ]
    },
    {
      "cell_type": "code",
      "source": [
        "selected_features=chi2_select.fit_transform(X_sc1,y_os)\n",
        "selected_feature_indices=chi2_select.get_support(indices=True)\n",
        "print('Selected_feature_names:',X_os.columns[selected_feature_indices].tolist())"
      ],
      "metadata": {
        "colab": {
          "base_uri": "https://localhost:8080/"
        },
        "id": "61wygcTVbVew",
        "outputId": "119fd618-6972-41a2-dbb0-b12c9ffd4b65"
      },
      "execution_count": 66,
      "outputs": [
        {
          "output_type": "stream",
          "name": "stdout",
          "text": [
            "Selected_feature_names: ['Geography', 'Gender', 'Age', 'Balance', 'NumOfProducts', 'HasCrCard', 'IsActiveMember', 'Complain', 'Satisfaction Score', 'Card Type']\n"
          ]
        }
      ]
    },
    {
      "cell_type": "code",
      "source": [
        "X_os.drop(['CreditScore','Tenure','EstimatedSalary','Point Earned'],axis=1,inplace=True)\n"
      ],
      "metadata": {
        "id": "1o_MOTgzIyza"
      },
      "execution_count": 69,
      "outputs": []
    },
    {
      "cell_type": "code",
      "source": [
        "X_os"
      ],
      "metadata": {
        "colab": {
          "base_uri": "https://localhost:8080/",
          "height": 423
        },
        "id": "4UfWFnPYJH8e",
        "outputId": "4a39e49d-0de3-4735-96eb-e2f25b1ecc1d"
      },
      "execution_count": 70,
      "outputs": [
        {
          "output_type": "execute_result",
          "data": {
            "text/plain": [
              "       Geography  Gender  Age        Balance  NumOfProducts  HasCrCard  \\\n",
              "0              0       0   42       0.000000              1          1   \n",
              "1              2       0   41   83807.860000              1          0   \n",
              "2              0       0   42  159660.800000              3          1   \n",
              "3              0       0   39       0.000000              2          0   \n",
              "4              2       0   43  125510.820000              1          1   \n",
              "...          ...     ...  ...            ...            ...        ...   \n",
              "15919          1       1   43   88232.099299              2          1   \n",
              "15920          0       0   34   70527.920705              1          0   \n",
              "15921          0       0   45  144949.077444              1          1   \n",
              "15922          1       1   47  101276.972553              1          0   \n",
              "15923          1       0   31  101077.953098              2          1   \n",
              "\n",
              "       IsActiveMember  Complain  Satisfaction Score  Card Type  \n",
              "0                   1         1                   2          0  \n",
              "1                   1         1                   3          0  \n",
              "2                   0         1                   3          0  \n",
              "3                   0         0                   5          1  \n",
              "4                   1         0                   5          1  \n",
              "...               ...       ...                 ...        ...  \n",
              "15919               0         1                   2          2  \n",
              "15920               0         1                   5          1  \n",
              "15921               0         1                   4          1  \n",
              "15922               0         1                   3          3  \n",
              "15923               0         1                   1          3  \n",
              "\n",
              "[15924 rows x 10 columns]"
            ],
            "text/html": [
              "\n",
              "\n",
              "  <div id=\"df-f53d4ae0-79a9-4bb3-a515-6903a2278ddb\">\n",
              "    <div class=\"colab-df-container\">\n",
              "      <div>\n",
              "<style scoped>\n",
              "    .dataframe tbody tr th:only-of-type {\n",
              "        vertical-align: middle;\n",
              "    }\n",
              "\n",
              "    .dataframe tbody tr th {\n",
              "        vertical-align: top;\n",
              "    }\n",
              "\n",
              "    .dataframe thead th {\n",
              "        text-align: right;\n",
              "    }\n",
              "</style>\n",
              "<table border=\"1\" class=\"dataframe\">\n",
              "  <thead>\n",
              "    <tr style=\"text-align: right;\">\n",
              "      <th></th>\n",
              "      <th>Geography</th>\n",
              "      <th>Gender</th>\n",
              "      <th>Age</th>\n",
              "      <th>Balance</th>\n",
              "      <th>NumOfProducts</th>\n",
              "      <th>HasCrCard</th>\n",
              "      <th>IsActiveMember</th>\n",
              "      <th>Complain</th>\n",
              "      <th>Satisfaction Score</th>\n",
              "      <th>Card Type</th>\n",
              "    </tr>\n",
              "  </thead>\n",
              "  <tbody>\n",
              "    <tr>\n",
              "      <th>0</th>\n",
              "      <td>0</td>\n",
              "      <td>0</td>\n",
              "      <td>42</td>\n",
              "      <td>0.000000</td>\n",
              "      <td>1</td>\n",
              "      <td>1</td>\n",
              "      <td>1</td>\n",
              "      <td>1</td>\n",
              "      <td>2</td>\n",
              "      <td>0</td>\n",
              "    </tr>\n",
              "    <tr>\n",
              "      <th>1</th>\n",
              "      <td>2</td>\n",
              "      <td>0</td>\n",
              "      <td>41</td>\n",
              "      <td>83807.860000</td>\n",
              "      <td>1</td>\n",
              "      <td>0</td>\n",
              "      <td>1</td>\n",
              "      <td>1</td>\n",
              "      <td>3</td>\n",
              "      <td>0</td>\n",
              "    </tr>\n",
              "    <tr>\n",
              "      <th>2</th>\n",
              "      <td>0</td>\n",
              "      <td>0</td>\n",
              "      <td>42</td>\n",
              "      <td>159660.800000</td>\n",
              "      <td>3</td>\n",
              "      <td>1</td>\n",
              "      <td>0</td>\n",
              "      <td>1</td>\n",
              "      <td>3</td>\n",
              "      <td>0</td>\n",
              "    </tr>\n",
              "    <tr>\n",
              "      <th>3</th>\n",
              "      <td>0</td>\n",
              "      <td>0</td>\n",
              "      <td>39</td>\n",
              "      <td>0.000000</td>\n",
              "      <td>2</td>\n",
              "      <td>0</td>\n",
              "      <td>0</td>\n",
              "      <td>0</td>\n",
              "      <td>5</td>\n",
              "      <td>1</td>\n",
              "    </tr>\n",
              "    <tr>\n",
              "      <th>4</th>\n",
              "      <td>2</td>\n",
              "      <td>0</td>\n",
              "      <td>43</td>\n",
              "      <td>125510.820000</td>\n",
              "      <td>1</td>\n",
              "      <td>1</td>\n",
              "      <td>1</td>\n",
              "      <td>0</td>\n",
              "      <td>5</td>\n",
              "      <td>1</td>\n",
              "    </tr>\n",
              "    <tr>\n",
              "      <th>...</th>\n",
              "      <td>...</td>\n",
              "      <td>...</td>\n",
              "      <td>...</td>\n",
              "      <td>...</td>\n",
              "      <td>...</td>\n",
              "      <td>...</td>\n",
              "      <td>...</td>\n",
              "      <td>...</td>\n",
              "      <td>...</td>\n",
              "      <td>...</td>\n",
              "    </tr>\n",
              "    <tr>\n",
              "      <th>15919</th>\n",
              "      <td>1</td>\n",
              "      <td>1</td>\n",
              "      <td>43</td>\n",
              "      <td>88232.099299</td>\n",
              "      <td>2</td>\n",
              "      <td>1</td>\n",
              "      <td>0</td>\n",
              "      <td>1</td>\n",
              "      <td>2</td>\n",
              "      <td>2</td>\n",
              "    </tr>\n",
              "    <tr>\n",
              "      <th>15920</th>\n",
              "      <td>0</td>\n",
              "      <td>0</td>\n",
              "      <td>34</td>\n",
              "      <td>70527.920705</td>\n",
              "      <td>1</td>\n",
              "      <td>0</td>\n",
              "      <td>0</td>\n",
              "      <td>1</td>\n",
              "      <td>5</td>\n",
              "      <td>1</td>\n",
              "    </tr>\n",
              "    <tr>\n",
              "      <th>15921</th>\n",
              "      <td>0</td>\n",
              "      <td>0</td>\n",
              "      <td>45</td>\n",
              "      <td>144949.077444</td>\n",
              "      <td>1</td>\n",
              "      <td>1</td>\n",
              "      <td>0</td>\n",
              "      <td>1</td>\n",
              "      <td>4</td>\n",
              "      <td>1</td>\n",
              "    </tr>\n",
              "    <tr>\n",
              "      <th>15922</th>\n",
              "      <td>1</td>\n",
              "      <td>1</td>\n",
              "      <td>47</td>\n",
              "      <td>101276.972553</td>\n",
              "      <td>1</td>\n",
              "      <td>0</td>\n",
              "      <td>0</td>\n",
              "      <td>1</td>\n",
              "      <td>3</td>\n",
              "      <td>3</td>\n",
              "    </tr>\n",
              "    <tr>\n",
              "      <th>15923</th>\n",
              "      <td>1</td>\n",
              "      <td>0</td>\n",
              "      <td>31</td>\n",
              "      <td>101077.953098</td>\n",
              "      <td>2</td>\n",
              "      <td>1</td>\n",
              "      <td>0</td>\n",
              "      <td>1</td>\n",
              "      <td>1</td>\n",
              "      <td>3</td>\n",
              "    </tr>\n",
              "  </tbody>\n",
              "</table>\n",
              "<p>15924 rows × 10 columns</p>\n",
              "</div>\n",
              "      <button class=\"colab-df-convert\" onclick=\"convertToInteractive('df-f53d4ae0-79a9-4bb3-a515-6903a2278ddb')\"\n",
              "              title=\"Convert this dataframe to an interactive table.\"\n",
              "              style=\"display:none;\">\n",
              "\n",
              "  <svg xmlns=\"http://www.w3.org/2000/svg\" height=\"24px\"viewBox=\"0 0 24 24\"\n",
              "       width=\"24px\">\n",
              "    <path d=\"M0 0h24v24H0V0z\" fill=\"none\"/>\n",
              "    <path d=\"M18.56 5.44l.94 2.06.94-2.06 2.06-.94-2.06-.94-.94-2.06-.94 2.06-2.06.94zm-11 1L8.5 8.5l.94-2.06 2.06-.94-2.06-.94L8.5 2.5l-.94 2.06-2.06.94zm10 10l.94 2.06.94-2.06 2.06-.94-2.06-.94-.94-2.06-.94 2.06-2.06.94z\"/><path d=\"M17.41 7.96l-1.37-1.37c-.4-.4-.92-.59-1.43-.59-.52 0-1.04.2-1.43.59L10.3 9.45l-7.72 7.72c-.78.78-.78 2.05 0 2.83L4 21.41c.39.39.9.59 1.41.59.51 0 1.02-.2 1.41-.59l7.78-7.78 2.81-2.81c.8-.78.8-2.07 0-2.86zM5.41 20L4 18.59l7.72-7.72 1.47 1.35L5.41 20z\"/>\n",
              "  </svg>\n",
              "      </button>\n",
              "\n",
              "\n",
              "\n",
              "    <div id=\"df-da5a2380-e3c3-4892-8a62-9cdb2ac93130\">\n",
              "      <button class=\"colab-df-quickchart\" onclick=\"quickchart('df-da5a2380-e3c3-4892-8a62-9cdb2ac93130')\"\n",
              "              title=\"Suggest charts.\"\n",
              "              style=\"display:none;\">\n",
              "\n",
              "<svg xmlns=\"http://www.w3.org/2000/svg\" height=\"24px\"viewBox=\"0 0 24 24\"\n",
              "     width=\"24px\">\n",
              "    <g>\n",
              "        <path d=\"M19 3H5c-1.1 0-2 .9-2 2v14c0 1.1.9 2 2 2h14c1.1 0 2-.9 2-2V5c0-1.1-.9-2-2-2zM9 17H7v-7h2v7zm4 0h-2V7h2v10zm4 0h-2v-4h2v4z\"/>\n",
              "    </g>\n",
              "</svg>\n",
              "      </button>\n",
              "    </div>\n",
              "\n",
              "<style>\n",
              "  .colab-df-quickchart {\n",
              "    background-color: #E8F0FE;\n",
              "    border: none;\n",
              "    border-radius: 50%;\n",
              "    cursor: pointer;\n",
              "    display: none;\n",
              "    fill: #1967D2;\n",
              "    height: 32px;\n",
              "    padding: 0 0 0 0;\n",
              "    width: 32px;\n",
              "  }\n",
              "\n",
              "  .colab-df-quickchart:hover {\n",
              "    background-color: #E2EBFA;\n",
              "    box-shadow: 0px 1px 2px rgba(60, 64, 67, 0.3), 0px 1px 3px 1px rgba(60, 64, 67, 0.15);\n",
              "    fill: #174EA6;\n",
              "  }\n",
              "\n",
              "  [theme=dark] .colab-df-quickchart {\n",
              "    background-color: #3B4455;\n",
              "    fill: #D2E3FC;\n",
              "  }\n",
              "\n",
              "  [theme=dark] .colab-df-quickchart:hover {\n",
              "    background-color: #434B5C;\n",
              "    box-shadow: 0px 1px 3px 1px rgba(0, 0, 0, 0.15);\n",
              "    filter: drop-shadow(0px 1px 2px rgba(0, 0, 0, 0.3));\n",
              "    fill: #FFFFFF;\n",
              "  }\n",
              "</style>\n",
              "\n",
              "    <script>\n",
              "      async function quickchart(key) {\n",
              "        const containerElement = document.querySelector('#' + key);\n",
              "        const charts = await google.colab.kernel.invokeFunction(\n",
              "            'suggestCharts', [key], {});\n",
              "      }\n",
              "    </script>\n",
              "\n",
              "      <script>\n",
              "\n",
              "function displayQuickchartButton(domScope) {\n",
              "  let quickchartButtonEl =\n",
              "    domScope.querySelector('#df-da5a2380-e3c3-4892-8a62-9cdb2ac93130 button.colab-df-quickchart');\n",
              "  quickchartButtonEl.style.display =\n",
              "    google.colab.kernel.accessAllowed ? 'block' : 'none';\n",
              "}\n",
              "\n",
              "        displayQuickchartButton(document);\n",
              "      </script>\n",
              "      <style>\n",
              "    .colab-df-container {\n",
              "      display:flex;\n",
              "      flex-wrap:wrap;\n",
              "      gap: 12px;\n",
              "    }\n",
              "\n",
              "    .colab-df-convert {\n",
              "      background-color: #E8F0FE;\n",
              "      border: none;\n",
              "      border-radius: 50%;\n",
              "      cursor: pointer;\n",
              "      display: none;\n",
              "      fill: #1967D2;\n",
              "      height: 32px;\n",
              "      padding: 0 0 0 0;\n",
              "      width: 32px;\n",
              "    }\n",
              "\n",
              "    .colab-df-convert:hover {\n",
              "      background-color: #E2EBFA;\n",
              "      box-shadow: 0px 1px 2px rgba(60, 64, 67, 0.3), 0px 1px 3px 1px rgba(60, 64, 67, 0.15);\n",
              "      fill: #174EA6;\n",
              "    }\n",
              "\n",
              "    [theme=dark] .colab-df-convert {\n",
              "      background-color: #3B4455;\n",
              "      fill: #D2E3FC;\n",
              "    }\n",
              "\n",
              "    [theme=dark] .colab-df-convert:hover {\n",
              "      background-color: #434B5C;\n",
              "      box-shadow: 0px 1px 3px 1px rgba(0, 0, 0, 0.15);\n",
              "      filter: drop-shadow(0px 1px 2px rgba(0, 0, 0, 0.3));\n",
              "      fill: #FFFFFF;\n",
              "    }\n",
              "  </style>\n",
              "\n",
              "      <script>\n",
              "        const buttonEl =\n",
              "          document.querySelector('#df-f53d4ae0-79a9-4bb3-a515-6903a2278ddb button.colab-df-convert');\n",
              "        buttonEl.style.display =\n",
              "          google.colab.kernel.accessAllowed ? 'block' : 'none';\n",
              "\n",
              "        async function convertToInteractive(key) {\n",
              "          const element = document.querySelector('#df-f53d4ae0-79a9-4bb3-a515-6903a2278ddb');\n",
              "          const dataTable =\n",
              "            await google.colab.kernel.invokeFunction('convertToInteractive',\n",
              "                                                     [key], {});\n",
              "          if (!dataTable) return;\n",
              "\n",
              "          const docLinkHtml = 'Like what you see? Visit the ' +\n",
              "            '<a target=\"_blank\" href=https://colab.research.google.com/notebooks/data_table.ipynb>data table notebook</a>'\n",
              "            + ' to learn more about interactive tables.';\n",
              "          element.innerHTML = '';\n",
              "          dataTable['output_type'] = 'display_data';\n",
              "          await google.colab.output.renderOutput(dataTable, element);\n",
              "          const docLink = document.createElement('div');\n",
              "          docLink.innerHTML = docLinkHtml;\n",
              "          element.appendChild(docLink);\n",
              "        }\n",
              "      </script>\n",
              "    </div>\n",
              "  </div>\n"
            ]
          },
          "metadata": {},
          "execution_count": 70
        }
      ]
    },
    {
      "cell_type": "code",
      "source": [
        "mm2=MinMaxScaler()\n",
        "X_sc2=mm2.fit_transform(X_os)\n",
        "X_sc2"
      ],
      "metadata": {
        "id": "fXeSYx8Sca_z",
        "colab": {
          "base_uri": "https://localhost:8080/"
        },
        "outputId": "9652040e-8cca-4a8b-f71e-f75de553871a"
      },
      "execution_count": 84,
      "outputs": [
        {
          "output_type": "execute_result",
          "data": {
            "text/plain": [
              "array([[0.        , 0.        , 0.32432432, ..., 1.        , 0.25      ,\n",
              "        0.        ],\n",
              "       [1.        , 0.        , 0.31081081, ..., 1.        , 0.5       ,\n",
              "        0.        ],\n",
              "       [0.        , 0.        , 0.32432432, ..., 1.        , 0.5       ,\n",
              "        0.        ],\n",
              "       ...,\n",
              "       [0.        , 0.        , 0.36486486, ..., 1.        , 0.75      ,\n",
              "        0.33333333],\n",
              "       [0.5       , 1.        , 0.39189189, ..., 1.        , 0.5       ,\n",
              "        1.        ],\n",
              "       [0.5       , 0.        , 0.17567568, ..., 1.        , 0.        ,\n",
              "        1.        ]])"
            ]
          },
          "metadata": {},
          "execution_count": 84
        }
      ]
    },
    {
      "cell_type": "code",
      "source": [
        "X_train,X_test,y_train,y_test=train_test_split(X_sc2,y_os,test_size=0.3,random_state=1)"
      ],
      "metadata": {
        "id": "4v9y7PUTl9Dd"
      },
      "execution_count": 85,
      "outputs": []
    },
    {
      "cell_type": "code",
      "source": [
        "#KNeighbors Classifier\n",
        "knn_chi=KNeighborsClassifier(algorithm='auto',n_neighbors=11,weights='distance')\n",
        "knn_chi.fit(X_train,y_train)\n",
        "y_pred_knn_chi=knn_chi.predict(X_test)\n",
        "print(accuracy_score(y_test,y_pred_knn_chi)*100)\n",
        "print(classification_report(y_test,y_pred_knn_chi,digits=4))"
      ],
      "metadata": {
        "id": "JT4wqTG6mKi_",
        "colab": {
          "base_uri": "https://localhost:8080/"
        },
        "outputId": "87d76d9e-42e4-4752-b70e-f425ea66c6c7"
      },
      "execution_count": 86,
      "outputs": [
        {
          "output_type": "stream",
          "name": "stdout",
          "text": [
            "99.7697781498535\n",
            "              precision    recall  f1-score   support\n",
            "\n",
            "           0     0.9970    0.9983    0.9977      2365\n",
            "           1     0.9983    0.9971    0.9977      2413\n",
            "\n",
            "    accuracy                         0.9977      4778\n",
            "   macro avg     0.9977    0.9977    0.9977      4778\n",
            "weighted avg     0.9977    0.9977    0.9977      4778\n",
            "\n"
          ]
        }
      ]
    },
    {
      "cell_type": "code",
      "source": [
        "#SVC\n",
        "svc_chi=SVC(gamma='scale',kernel='poly')\n",
        "svc_chi.fit(X_train,y_train)\n",
        "y_pred_svc_chi=svc_chi.predict(X_test)\n",
        "print(accuracy_score(y_test,y_pred_svc_chi)*100)\n",
        "print(classification_report(y_test,y_pred_svc_chi,digits=4))"
      ],
      "metadata": {
        "id": "a_d80AYLm5vX",
        "colab": {
          "base_uri": "https://localhost:8080/"
        },
        "outputId": "2979879e-d491-4fbe-9c9b-95e7b34c0f0d"
      },
      "execution_count": 87,
      "outputs": [
        {
          "output_type": "stream",
          "name": "stdout",
          "text": [
            "99.7697781498535\n",
            "              precision    recall  f1-score   support\n",
            "\n",
            "           0     0.9970    0.9983    0.9977      2365\n",
            "           1     0.9983    0.9971    0.9977      2413\n",
            "\n",
            "    accuracy                         0.9977      4778\n",
            "   macro avg     0.9977    0.9977    0.9977      4778\n",
            "weighted avg     0.9977    0.9977    0.9977      4778\n",
            "\n"
          ]
        }
      ]
    },
    {
      "cell_type": "code",
      "source": [
        "#Random Forest Classifier\n",
        "rf_chi=RandomForestClassifier(n_estimators=40,random_state=1)\n",
        "rf_chi.fit(X_train,y_train)\n",
        "y_pred_rf_chi=rf_chi.predict(X_test)\n",
        "print(accuracy_score(y_test,y_pred_rf_chi)*100)\n",
        "print(classification_report(y_test,y_pred_rf_chi,digits=4))"
      ],
      "metadata": {
        "id": "RjO0tQzenNpJ",
        "colab": {
          "base_uri": "https://localhost:8080/"
        },
        "outputId": "628a4983-b6c3-47f1-a616-b5dda99d1151"
      },
      "execution_count": 88,
      "outputs": [
        {
          "output_type": "stream",
          "name": "stdout",
          "text": [
            "99.79070740895773\n",
            "              precision    recall  f1-score   support\n",
            "\n",
            "           0     0.9975    0.9983    0.9979      2365\n",
            "           1     0.9983    0.9975    0.9979      2413\n",
            "\n",
            "    accuracy                         0.9979      4778\n",
            "   macro avg     0.9979    0.9979    0.9979      4778\n",
            "weighted avg     0.9979    0.9979    0.9979      4778\n",
            "\n"
          ]
        }
      ]
    },
    {
      "cell_type": "markdown",
      "source": [
        "#**Conclusion** - The most accurate model is using KNeighbors Classifier, SVC and Random Forest Classifier after Feature Selection."
      ],
      "metadata": {
        "id": "0zW2mAH1Eo2V"
      }
    },
    {
      "cell_type": "markdown",
      "source": [
        "#New Prediction"
      ],
      "metadata": {
        "id": "3IF4w25O3pBL"
      }
    },
    {
      "cell_type": "code",
      "source": [
        "data={'Geography':['France'],'Gender':['Female'],'Age':[42],'Balance':[0.00],'NumOfProducts':[1],'HasCrCard':[1],'IsActiveMember':[1],'Complain':[1],'Satisfaction Score':[2],'Card Type':['Diamond']}\n",
        "df_pred=pd.DataFrame(data)\n",
        "df_pred['Geography'] = geo.fit_transform(df_pred['Geography'])\n",
        "df_pred['Gender'] = gen.fit_transform(df_pred['Gender'])\n",
        "df_pred['Card Type'] = ca.fit_transform(df_pred['Card Type'])"
      ],
      "metadata": {
        "id": "rakfKcdI3uAf"
      },
      "execution_count": 89,
      "outputs": []
    },
    {
      "cell_type": "markdown",
      "source": [
        "(i) Prediction using KNeighbors Classifier"
      ],
      "metadata": {
        "id": "K2YBnPeqJJi0"
      }
    },
    {
      "cell_type": "code",
      "source": [
        "y_new=knn_chi.predict(mm2.transform(df_pred))\n",
        "if y_new==0:\n",
        "  print('The customer will Stay')\n",
        "else:\n",
        "  print('The Customer Exited')"
      ],
      "metadata": {
        "id": "tXV_q0vAJRq2",
        "colab": {
          "base_uri": "https://localhost:8080/"
        },
        "outputId": "ebeb1842-aa71-4427-9550-7ffc9405fe0f"
      },
      "execution_count": 90,
      "outputs": [
        {
          "output_type": "stream",
          "name": "stdout",
          "text": [
            "The Customer Exited\n"
          ]
        }
      ]
    },
    {
      "cell_type": "markdown",
      "source": [
        "(ii) Prediction using SVC"
      ],
      "metadata": {
        "id": "lT3UNfISJdqC"
      }
    },
    {
      "cell_type": "code",
      "source": [
        "y_new=svc_chi.predict(mm2.transform(df_pred))\n",
        "if y_new==0:\n",
        "  print('The customer will Stay')\n",
        "else:\n",
        "  print('The Customer Exited')"
      ],
      "metadata": {
        "id": "kpvEeMBiJh47",
        "colab": {
          "base_uri": "https://localhost:8080/"
        },
        "outputId": "c558b7f0-11eb-4b13-8fd6-e5be9c09162b"
      },
      "execution_count": 91,
      "outputs": [
        {
          "output_type": "stream",
          "name": "stdout",
          "text": [
            "The Customer Exited\n"
          ]
        }
      ]
    },
    {
      "cell_type": "markdown",
      "source": [
        "(iii) Prediction using Random Forest Classifier"
      ],
      "metadata": {
        "id": "VVtOqjKwfyVY"
      }
    },
    {
      "cell_type": "code",
      "source": [
        "y_new=rf_chi.predict(mm2.transform(df_pred))\n",
        "if y_new==0:\n",
        "  print('The customer will Stay')\n",
        "else:\n",
        "  print('The Customer Exited')"
      ],
      "metadata": {
        "colab": {
          "base_uri": "https://localhost:8080/"
        },
        "id": "XmdO3dPlf8-R",
        "outputId": "2718e8ab-6a63-4f8f-d890-625fe5b96c95"
      },
      "execution_count": 92,
      "outputs": [
        {
          "output_type": "stream",
          "name": "stdout",
          "text": [
            "The Customer Exited\n"
          ]
        }
      ]
    },
    {
      "cell_type": "markdown",
      "source": [
        "#Saving Model"
      ],
      "metadata": {
        "id": "aSjHLscOMHol"
      }
    },
    {
      "cell_type": "code",
      "source": [
        "import pickle"
      ],
      "metadata": {
        "id": "JF7-jWNbMOht"
      },
      "execution_count": 93,
      "outputs": []
    },
    {
      "cell_type": "code",
      "source": [
        "#saving the model\n",
        "pickle.dump(svc_chi,open('model.sav','wb'))\n",
        "#saving objects\n",
        "objects=[geo,gen,ca,mm]\n",
        "pickle.dump(objects,open('objects.sav','wb'))"
      ],
      "metadata": {
        "id": "L49VNwKsM3CW"
      },
      "execution_count": 94,
      "outputs": []
    },
    {
      "cell_type": "code",
      "source": [
        "#loading\n",
        "model=pickle.load(open('model.sav','rb'))\n",
        "objects1=pickle.load(open('objects.sav','rb'))\n",
        "objects1"
      ],
      "metadata": {
        "id": "-hurEzjZN_4O",
        "colab": {
          "base_uri": "https://localhost:8080/"
        },
        "outputId": "ff7ee9e6-d2c7-4f1f-df27-39fb7afef8af"
      },
      "execution_count": 95,
      "outputs": [
        {
          "output_type": "execute_result",
          "data": {
            "text/plain": [
              "[LabelEncoder(), LabelEncoder(), LabelEncoder(), MinMaxScaler()]"
            ]
          },
          "metadata": {},
          "execution_count": 95
        }
      ]
    }
  ]
}